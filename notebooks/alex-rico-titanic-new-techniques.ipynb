{
 "cells": [
  {
   "cell_type": "markdown",
   "metadata": {},
   "source": [
    "# Warning!"
   ]
  },
  {
   "cell_type": "markdown",
   "metadata": {},
   "source": [
    "This is a Notebook where I share some of my Data Science skills. The objective of this notebook is not to get the best prediction score!"
   ]
  },
  {
   "cell_type": "markdown",
   "metadata": {},
   "source": [
    "# Data Analysis"
   ]
  },
  {
   "cell_type": "code",
   "execution_count": 23,
   "metadata": {
    "_cell_guid": "b1076dfc-b9ad-4769-8c92-a6c4dae69d19",
    "_uuid": "8f2839f25d086af736a60e9eeb907d3b93b6e0e5",
    "execution": {
     "iopub.execute_input": "2023-11-22T15:28:36.851241Z",
     "iopub.status.busy": "2023-11-22T15:28:36.850863Z",
     "iopub.status.idle": "2023-11-22T15:28:36.891673Z",
     "shell.execute_reply": "2023-11-22T15:28:36.890673Z",
     "shell.execute_reply.started": "2023-11-22T15:28:36.851211Z"
    }
   },
   "outputs": [],
   "source": [
    "# This Python 3 environment comes with many helpful analytics libraries installed\n",
    "# It is defined by the kaggle/python Docker image: https://github.com/kaggle/docker-python\n",
    "# For example, here's several helpful packages to load\n",
    "\n",
    "import numpy as np # linear algebra\n",
    "import pandas as pd # data processing, CSV file I/O (e.g. pd.read_csv)\n",
    "import warnings\n",
    "from scipy.stats import ttest_ind, chi2_contingency, f_oneway, zscore\n",
    "warnings.filterwarnings('ignore')\n"
   ]
  },
  {
   "cell_type": "code",
   "execution_count": 2,
   "metadata": {
    "execution": {
     "iopub.execute_input": "2023-11-22T15:28:36.894651Z",
     "iopub.status.busy": "2023-11-22T15:28:36.893688Z",
     "iopub.status.idle": "2023-11-22T15:28:36.933746Z",
     "shell.execute_reply": "2023-11-22T15:28:36.932689Z",
     "shell.execute_reply.started": "2023-11-22T15:28:36.894613Z"
    }
   },
   "outputs": [],
   "source": [
    "train = pd.read_csv('../data/train.csv')\n",
    "test = pd.read_csv('../data/test.csv')\n"
   ]
  },
  {
   "cell_type": "code",
   "execution_count": 3,
   "metadata": {
    "execution": {
     "iopub.execute_input": "2023-11-22T15:28:36.935697Z",
     "iopub.status.busy": "2023-11-22T15:28:36.935171Z",
     "iopub.status.idle": "2023-11-22T15:28:36.977378Z",
     "shell.execute_reply": "2023-11-22T15:28:36.976111Z",
     "shell.execute_reply.started": "2023-11-22T15:28:36.935655Z"
    }
   },
   "outputs": [
    {
     "data": {
      "text/html": [
       "<div>\n",
       "<style scoped>\n",
       "    .dataframe tbody tr th:only-of-type {\n",
       "        vertical-align: middle;\n",
       "    }\n",
       "\n",
       "    .dataframe tbody tr th {\n",
       "        vertical-align: top;\n",
       "    }\n",
       "\n",
       "    .dataframe thead th {\n",
       "        text-align: right;\n",
       "    }\n",
       "</style>\n",
       "<table border=\"1\" class=\"dataframe\">\n",
       "  <thead>\n",
       "    <tr style=\"text-align: right;\">\n",
       "      <th></th>\n",
       "      <th>PassengerId</th>\n",
       "      <th>Survived</th>\n",
       "      <th>Pclass</th>\n",
       "      <th>Name</th>\n",
       "      <th>Sex</th>\n",
       "      <th>Age</th>\n",
       "      <th>SibSp</th>\n",
       "      <th>Parch</th>\n",
       "      <th>Ticket</th>\n",
       "      <th>Fare</th>\n",
       "      <th>Cabin</th>\n",
       "      <th>Embarked</th>\n",
       "    </tr>\n",
       "  </thead>\n",
       "  <tbody>\n",
       "    <tr>\n",
       "      <th>0</th>\n",
       "      <td>1</td>\n",
       "      <td>0</td>\n",
       "      <td>3</td>\n",
       "      <td>Braund, Mr. Owen Harris</td>\n",
       "      <td>male</td>\n",
       "      <td>22.0</td>\n",
       "      <td>1</td>\n",
       "      <td>0</td>\n",
       "      <td>A/5 21171</td>\n",
       "      <td>7.2500</td>\n",
       "      <td>NaN</td>\n",
       "      <td>S</td>\n",
       "    </tr>\n",
       "    <tr>\n",
       "      <th>1</th>\n",
       "      <td>2</td>\n",
       "      <td>1</td>\n",
       "      <td>1</td>\n",
       "      <td>Cumings, Mrs. John Bradley (Florence Briggs Th...</td>\n",
       "      <td>female</td>\n",
       "      <td>38.0</td>\n",
       "      <td>1</td>\n",
       "      <td>0</td>\n",
       "      <td>PC 17599</td>\n",
       "      <td>71.2833</td>\n",
       "      <td>C85</td>\n",
       "      <td>C</td>\n",
       "    </tr>\n",
       "    <tr>\n",
       "      <th>2</th>\n",
       "      <td>3</td>\n",
       "      <td>1</td>\n",
       "      <td>3</td>\n",
       "      <td>Heikkinen, Miss. Laina</td>\n",
       "      <td>female</td>\n",
       "      <td>26.0</td>\n",
       "      <td>0</td>\n",
       "      <td>0</td>\n",
       "      <td>STON/O2. 3101282</td>\n",
       "      <td>7.9250</td>\n",
       "      <td>NaN</td>\n",
       "      <td>S</td>\n",
       "    </tr>\n",
       "    <tr>\n",
       "      <th>3</th>\n",
       "      <td>4</td>\n",
       "      <td>1</td>\n",
       "      <td>1</td>\n",
       "      <td>Futrelle, Mrs. Jacques Heath (Lily May Peel)</td>\n",
       "      <td>female</td>\n",
       "      <td>35.0</td>\n",
       "      <td>1</td>\n",
       "      <td>0</td>\n",
       "      <td>113803</td>\n",
       "      <td>53.1000</td>\n",
       "      <td>C123</td>\n",
       "      <td>S</td>\n",
       "    </tr>\n",
       "    <tr>\n",
       "      <th>4</th>\n",
       "      <td>5</td>\n",
       "      <td>0</td>\n",
       "      <td>3</td>\n",
       "      <td>Allen, Mr. William Henry</td>\n",
       "      <td>male</td>\n",
       "      <td>35.0</td>\n",
       "      <td>0</td>\n",
       "      <td>0</td>\n",
       "      <td>373450</td>\n",
       "      <td>8.0500</td>\n",
       "      <td>NaN</td>\n",
       "      <td>S</td>\n",
       "    </tr>\n",
       "  </tbody>\n",
       "</table>\n",
       "</div>"
      ],
      "text/plain": [
       "   PassengerId  Survived  Pclass  \\\n",
       "0            1         0       3   \n",
       "1            2         1       1   \n",
       "2            3         1       3   \n",
       "3            4         1       1   \n",
       "4            5         0       3   \n",
       "\n",
       "                                                Name     Sex   Age  SibSp  \\\n",
       "0                            Braund, Mr. Owen Harris    male  22.0      1   \n",
       "1  Cumings, Mrs. John Bradley (Florence Briggs Th...  female  38.0      1   \n",
       "2                             Heikkinen, Miss. Laina  female  26.0      0   \n",
       "3       Futrelle, Mrs. Jacques Heath (Lily May Peel)  female  35.0      1   \n",
       "4                           Allen, Mr. William Henry    male  35.0      0   \n",
       "\n",
       "   Parch            Ticket     Fare Cabin Embarked  \n",
       "0      0         A/5 21171   7.2500   NaN        S  \n",
       "1      0          PC 17599  71.2833   C85        C  \n",
       "2      0  STON/O2. 3101282   7.9250   NaN        S  \n",
       "3      0            113803  53.1000  C123        S  \n",
       "4      0            373450   8.0500   NaN        S  "
      ]
     },
     "execution_count": 3,
     "metadata": {},
     "output_type": "execute_result"
    }
   ],
   "source": [
    "train.head()"
   ]
  },
  {
   "cell_type": "code",
   "execution_count": 4,
   "metadata": {
    "execution": {
     "iopub.execute_input": "2023-11-22T15:28:36.981027Z",
     "iopub.status.busy": "2023-11-22T15:28:36.980663Z",
     "iopub.status.idle": "2023-11-22T15:28:37.003081Z",
     "shell.execute_reply": "2023-11-22T15:28:37.001594Z",
     "shell.execute_reply.started": "2023-11-22T15:28:36.980994Z"
    }
   },
   "outputs": [
    {
     "data": {
      "text/html": [
       "<div>\n",
       "<style scoped>\n",
       "    .dataframe tbody tr th:only-of-type {\n",
       "        vertical-align: middle;\n",
       "    }\n",
       "\n",
       "    .dataframe tbody tr th {\n",
       "        vertical-align: top;\n",
       "    }\n",
       "\n",
       "    .dataframe thead th {\n",
       "        text-align: right;\n",
       "    }\n",
       "</style>\n",
       "<table border=\"1\" class=\"dataframe\">\n",
       "  <thead>\n",
       "    <tr style=\"text-align: right;\">\n",
       "      <th></th>\n",
       "      <th>PassengerId</th>\n",
       "      <th>Pclass</th>\n",
       "      <th>Name</th>\n",
       "      <th>Sex</th>\n",
       "      <th>Age</th>\n",
       "      <th>SibSp</th>\n",
       "      <th>Parch</th>\n",
       "      <th>Ticket</th>\n",
       "      <th>Fare</th>\n",
       "      <th>Cabin</th>\n",
       "      <th>Embarked</th>\n",
       "    </tr>\n",
       "  </thead>\n",
       "  <tbody>\n",
       "    <tr>\n",
       "      <th>0</th>\n",
       "      <td>892</td>\n",
       "      <td>3</td>\n",
       "      <td>Kelly, Mr. James</td>\n",
       "      <td>male</td>\n",
       "      <td>34.5</td>\n",
       "      <td>0</td>\n",
       "      <td>0</td>\n",
       "      <td>330911</td>\n",
       "      <td>7.8292</td>\n",
       "      <td>NaN</td>\n",
       "      <td>Q</td>\n",
       "    </tr>\n",
       "    <tr>\n",
       "      <th>1</th>\n",
       "      <td>893</td>\n",
       "      <td>3</td>\n",
       "      <td>Wilkes, Mrs. James (Ellen Needs)</td>\n",
       "      <td>female</td>\n",
       "      <td>47.0</td>\n",
       "      <td>1</td>\n",
       "      <td>0</td>\n",
       "      <td>363272</td>\n",
       "      <td>7.0000</td>\n",
       "      <td>NaN</td>\n",
       "      <td>S</td>\n",
       "    </tr>\n",
       "    <tr>\n",
       "      <th>2</th>\n",
       "      <td>894</td>\n",
       "      <td>2</td>\n",
       "      <td>Myles, Mr. Thomas Francis</td>\n",
       "      <td>male</td>\n",
       "      <td>62.0</td>\n",
       "      <td>0</td>\n",
       "      <td>0</td>\n",
       "      <td>240276</td>\n",
       "      <td>9.6875</td>\n",
       "      <td>NaN</td>\n",
       "      <td>Q</td>\n",
       "    </tr>\n",
       "    <tr>\n",
       "      <th>3</th>\n",
       "      <td>895</td>\n",
       "      <td>3</td>\n",
       "      <td>Wirz, Mr. Albert</td>\n",
       "      <td>male</td>\n",
       "      <td>27.0</td>\n",
       "      <td>0</td>\n",
       "      <td>0</td>\n",
       "      <td>315154</td>\n",
       "      <td>8.6625</td>\n",
       "      <td>NaN</td>\n",
       "      <td>S</td>\n",
       "    </tr>\n",
       "    <tr>\n",
       "      <th>4</th>\n",
       "      <td>896</td>\n",
       "      <td>3</td>\n",
       "      <td>Hirvonen, Mrs. Alexander (Helga E Lindqvist)</td>\n",
       "      <td>female</td>\n",
       "      <td>22.0</td>\n",
       "      <td>1</td>\n",
       "      <td>1</td>\n",
       "      <td>3101298</td>\n",
       "      <td>12.2875</td>\n",
       "      <td>NaN</td>\n",
       "      <td>S</td>\n",
       "    </tr>\n",
       "  </tbody>\n",
       "</table>\n",
       "</div>"
      ],
      "text/plain": [
       "   PassengerId  Pclass                                          Name     Sex  \\\n",
       "0          892       3                              Kelly, Mr. James    male   \n",
       "1          893       3              Wilkes, Mrs. James (Ellen Needs)  female   \n",
       "2          894       2                     Myles, Mr. Thomas Francis    male   \n",
       "3          895       3                              Wirz, Mr. Albert    male   \n",
       "4          896       3  Hirvonen, Mrs. Alexander (Helga E Lindqvist)  female   \n",
       "\n",
       "    Age  SibSp  Parch   Ticket     Fare Cabin Embarked  \n",
       "0  34.5      0      0   330911   7.8292   NaN        Q  \n",
       "1  47.0      1      0   363272   7.0000   NaN        S  \n",
       "2  62.0      0      0   240276   9.6875   NaN        Q  \n",
       "3  27.0      0      0   315154   8.6625   NaN        S  \n",
       "4  22.0      1      1  3101298  12.2875   NaN        S  "
      ]
     },
     "execution_count": 4,
     "metadata": {},
     "output_type": "execute_result"
    }
   ],
   "source": [
    "test.head()"
   ]
  },
  {
   "cell_type": "markdown",
   "metadata": {},
   "source": [
    "We drop the ``PassengerId`` column."
   ]
  },
  {
   "cell_type": "code",
   "execution_count": 5,
   "metadata": {
    "execution": {
     "iopub.execute_input": "2023-11-22T15:28:37.005088Z",
     "iopub.status.busy": "2023-11-22T15:28:37.004737Z",
     "iopub.status.idle": "2023-11-22T15:28:37.022500Z",
     "shell.execute_reply": "2023-11-22T15:28:37.020072Z",
     "shell.execute_reply.started": "2023-11-22T15:28:37.005058Z"
    }
   },
   "outputs": [],
   "source": [
    "train.drop(['PassengerId'],axis=1,inplace = True)\n",
    "test.drop(['PassengerId'],axis=1,inplace = True)"
   ]
  },
  {
   "cell_type": "markdown",
   "metadata": {},
   "source": [
    "We set the ``Sex`` column as integer:"
   ]
  },
  {
   "cell_type": "code",
   "execution_count": 6,
   "metadata": {
    "execution": {
     "iopub.execute_input": "2023-11-22T15:28:37.024678Z",
     "iopub.status.busy": "2023-11-22T15:28:37.024192Z",
     "iopub.status.idle": "2023-11-22T15:28:37.041424Z",
     "shell.execute_reply": "2023-11-22T15:28:37.040280Z",
     "shell.execute_reply.started": "2023-11-22T15:28:37.024635Z"
    }
   },
   "outputs": [],
   "source": [
    "train.replace({'male':'0','female':'1'},inplace=True)\n",
    "test.replace({'male':'0','female':'1'},inplace=True)"
   ]
  },
  {
   "cell_type": "code",
   "execution_count": 7,
   "metadata": {},
   "outputs": [],
   "source": [
    "train['Sex'] = pd.to_numeric(train['Sex'],downcast='integer')\n",
    "test['Sex'] = pd.to_numeric(test['Sex'],downcast='integer')"
   ]
  },
  {
   "cell_type": "markdown",
   "metadata": {},
   "source": [
    "We make a first descriptive analysis of the columns:"
   ]
  },
  {
   "cell_type": "code",
   "execution_count": 8,
   "metadata": {
    "execution": {
     "iopub.execute_input": "2023-11-22T15:28:37.043798Z",
     "iopub.status.busy": "2023-11-22T15:28:37.043360Z",
     "iopub.status.idle": "2023-11-22T15:28:37.106780Z",
     "shell.execute_reply": "2023-11-22T15:28:37.105727Z",
     "shell.execute_reply.started": "2023-11-22T15:28:37.043759Z"
    }
   },
   "outputs": [
    {
     "data": {
      "text/html": [
       "<div>\n",
       "<style scoped>\n",
       "    .dataframe tbody tr th:only-of-type {\n",
       "        vertical-align: middle;\n",
       "    }\n",
       "\n",
       "    .dataframe tbody tr th {\n",
       "        vertical-align: top;\n",
       "    }\n",
       "\n",
       "    .dataframe thead th {\n",
       "        text-align: right;\n",
       "    }\n",
       "</style>\n",
       "<table border=\"1\" class=\"dataframe\">\n",
       "  <thead>\n",
       "    <tr style=\"text-align: right;\">\n",
       "      <th></th>\n",
       "      <th>Survived</th>\n",
       "      <th>Pclass</th>\n",
       "      <th>Name</th>\n",
       "      <th>Sex</th>\n",
       "      <th>Age</th>\n",
       "      <th>SibSp</th>\n",
       "      <th>Parch</th>\n",
       "      <th>Ticket</th>\n",
       "      <th>Fare</th>\n",
       "      <th>Cabin</th>\n",
       "      <th>Embarked</th>\n",
       "    </tr>\n",
       "  </thead>\n",
       "  <tbody>\n",
       "    <tr>\n",
       "      <th>count</th>\n",
       "      <td>891.000000</td>\n",
       "      <td>891.000000</td>\n",
       "      <td>891</td>\n",
       "      <td>891.000000</td>\n",
       "      <td>714.000000</td>\n",
       "      <td>891.000000</td>\n",
       "      <td>891.000000</td>\n",
       "      <td>891</td>\n",
       "      <td>891.000000</td>\n",
       "      <td>204</td>\n",
       "      <td>889</td>\n",
       "    </tr>\n",
       "    <tr>\n",
       "      <th>unique</th>\n",
       "      <td>NaN</td>\n",
       "      <td>NaN</td>\n",
       "      <td>891</td>\n",
       "      <td>NaN</td>\n",
       "      <td>NaN</td>\n",
       "      <td>NaN</td>\n",
       "      <td>NaN</td>\n",
       "      <td>681</td>\n",
       "      <td>NaN</td>\n",
       "      <td>147</td>\n",
       "      <td>3</td>\n",
       "    </tr>\n",
       "    <tr>\n",
       "      <th>top</th>\n",
       "      <td>NaN</td>\n",
       "      <td>NaN</td>\n",
       "      <td>Braund, Mr. Owen Harris</td>\n",
       "      <td>NaN</td>\n",
       "      <td>NaN</td>\n",
       "      <td>NaN</td>\n",
       "      <td>NaN</td>\n",
       "      <td>347082</td>\n",
       "      <td>NaN</td>\n",
       "      <td>B96 B98</td>\n",
       "      <td>S</td>\n",
       "    </tr>\n",
       "    <tr>\n",
       "      <th>freq</th>\n",
       "      <td>NaN</td>\n",
       "      <td>NaN</td>\n",
       "      <td>1</td>\n",
       "      <td>NaN</td>\n",
       "      <td>NaN</td>\n",
       "      <td>NaN</td>\n",
       "      <td>NaN</td>\n",
       "      <td>7</td>\n",
       "      <td>NaN</td>\n",
       "      <td>4</td>\n",
       "      <td>644</td>\n",
       "    </tr>\n",
       "    <tr>\n",
       "      <th>mean</th>\n",
       "      <td>0.383838</td>\n",
       "      <td>2.308642</td>\n",
       "      <td>NaN</td>\n",
       "      <td>0.352413</td>\n",
       "      <td>29.699118</td>\n",
       "      <td>0.523008</td>\n",
       "      <td>0.381594</td>\n",
       "      <td>NaN</td>\n",
       "      <td>32.204208</td>\n",
       "      <td>NaN</td>\n",
       "      <td>NaN</td>\n",
       "    </tr>\n",
       "    <tr>\n",
       "      <th>std</th>\n",
       "      <td>0.486592</td>\n",
       "      <td>0.836071</td>\n",
       "      <td>NaN</td>\n",
       "      <td>0.477990</td>\n",
       "      <td>14.526497</td>\n",
       "      <td>1.102743</td>\n",
       "      <td>0.806057</td>\n",
       "      <td>NaN</td>\n",
       "      <td>49.693429</td>\n",
       "      <td>NaN</td>\n",
       "      <td>NaN</td>\n",
       "    </tr>\n",
       "    <tr>\n",
       "      <th>min</th>\n",
       "      <td>0.000000</td>\n",
       "      <td>1.000000</td>\n",
       "      <td>NaN</td>\n",
       "      <td>0.000000</td>\n",
       "      <td>0.420000</td>\n",
       "      <td>0.000000</td>\n",
       "      <td>0.000000</td>\n",
       "      <td>NaN</td>\n",
       "      <td>0.000000</td>\n",
       "      <td>NaN</td>\n",
       "      <td>NaN</td>\n",
       "    </tr>\n",
       "    <tr>\n",
       "      <th>25%</th>\n",
       "      <td>0.000000</td>\n",
       "      <td>2.000000</td>\n",
       "      <td>NaN</td>\n",
       "      <td>0.000000</td>\n",
       "      <td>20.125000</td>\n",
       "      <td>0.000000</td>\n",
       "      <td>0.000000</td>\n",
       "      <td>NaN</td>\n",
       "      <td>7.910400</td>\n",
       "      <td>NaN</td>\n",
       "      <td>NaN</td>\n",
       "    </tr>\n",
       "    <tr>\n",
       "      <th>50%</th>\n",
       "      <td>0.000000</td>\n",
       "      <td>3.000000</td>\n",
       "      <td>NaN</td>\n",
       "      <td>0.000000</td>\n",
       "      <td>28.000000</td>\n",
       "      <td>0.000000</td>\n",
       "      <td>0.000000</td>\n",
       "      <td>NaN</td>\n",
       "      <td>14.454200</td>\n",
       "      <td>NaN</td>\n",
       "      <td>NaN</td>\n",
       "    </tr>\n",
       "    <tr>\n",
       "      <th>75%</th>\n",
       "      <td>1.000000</td>\n",
       "      <td>3.000000</td>\n",
       "      <td>NaN</td>\n",
       "      <td>1.000000</td>\n",
       "      <td>38.000000</td>\n",
       "      <td>1.000000</td>\n",
       "      <td>0.000000</td>\n",
       "      <td>NaN</td>\n",
       "      <td>31.000000</td>\n",
       "      <td>NaN</td>\n",
       "      <td>NaN</td>\n",
       "    </tr>\n",
       "    <tr>\n",
       "      <th>max</th>\n",
       "      <td>1.000000</td>\n",
       "      <td>3.000000</td>\n",
       "      <td>NaN</td>\n",
       "      <td>1.000000</td>\n",
       "      <td>80.000000</td>\n",
       "      <td>8.000000</td>\n",
       "      <td>6.000000</td>\n",
       "      <td>NaN</td>\n",
       "      <td>512.329200</td>\n",
       "      <td>NaN</td>\n",
       "      <td>NaN</td>\n",
       "    </tr>\n",
       "  </tbody>\n",
       "</table>\n",
       "</div>"
      ],
      "text/plain": [
       "          Survived      Pclass                     Name         Sex  \\\n",
       "count   891.000000  891.000000                      891  891.000000   \n",
       "unique         NaN         NaN                      891         NaN   \n",
       "top            NaN         NaN  Braund, Mr. Owen Harris         NaN   \n",
       "freq           NaN         NaN                        1         NaN   \n",
       "mean      0.383838    2.308642                      NaN    0.352413   \n",
       "std       0.486592    0.836071                      NaN    0.477990   \n",
       "min       0.000000    1.000000                      NaN    0.000000   \n",
       "25%       0.000000    2.000000                      NaN    0.000000   \n",
       "50%       0.000000    3.000000                      NaN    0.000000   \n",
       "75%       1.000000    3.000000                      NaN    1.000000   \n",
       "max       1.000000    3.000000                      NaN    1.000000   \n",
       "\n",
       "               Age       SibSp       Parch  Ticket        Fare    Cabin  \\\n",
       "count   714.000000  891.000000  891.000000     891  891.000000      204   \n",
       "unique         NaN         NaN         NaN     681         NaN      147   \n",
       "top            NaN         NaN         NaN  347082         NaN  B96 B98   \n",
       "freq           NaN         NaN         NaN       7         NaN        4   \n",
       "mean     29.699118    0.523008    0.381594     NaN   32.204208      NaN   \n",
       "std      14.526497    1.102743    0.806057     NaN   49.693429      NaN   \n",
       "min       0.420000    0.000000    0.000000     NaN    0.000000      NaN   \n",
       "25%      20.125000    0.000000    0.000000     NaN    7.910400      NaN   \n",
       "50%      28.000000    0.000000    0.000000     NaN   14.454200      NaN   \n",
       "75%      38.000000    1.000000    0.000000     NaN   31.000000      NaN   \n",
       "max      80.000000    8.000000    6.000000     NaN  512.329200      NaN   \n",
       "\n",
       "       Embarked  \n",
       "count       889  \n",
       "unique        3  \n",
       "top           S  \n",
       "freq        644  \n",
       "mean        NaN  \n",
       "std         NaN  \n",
       "min         NaN  \n",
       "25%         NaN  \n",
       "50%         NaN  \n",
       "75%         NaN  \n",
       "max         NaN  "
      ]
     },
     "execution_count": 8,
     "metadata": {},
     "output_type": "execute_result"
    }
   ],
   "source": [
    "train.describe(include='all')"
   ]
  },
  {
   "cell_type": "code",
   "execution_count": 9,
   "metadata": {
    "execution": {
     "iopub.execute_input": "2023-11-22T15:28:37.122728Z",
     "iopub.status.busy": "2023-11-22T15:28:37.121569Z",
     "iopub.status.idle": "2023-11-22T15:28:37.155107Z",
     "shell.execute_reply": "2023-11-22T15:28:37.153712Z",
     "shell.execute_reply.started": "2023-11-22T15:28:37.122682Z"
    }
   },
   "outputs": [
    {
     "name": "stdout",
     "output_type": "stream",
     "text": [
      "<class 'pandas.core.frame.DataFrame'>\n",
      "RangeIndex: 891 entries, 0 to 890\n",
      "Data columns (total 11 columns):\n",
      " #   Column    Non-Null Count  Dtype  \n",
      "---  ------    --------------  -----  \n",
      " 0   Survived  891 non-null    Int64  \n",
      " 1   Pclass    891 non-null    Int64  \n",
      " 2   Name      891 non-null    string \n",
      " 3   Sex       891 non-null    Int8   \n",
      " 4   Age       714 non-null    Float64\n",
      " 5   SibSp     891 non-null    Int64  \n",
      " 6   Parch     891 non-null    Int64  \n",
      " 7   Ticket    891 non-null    string \n",
      " 8   Fare      891 non-null    Float64\n",
      " 9   Cabin     204 non-null    string \n",
      " 10  Embarked  889 non-null    string \n",
      "dtypes: Float64(2), Int64(4), Int8(1), string(4)\n",
      "memory usage: 76.7 KB\n"
     ]
    }
   ],
   "source": [
    "train.convert_dtypes().info()\n"
   ]
  },
  {
   "cell_type": "code",
   "execution_count": 10,
   "metadata": {
    "execution": {
     "iopub.execute_input": "2023-11-22T15:28:37.159855Z",
     "iopub.status.busy": "2023-11-22T15:28:37.159487Z",
     "iopub.status.idle": "2023-11-22T15:28:37.206033Z",
     "shell.execute_reply": "2023-11-22T15:28:37.204819Z",
     "shell.execute_reply.started": "2023-11-22T15:28:37.159826Z"
    }
   },
   "outputs": [
    {
     "data": {
      "text/html": [
       "<div>\n",
       "<style scoped>\n",
       "    .dataframe tbody tr th:only-of-type {\n",
       "        vertical-align: middle;\n",
       "    }\n",
       "\n",
       "    .dataframe tbody tr th {\n",
       "        vertical-align: top;\n",
       "    }\n",
       "\n",
       "    .dataframe thead th {\n",
       "        text-align: right;\n",
       "    }\n",
       "</style>\n",
       "<table border=\"1\" class=\"dataframe\">\n",
       "  <thead>\n",
       "    <tr style=\"text-align: right;\">\n",
       "      <th></th>\n",
       "      <th>Pclass</th>\n",
       "      <th>Name</th>\n",
       "      <th>Sex</th>\n",
       "      <th>Age</th>\n",
       "      <th>SibSp</th>\n",
       "      <th>Parch</th>\n",
       "      <th>Ticket</th>\n",
       "      <th>Fare</th>\n",
       "      <th>Cabin</th>\n",
       "      <th>Embarked</th>\n",
       "    </tr>\n",
       "  </thead>\n",
       "  <tbody>\n",
       "    <tr>\n",
       "      <th>count</th>\n",
       "      <td>418.000000</td>\n",
       "      <td>418</td>\n",
       "      <td>418.000000</td>\n",
       "      <td>332.000000</td>\n",
       "      <td>418.000000</td>\n",
       "      <td>418.000000</td>\n",
       "      <td>418</td>\n",
       "      <td>417.000000</td>\n",
       "      <td>91</td>\n",
       "      <td>418</td>\n",
       "    </tr>\n",
       "    <tr>\n",
       "      <th>unique</th>\n",
       "      <td>NaN</td>\n",
       "      <td>418</td>\n",
       "      <td>NaN</td>\n",
       "      <td>NaN</td>\n",
       "      <td>NaN</td>\n",
       "      <td>NaN</td>\n",
       "      <td>363</td>\n",
       "      <td>NaN</td>\n",
       "      <td>76</td>\n",
       "      <td>3</td>\n",
       "    </tr>\n",
       "    <tr>\n",
       "      <th>top</th>\n",
       "      <td>NaN</td>\n",
       "      <td>Kelly, Mr. James</td>\n",
       "      <td>NaN</td>\n",
       "      <td>NaN</td>\n",
       "      <td>NaN</td>\n",
       "      <td>NaN</td>\n",
       "      <td>PC 17608</td>\n",
       "      <td>NaN</td>\n",
       "      <td>B57 B59 B63 B66</td>\n",
       "      <td>S</td>\n",
       "    </tr>\n",
       "    <tr>\n",
       "      <th>freq</th>\n",
       "      <td>NaN</td>\n",
       "      <td>1</td>\n",
       "      <td>NaN</td>\n",
       "      <td>NaN</td>\n",
       "      <td>NaN</td>\n",
       "      <td>NaN</td>\n",
       "      <td>5</td>\n",
       "      <td>NaN</td>\n",
       "      <td>3</td>\n",
       "      <td>270</td>\n",
       "    </tr>\n",
       "    <tr>\n",
       "      <th>mean</th>\n",
       "      <td>2.265550</td>\n",
       "      <td>NaN</td>\n",
       "      <td>0.363636</td>\n",
       "      <td>30.272590</td>\n",
       "      <td>0.447368</td>\n",
       "      <td>0.392344</td>\n",
       "      <td>NaN</td>\n",
       "      <td>35.627188</td>\n",
       "      <td>NaN</td>\n",
       "      <td>NaN</td>\n",
       "    </tr>\n",
       "    <tr>\n",
       "      <th>std</th>\n",
       "      <td>0.841838</td>\n",
       "      <td>NaN</td>\n",
       "      <td>0.481622</td>\n",
       "      <td>14.181209</td>\n",
       "      <td>0.896760</td>\n",
       "      <td>0.981429</td>\n",
       "      <td>NaN</td>\n",
       "      <td>55.907576</td>\n",
       "      <td>NaN</td>\n",
       "      <td>NaN</td>\n",
       "    </tr>\n",
       "    <tr>\n",
       "      <th>min</th>\n",
       "      <td>1.000000</td>\n",
       "      <td>NaN</td>\n",
       "      <td>0.000000</td>\n",
       "      <td>0.170000</td>\n",
       "      <td>0.000000</td>\n",
       "      <td>0.000000</td>\n",
       "      <td>NaN</td>\n",
       "      <td>0.000000</td>\n",
       "      <td>NaN</td>\n",
       "      <td>NaN</td>\n",
       "    </tr>\n",
       "    <tr>\n",
       "      <th>25%</th>\n",
       "      <td>1.000000</td>\n",
       "      <td>NaN</td>\n",
       "      <td>0.000000</td>\n",
       "      <td>21.000000</td>\n",
       "      <td>0.000000</td>\n",
       "      <td>0.000000</td>\n",
       "      <td>NaN</td>\n",
       "      <td>7.895800</td>\n",
       "      <td>NaN</td>\n",
       "      <td>NaN</td>\n",
       "    </tr>\n",
       "    <tr>\n",
       "      <th>50%</th>\n",
       "      <td>3.000000</td>\n",
       "      <td>NaN</td>\n",
       "      <td>0.000000</td>\n",
       "      <td>27.000000</td>\n",
       "      <td>0.000000</td>\n",
       "      <td>0.000000</td>\n",
       "      <td>NaN</td>\n",
       "      <td>14.454200</td>\n",
       "      <td>NaN</td>\n",
       "      <td>NaN</td>\n",
       "    </tr>\n",
       "    <tr>\n",
       "      <th>75%</th>\n",
       "      <td>3.000000</td>\n",
       "      <td>NaN</td>\n",
       "      <td>1.000000</td>\n",
       "      <td>39.000000</td>\n",
       "      <td>1.000000</td>\n",
       "      <td>0.000000</td>\n",
       "      <td>NaN</td>\n",
       "      <td>31.500000</td>\n",
       "      <td>NaN</td>\n",
       "      <td>NaN</td>\n",
       "    </tr>\n",
       "    <tr>\n",
       "      <th>max</th>\n",
       "      <td>3.000000</td>\n",
       "      <td>NaN</td>\n",
       "      <td>1.000000</td>\n",
       "      <td>76.000000</td>\n",
       "      <td>8.000000</td>\n",
       "      <td>9.000000</td>\n",
       "      <td>NaN</td>\n",
       "      <td>512.329200</td>\n",
       "      <td>NaN</td>\n",
       "      <td>NaN</td>\n",
       "    </tr>\n",
       "  </tbody>\n",
       "</table>\n",
       "</div>"
      ],
      "text/plain": [
       "            Pclass              Name         Sex         Age       SibSp  \\\n",
       "count   418.000000               418  418.000000  332.000000  418.000000   \n",
       "unique         NaN               418         NaN         NaN         NaN   \n",
       "top            NaN  Kelly, Mr. James         NaN         NaN         NaN   \n",
       "freq           NaN                 1         NaN         NaN         NaN   \n",
       "mean      2.265550               NaN    0.363636   30.272590    0.447368   \n",
       "std       0.841838               NaN    0.481622   14.181209    0.896760   \n",
       "min       1.000000               NaN    0.000000    0.170000    0.000000   \n",
       "25%       1.000000               NaN    0.000000   21.000000    0.000000   \n",
       "50%       3.000000               NaN    0.000000   27.000000    0.000000   \n",
       "75%       3.000000               NaN    1.000000   39.000000    1.000000   \n",
       "max       3.000000               NaN    1.000000   76.000000    8.000000   \n",
       "\n",
       "             Parch    Ticket        Fare            Cabin Embarked  \n",
       "count   418.000000       418  417.000000               91      418  \n",
       "unique         NaN       363         NaN               76        3  \n",
       "top            NaN  PC 17608         NaN  B57 B59 B63 B66        S  \n",
       "freq           NaN         5         NaN                3      270  \n",
       "mean      0.392344       NaN   35.627188              NaN      NaN  \n",
       "std       0.981429       NaN   55.907576              NaN      NaN  \n",
       "min       0.000000       NaN    0.000000              NaN      NaN  \n",
       "25%       0.000000       NaN    7.895800              NaN      NaN  \n",
       "50%       0.000000       NaN   14.454200              NaN      NaN  \n",
       "75%       0.000000       NaN   31.500000              NaN      NaN  \n",
       "max       9.000000       NaN  512.329200              NaN      NaN  "
      ]
     },
     "execution_count": 10,
     "metadata": {},
     "output_type": "execute_result"
    }
   ],
   "source": [
    "test.describe(include='all')"
   ]
  },
  {
   "cell_type": "code",
   "execution_count": 11,
   "metadata": {
    "execution": {
     "iopub.execute_input": "2023-11-22T15:28:37.208633Z",
     "iopub.status.busy": "2023-11-22T15:28:37.207872Z",
     "iopub.status.idle": "2023-11-22T15:28:37.227985Z",
     "shell.execute_reply": "2023-11-22T15:28:37.225597Z",
     "shell.execute_reply.started": "2023-11-22T15:28:37.208587Z"
    }
   },
   "outputs": [
    {
     "name": "stdout",
     "output_type": "stream",
     "text": [
      "<class 'pandas.core.frame.DataFrame'>\n",
      "RangeIndex: 891 entries, 0 to 890\n",
      "Data columns (total 11 columns):\n",
      " #   Column    Non-Null Count  Dtype  \n",
      "---  ------    --------------  -----  \n",
      " 0   Survived  891 non-null    int64  \n",
      " 1   Pclass    891 non-null    int64  \n",
      " 2   Name      891 non-null    object \n",
      " 3   Sex       891 non-null    int8   \n",
      " 4   Age       714 non-null    float64\n",
      " 5   SibSp     891 non-null    int64  \n",
      " 6   Parch     891 non-null    int64  \n",
      " 7   Ticket    891 non-null    object \n",
      " 8   Fare      891 non-null    float64\n",
      " 9   Cabin     204 non-null    object \n",
      " 10  Embarked  889 non-null    object \n",
      "dtypes: float64(2), int64(4), int8(1), object(4)\n",
      "memory usage: 70.6+ KB\n"
     ]
    }
   ],
   "source": [
    "train.info()"
   ]
  },
  {
   "cell_type": "code",
   "execution_count": 12,
   "metadata": {
    "execution": {
     "iopub.execute_input": "2023-11-22T15:28:37.230460Z",
     "iopub.status.busy": "2023-11-22T15:28:37.229709Z",
     "iopub.status.idle": "2023-11-22T15:28:37.248610Z",
     "shell.execute_reply": "2023-11-22T15:28:37.247006Z",
     "shell.execute_reply.started": "2023-11-22T15:28:37.230420Z"
    },
    "scrolled": true
   },
   "outputs": [
    {
     "name": "stdout",
     "output_type": "stream",
     "text": [
      "<class 'pandas.core.frame.DataFrame'>\n",
      "RangeIndex: 418 entries, 0 to 417\n",
      "Data columns (total 10 columns):\n",
      " #   Column    Non-Null Count  Dtype  \n",
      "---  ------    --------------  -----  \n",
      " 0   Pclass    418 non-null    int64  \n",
      " 1   Name      418 non-null    object \n",
      " 2   Sex       418 non-null    int8   \n",
      " 3   Age       332 non-null    float64\n",
      " 4   SibSp     418 non-null    int64  \n",
      " 5   Parch     418 non-null    int64  \n",
      " 6   Ticket    418 non-null    object \n",
      " 7   Fare      417 non-null    float64\n",
      " 8   Cabin     91 non-null     object \n",
      " 9   Embarked  418 non-null    object \n",
      "dtypes: float64(2), int64(3), int8(1), object(4)\n",
      "memory usage: 29.9+ KB\n"
     ]
    }
   ],
   "source": [
    "test.info()"
   ]
  },
  {
   "cell_type": "code",
   "execution_count": 13,
   "metadata": {
    "execution": {
     "iopub.execute_input": "2023-11-22T15:28:37.230460Z",
     "iopub.status.busy": "2023-11-22T15:28:37.229709Z",
     "iopub.status.idle": "2023-11-22T15:28:37.248610Z",
     "shell.execute_reply": "2023-11-22T15:28:37.247006Z",
     "shell.execute_reply.started": "2023-11-22T15:28:37.230420Z"
    },
    "scrolled": true
   },
   "outputs": [],
   "source": [
    "df=pd.concat([train,test])"
   ]
  },
  {
   "cell_type": "markdown",
   "metadata": {},
   "source": [
    "### $t$-test - Difference in mean age between male and female passengers"
   ]
  },
  {
   "cell_type": "markdown",
   "metadata": {},
   "source": [
    "We are going to check it using the $t$-test. We define the following hypothesis test:\n",
    "- **Null hypothesis** ($\\mathbb{H_{0}}$):  There is no difference in the mean age between male and female passengers on the Titanic.\n",
    "$$ \\mu=\\mu_{0}$$\n",
    "- **Alternative hypothesis** ($\\mathbb{H_{1}}$): There is a difference in the mean age between male and female passengers on the Titanic.\n",
    "$$ \\mu\\neq\\mu_{0}$$"
   ]
  },
  {
   "cell_type": "code",
   "execution_count": 38,
   "metadata": {},
   "outputs": [
    {
     "name": "stdout",
     "output_type": "stream",
     "text": [
      "t-test - Difference in mean age between male and female passengers:\n",
      "t-statistic: 2.060608663367138\n",
      "p-value: 0.03958770007671348\n"
     ]
    }
   ],
   "source": [
    "ttest_age_sex = ttest_ind(df[df['Sex'] == 0]['Age'].dropna(),\n",
    "                          df[df['Sex'] == 1]['Age'].dropna())\n",
    "print(\"t-test - Difference in mean age between male and female passengers:\")\n",
    "print(\"t-statistic:\", ttest_age_sex.statistic)\n",
    "print(\"p-value:\", ttest_age_sex.pvalue)"
   ]
  },
  {
   "cell_type": "markdown",
   "metadata": {},
   "source": [
    "### $\\chi ^{2}$ test: Independence between 'Survived' and 'Pclass'\n"
   ]
  },
  {
   "cell_type": "markdown",
   "metadata": {},
   "source": [
    "- **Null hypothesis** ($\\mathbb{H_{0}}$):  Survival on the Titanic is independent of passenger class.\n",
    "- **Alternative hypothesis** ($\\mathbb{H_{1}}$): Survival on the Titanic is associated with passenger class."
   ]
  },
  {
   "cell_type": "code",
   "execution_count": 40,
   "metadata": {},
   "outputs": [
    {
     "name": "stdout",
     "output_type": "stream",
     "text": [
      "\n",
      "Chi-squared test - Independence between 'Survived' and 'Pclass':\n",
      "Chi-squared statistic: 102.88898875696056\n",
      "p-value: 4.549251711298793e-23\n"
     ]
    }
   ],
   "source": [
    "chi2_survived_pclass = chi2_contingency(pd.crosstab(df['Survived'], df['Pclass']))\n",
    "print(\"\\nChi-squared test - Independence between 'Survived' and 'Pclass':\")\n",
    "print(\"Chi-squared statistic:\", chi2_survived_pclass[0])\n",
    "print(\"p-value:\", chi2_survived_pclass[1])"
   ]
  },
  {
   "cell_type": "markdown",
   "metadata": {},
   "source": [
    "### ANOVA test: Difference in mean age across passenger classes"
   ]
  },
  {
   "cell_type": "markdown",
   "metadata": {},
   "source": [
    "- **Null hypothesis** ($\\mathbb{H_{0}}$):  There is no difference in the mean age between male and female passengers on the Titanic.\n",
    "$$ \\mu=\\mu_{0}$$\n",
    "- **Alternative hypothesis** ($\\mathbb{H_{1}}$): There is a difference in the mean age between male and female passengers on the Titanic.\n",
    "$$ \\mu\\neq\\mu_{0}$$"
   ]
  },
  {
   "cell_type": "code",
   "execution_count": 39,
   "metadata": {},
   "outputs": [
    {
     "name": "stdout",
     "output_type": "stream",
     "text": [
      "\n",
      "ANOVA test - Difference in mean age across passenger classes:\n",
      "F-statistic: 108.32631005902482\n",
      "p-value: 1.796708368328782e-43\n"
     ]
    }
   ],
   "source": [
    "anova_age_pclass = f_oneway(df[df['Pclass'] == 1]['Age'].dropna(),\n",
    "                            df[df['Pclass'] == 2]['Age'].dropna(),\n",
    "                            df[df['Pclass'] == 3]['Age'].dropna())\n",
    "print(\"\\nANOVA test - Difference in mean age across passenger classes:\")\n",
    "print(\"F-statistic:\", anova_age_pclass.statistic)\n",
    "print(\"p-value:\", anova_age_pclass.pvalue)"
   ]
  },
  {
   "cell_type": "markdown",
   "metadata": {},
   "source": [
    "### $z$-test: Difference in mean fare between passengers who survived and not"
   ]
  },
  {
   "cell_type": "markdown",
   "metadata": {},
   "source": [
    "- **Null hypothesis** ($\\mathbb{H_{0}}$):  There is no difference in the mean fare between passengers who survived and those who did not survive on the Titanic.\n",
    "$$ \\mu=\\mu_{0}$$\n",
    "- **Alternative hypothesis** ($\\mathbb{H_{1}}$): There is a difference in the mean fare between passengers who survived and those who did not survive on the Titanic.\n",
    "$$ \\mu\\neq\\mu_{0}$$"
   ]
  },
  {
   "cell_type": "code",
   "execution_count": 51,
   "metadata": {},
   "outputs": [
    {
     "name": "stdout",
     "output_type": "stream",
     "text": [
      "Critical region: 1.6448536269514722\n",
      "\n",
      "z-test - Difference in mean fare between passengers who survived and those who did not:\n",
      "z-statistic: 950.3599635913521\n",
      "p-value for z-test: 0.0\n"
     ]
    }
   ],
   "source": [
    "from scipy.stats import norm\n",
    "z_scores = zscore(df['Fare'].dropna())\n",
    "survived_fare_mean = df[df['Survived'] == 1]['Fare'].mean()\n",
    "not_survived_fare_mean = df[df['Survived'] == 0]['Fare'].mean()\n",
    "ztest_survived_fare = (survived_fare_mean - not_survived_fare_mean) / (z_scores.std() / np.sqrt(len(df)))\n",
    "p_value = 1-norm.cdf(ztest_survived_fare)\n",
    "\n",
    "print('Critical region:',norm.ppf(1-0.05))\n",
    "print(\"\\nz-test - Difference in mean fare between passengers who survived and those who did not:\")\n",
    "print(\"z-statistic:\", ztest_survived_fare)\n",
    "print(\"p-value for z-test:\", p_value)"
   ]
  },
  {
   "cell_type": "markdown",
   "metadata": {},
   "source": [
    "## Data Visualisation "
   ]
  },
  {
   "cell_type": "code",
   "execution_count": 54,
   "metadata": {
    "execution": {
     "iopub.execute_input": "2023-11-22T15:28:37.250900Z",
     "iopub.status.busy": "2023-11-22T15:28:37.250416Z",
     "iopub.status.idle": "2023-11-22T15:28:37.260402Z",
     "shell.execute_reply": "2023-11-22T15:28:37.259357Z",
     "shell.execute_reply.started": "2023-11-22T15:28:37.250858Z"
    }
   },
   "outputs": [],
   "source": [
    "from pandas.plotting import scatter_matrix\n",
    "import matplotlib.pyplot as plt"
   ]
  },
  {
   "cell_type": "markdown",
   "metadata": {},
   "source": [
    "We make a histogram of the variables:"
   ]
  },
  {
   "cell_type": "code",
   "execution_count": 55,
   "metadata": {
    "execution": {
     "iopub.execute_input": "2023-11-22T15:28:37.262656Z",
     "iopub.status.busy": "2023-11-22T15:28:37.261686Z",
     "iopub.status.idle": "2023-11-22T15:28:38.960557Z",
     "shell.execute_reply": "2023-11-22T15:28:38.959399Z",
     "shell.execute_reply.started": "2023-11-22T15:28:37.262622Z"
    }
   },
   "outputs": [
    {
     "data": {
      "image/png": "[encoded data removed]",
      "text/plain": [
       "<Figure size 1200x800 with 9 Axes>"
      ]
     },
     "metadata": {},
     "output_type": "display_data"
    }
   ],
   "source": [
    "df.hist(figsize=(12, 8))\n",
    "plt.show()"
   ]
  },
  {
   "cell_type": "markdown",
   "metadata": {},
   "source": [
    "Now a scatter matrix:"
   ]
  },
  {
   "cell_type": "code",
   "execution_count": 56,
   "metadata": {
    "execution": {
     "iopub.execute_input": "2023-11-22T15:28:38.962806Z",
     "iopub.status.busy": "2023-11-22T15:28:38.962058Z",
     "iopub.status.idle": "2023-11-22T15:28:42.533532Z",
     "shell.execute_reply": "2023-11-22T15:28:42.532377Z",
     "shell.execute_reply.started": "2023-11-22T15:28:38.962760Z"
    }
   },
   "outputs": [
    {
     "data": {
      "image/png": "[encoded data removed]",
      "text/plain": [
       "<Figure size 640x480 with 49 Axes>"
      ]
     },
     "metadata": {},
     "output_type": "display_data"
    }
   ],
   "source": [
    "scatter_matrix(df)\n",
    "plt.show()"
   ]
  },
  {
   "cell_type": "markdown",
   "metadata": {},
   "source": [
    "Now let's see the behaviour of the different categorical variables according to the different values of the ``Survived`` variable, since it is the target column."
   ]
  },
  {
   "cell_type": "code",
   "execution_count": 57,
   "metadata": {
    "execution": {
     "iopub.execute_input": "2023-11-22T15:28:42.575531Z",
     "iopub.status.busy": "2023-11-22T15:28:42.574293Z",
     "iopub.status.idle": "2023-11-22T15:28:45.254363Z",
     "shell.execute_reply": "2023-11-22T15:28:45.253228Z",
     "shell.execute_reply.started": "2023-11-22T15:28:42.575484Z"
    }
   },
   "outputs": [
    {
     "data": {
      "text/plain": [
       "<seaborn.axisgrid.FacetGrid at 0x29a20884910>"
      ]
     },
     "execution_count": 57,
     "metadata": {},
     "output_type": "execute_result"
    },
    {
     "data": {
      "image/png": "[encoded data removed]",
      "text/plain": [
       "<Figure size 600x300 with 2 Axes>"
      ]
     },
     "metadata": {},
     "output_type": "display_data"
    }
   ],
   "source": [
    "import seaborn as sns\n",
    "g = sns.FacetGrid(df, col='Survived')\n",
    "g.map(plt.hist, 'Age', bins=20)"
   ]
  },
  {
   "cell_type": "code",
   "execution_count": 58,
   "metadata": {
    "execution": {
     "iopub.execute_input": "2023-11-22T15:28:45.256169Z",
     "iopub.status.busy": "2023-11-22T15:28:45.255811Z",
     "iopub.status.idle": "2023-11-22T15:28:48.455815Z",
     "shell.execute_reply": "2023-11-22T15:28:48.454467Z",
     "shell.execute_reply.started": "2023-11-22T15:28:45.256137Z"
    }
   },
   "outputs": [
    {
     "data": {
      "text/plain": [
       "<seaborn.axisgrid.FacetGrid at 0x29a2250c8e0>"
      ]
     },
     "execution_count": 58,
     "metadata": {},
     "output_type": "execute_result"
    },
    {
     "data": {
      "image/png": "[encoded data removed]",
      "text/plain": [
       "<Figure size 971.111x900 with 6 Axes>"
      ]
     },
     "metadata": {},
     "output_type": "display_data"
    }
   ],
   "source": [
    "grid = sns.FacetGrid(df, col='Survived', row='Pclass',  aspect=1.6)\n",
    "grid.map(plt.hist, 'Age', alpha=.6, bins=15)\n",
    "grid.add_legend()"
   ]
  },
  {
   "cell_type": "code",
   "execution_count": 59,
   "metadata": {
    "execution": {
     "iopub.execute_input": "2023-11-22T15:28:48.457924Z",
     "iopub.status.busy": "2023-11-22T15:28:48.457464Z",
     "iopub.status.idle": "2023-11-22T15:28:50.541632Z",
     "shell.execute_reply": "2023-11-22T15:28:50.540200Z",
     "shell.execute_reply.started": "2023-11-22T15:28:48.457883Z"
    }
   },
   "outputs": [
    {
     "data": {
      "text/plain": [
       "<seaborn.axisgrid.FacetGrid at 0x29a224a17f0>"
      ]
     },
     "execution_count": 59,
     "metadata": {},
     "output_type": "execute_result"
    },
    {
     "data": {
      "image/png": "[encoded data removed]",
      "text/plain": [
       "<Figure size 971.111x600 with 4 Axes>"
      ]
     },
     "metadata": {},
     "output_type": "display_data"
    }
   ],
   "source": [
    "grid = sns.FacetGrid(df, col='Survived', row='Sex', aspect=1.6)\n",
    "grid.map(plt.hist, 'Age', alpha=.6, bins=15)\n",
    "grid.add_legend()"
   ]
  },
  {
   "cell_type": "code",
   "execution_count": 60,
   "metadata": {
    "execution": {
     "iopub.execute_input": "2023-11-22T15:28:50.544251Z",
     "iopub.status.busy": "2023-11-22T15:28:50.543771Z",
     "iopub.status.idle": "2023-11-22T15:28:52.690490Z",
     "shell.execute_reply": "2023-11-22T15:28:52.689236Z",
     "shell.execute_reply.started": "2023-11-22T15:28:50.544208Z"
    }
   },
   "outputs": [
    {
     "data": {
      "text/plain": [
       "<seaborn.axisgrid.FacetGrid at 0x29a23362d90>"
      ]
     },
     "execution_count": 60,
     "metadata": {},
     "output_type": "execute_result"
    },
    {
     "data": {
      "image/png": "[encoded data removed]",
      "text/plain": [
       "<Figure size 538.875x900 with 3 Axes>"
      ]
     },
     "metadata": {},
     "output_type": "display_data"
    }
   ],
   "source": [
    "grid = sns.FacetGrid(df, row='Embarked', aspect=1.6)\n",
    "grid.map(sns.pointplot, 'Pclass', 'Survived', 'Sex', palette='deep')\n",
    "grid.add_legend()"
   ]
  },
  {
   "cell_type": "markdown",
   "metadata": {},
   "source": [
    "### Data processing"
   ]
  },
  {
   "cell_type": "code",
   "execution_count": 22,
   "metadata": {
    "execution": {
     "iopub.execute_input": "2023-11-22T15:28:52.703698Z",
     "iopub.status.busy": "2023-11-22T15:28:52.702681Z",
     "iopub.status.idle": "2023-11-22T15:28:53.014115Z",
     "shell.execute_reply": "2023-11-22T15:28:53.012864Z",
     "shell.execute_reply.started": "2023-11-22T15:28:52.703654Z"
    }
   },
   "outputs": [
    {
     "data": {
      "image/png": "[encoded data removed]",
      "text/plain": [
       "<Figure size 1200x800 with 1 Axes>"
      ]
     },
     "metadata": {},
     "output_type": "display_data"
    }
   ],
   "source": [
    "df['Age'].hist(bins=5,figsize=(12,8))\n",
    "plt.show()"
   ]
  },
  {
   "cell_type": "markdown",
   "metadata": {},
   "source": [
    "We set the age as a categorical variable:"
   ]
  },
  {
   "cell_type": "code",
   "execution_count": 23,
   "metadata": {
    "execution": {
     "iopub.execute_input": "2023-11-22T15:28:53.015799Z",
     "iopub.status.busy": "2023-11-22T15:28:53.015457Z",
     "iopub.status.idle": "2023-11-22T15:28:53.027456Z",
     "shell.execute_reply": "2023-11-22T15:28:53.026372Z",
     "shell.execute_reply.started": "2023-11-22T15:28:53.015770Z"
    }
   },
   "outputs": [],
   "source": [
    "df['Age'] = pd.to_numeric(pd.cut(df['Age'],bins = [0,18,32,48,64,100], labels = ['0','1','2','3','4']),downcast='integer')\n",
    "#pd.cut(df['Age'],bins = 4,labels=['0-18','18-32','32-48''48-64','+64'])"
   ]
  },
  {
   "cell_type": "code",
   "execution_count": 24,
   "metadata": {
    "execution": {
     "iopub.execute_input": "2023-11-22T15:28:53.029669Z",
     "iopub.status.busy": "2023-11-22T15:28:53.029233Z",
     "iopub.status.idle": "2023-11-22T15:28:53.056332Z",
     "shell.execute_reply": "2023-11-22T15:28:53.054965Z",
     "shell.execute_reply.started": "2023-11-22T15:28:53.029637Z"
    }
   },
   "outputs": [
    {
     "data": {
      "text/html": [
       "<div>\n",
       "<style scoped>\n",
       "    .dataframe tbody tr th:only-of-type {\n",
       "        vertical-align: middle;\n",
       "    }\n",
       "\n",
       "    .dataframe tbody tr th {\n",
       "        vertical-align: top;\n",
       "    }\n",
       "\n",
       "    .dataframe thead th {\n",
       "        text-align: right;\n",
       "    }\n",
       "</style>\n",
       "<table border=\"1\" class=\"dataframe\">\n",
       "  <thead>\n",
       "    <tr style=\"text-align: right;\">\n",
       "      <th></th>\n",
       "      <th>Survived</th>\n",
       "      <th>Pclass</th>\n",
       "      <th>Name</th>\n",
       "      <th>Sex</th>\n",
       "      <th>Age</th>\n",
       "      <th>SibSp</th>\n",
       "      <th>Parch</th>\n",
       "      <th>Ticket</th>\n",
       "      <th>Fare</th>\n",
       "      <th>Cabin</th>\n",
       "      <th>Embarked</th>\n",
       "    </tr>\n",
       "  </thead>\n",
       "  <tbody>\n",
       "    <tr>\n",
       "      <th>0</th>\n",
       "      <td>0.0</td>\n",
       "      <td>3</td>\n",
       "      <td>Braund, Mr. Owen Harris</td>\n",
       "      <td>0</td>\n",
       "      <td>1.0</td>\n",
       "      <td>1</td>\n",
       "      <td>0</td>\n",
       "      <td>A/5 21171</td>\n",
       "      <td>7.2500</td>\n",
       "      <td>NaN</td>\n",
       "      <td>S</td>\n",
       "    </tr>\n",
       "    <tr>\n",
       "      <th>1</th>\n",
       "      <td>1.0</td>\n",
       "      <td>1</td>\n",
       "      <td>Cumings, Mrs. John Bradley (Florence Briggs Th...</td>\n",
       "      <td>1</td>\n",
       "      <td>2.0</td>\n",
       "      <td>1</td>\n",
       "      <td>0</td>\n",
       "      <td>PC 17599</td>\n",
       "      <td>71.2833</td>\n",
       "      <td>C85</td>\n",
       "      <td>C</td>\n",
       "    </tr>\n",
       "    <tr>\n",
       "      <th>2</th>\n",
       "      <td>1.0</td>\n",
       "      <td>3</td>\n",
       "      <td>Heikkinen, Miss. Laina</td>\n",
       "      <td>1</td>\n",
       "      <td>1.0</td>\n",
       "      <td>0</td>\n",
       "      <td>0</td>\n",
       "      <td>STON/O2. 3101282</td>\n",
       "      <td>7.9250</td>\n",
       "      <td>NaN</td>\n",
       "      <td>S</td>\n",
       "    </tr>\n",
       "    <tr>\n",
       "      <th>3</th>\n",
       "      <td>1.0</td>\n",
       "      <td>1</td>\n",
       "      <td>Futrelle, Mrs. Jacques Heath (Lily May Peel)</td>\n",
       "      <td>1</td>\n",
       "      <td>2.0</td>\n",
       "      <td>1</td>\n",
       "      <td>0</td>\n",
       "      <td>113803</td>\n",
       "      <td>53.1000</td>\n",
       "      <td>C123</td>\n",
       "      <td>S</td>\n",
       "    </tr>\n",
       "    <tr>\n",
       "      <th>4</th>\n",
       "      <td>0.0</td>\n",
       "      <td>3</td>\n",
       "      <td>Allen, Mr. William Henry</td>\n",
       "      <td>0</td>\n",
       "      <td>2.0</td>\n",
       "      <td>0</td>\n",
       "      <td>0</td>\n",
       "      <td>373450</td>\n",
       "      <td>8.0500</td>\n",
       "      <td>NaN</td>\n",
       "      <td>S</td>\n",
       "    </tr>\n",
       "    <tr>\n",
       "      <th>...</th>\n",
       "      <td>...</td>\n",
       "      <td>...</td>\n",
       "      <td>...</td>\n",
       "      <td>...</td>\n",
       "      <td>...</td>\n",
       "      <td>...</td>\n",
       "      <td>...</td>\n",
       "      <td>...</td>\n",
       "      <td>...</td>\n",
       "      <td>...</td>\n",
       "      <td>...</td>\n",
       "    </tr>\n",
       "    <tr>\n",
       "      <th>413</th>\n",
       "      <td>NaN</td>\n",
       "      <td>3</td>\n",
       "      <td>Spector, Mr. Woolf</td>\n",
       "      <td>0</td>\n",
       "      <td>NaN</td>\n",
       "      <td>0</td>\n",
       "      <td>0</td>\n",
       "      <td>A.5. 3236</td>\n",
       "      <td>8.0500</td>\n",
       "      <td>NaN</td>\n",
       "      <td>S</td>\n",
       "    </tr>\n",
       "    <tr>\n",
       "      <th>414</th>\n",
       "      <td>NaN</td>\n",
       "      <td>1</td>\n",
       "      <td>Oliva y Ocana, Dona. Fermina</td>\n",
       "      <td>1</td>\n",
       "      <td>2.0</td>\n",
       "      <td>0</td>\n",
       "      <td>0</td>\n",
       "      <td>PC 17758</td>\n",
       "      <td>108.9000</td>\n",
       "      <td>C105</td>\n",
       "      <td>C</td>\n",
       "    </tr>\n",
       "    <tr>\n",
       "      <th>415</th>\n",
       "      <td>NaN</td>\n",
       "      <td>3</td>\n",
       "      <td>Saether, Mr. Simon Sivertsen</td>\n",
       "      <td>0</td>\n",
       "      <td>2.0</td>\n",
       "      <td>0</td>\n",
       "      <td>0</td>\n",
       "      <td>SOTON/O.Q. 3101262</td>\n",
       "      <td>7.2500</td>\n",
       "      <td>NaN</td>\n",
       "      <td>S</td>\n",
       "    </tr>\n",
       "    <tr>\n",
       "      <th>416</th>\n",
       "      <td>NaN</td>\n",
       "      <td>3</td>\n",
       "      <td>Ware, Mr. Frederick</td>\n",
       "      <td>0</td>\n",
       "      <td>NaN</td>\n",
       "      <td>0</td>\n",
       "      <td>0</td>\n",
       "      <td>359309</td>\n",
       "      <td>8.0500</td>\n",
       "      <td>NaN</td>\n",
       "      <td>S</td>\n",
       "    </tr>\n",
       "    <tr>\n",
       "      <th>417</th>\n",
       "      <td>NaN</td>\n",
       "      <td>3</td>\n",
       "      <td>Peter, Master. Michael J</td>\n",
       "      <td>0</td>\n",
       "      <td>NaN</td>\n",
       "      <td>1</td>\n",
       "      <td>1</td>\n",
       "      <td>2668</td>\n",
       "      <td>22.3583</td>\n",
       "      <td>NaN</td>\n",
       "      <td>C</td>\n",
       "    </tr>\n",
       "  </tbody>\n",
       "</table>\n",
       "<p>1309 rows × 11 columns</p>\n",
       "</div>"
      ],
      "text/plain": [
       "     Survived  Pclass                                               Name  Sex  \\\n",
       "0         0.0       3                            Braund, Mr. Owen Harris    0   \n",
       "1         1.0       1  Cumings, Mrs. John Bradley (Florence Briggs Th...    1   \n",
       "2         1.0       3                             Heikkinen, Miss. Laina    1   \n",
       "3         1.0       1       Futrelle, Mrs. Jacques Heath (Lily May Peel)    1   \n",
       "4         0.0       3                           Allen, Mr. William Henry    0   \n",
       "..        ...     ...                                                ...  ...   \n",
       "413       NaN       3                                 Spector, Mr. Woolf    0   \n",
       "414       NaN       1                       Oliva y Ocana, Dona. Fermina    1   \n",
       "415       NaN       3                       Saether, Mr. Simon Sivertsen    0   \n",
       "416       NaN       3                                Ware, Mr. Frederick    0   \n",
       "417       NaN       3                           Peter, Master. Michael J    0   \n",
       "\n",
       "     Age  SibSp  Parch              Ticket      Fare Cabin Embarked  \n",
       "0    1.0      1      0           A/5 21171    7.2500   NaN        S  \n",
       "1    2.0      1      0            PC 17599   71.2833   C85        C  \n",
       "2    1.0      0      0    STON/O2. 3101282    7.9250   NaN        S  \n",
       "3    2.0      1      0              113803   53.1000  C123        S  \n",
       "4    2.0      0      0              373450    8.0500   NaN        S  \n",
       "..   ...    ...    ...                 ...       ...   ...      ...  \n",
       "413  NaN      0      0           A.5. 3236    8.0500   NaN        S  \n",
       "414  2.0      0      0            PC 17758  108.9000  C105        C  \n",
       "415  2.0      0      0  SOTON/O.Q. 3101262    7.2500   NaN        S  \n",
       "416  NaN      0      0              359309    8.0500   NaN        S  \n",
       "417  NaN      1      1                2668   22.3583   NaN        C  \n",
       "\n",
       "[1309 rows x 11 columns]"
      ]
     },
     "execution_count": 24,
     "metadata": {},
     "output_type": "execute_result"
    }
   ],
   "source": [
    "df"
   ]
  },
  {
   "cell_type": "code",
   "execution_count": 25,
   "metadata": {
    "execution": {
     "iopub.execute_input": "2023-11-22T15:28:53.059074Z",
     "iopub.status.busy": "2023-11-22T15:28:53.058156Z",
     "iopub.status.idle": "2023-11-22T15:28:53.088094Z",
     "shell.execute_reply": "2023-11-22T15:28:53.086741Z",
     "shell.execute_reply.started": "2023-11-22T15:28:53.059027Z"
    }
   },
   "outputs": [
    {
     "data": {
      "text/html": [
       "<div>\n",
       "<style scoped>\n",
       "    .dataframe tbody tr th:only-of-type {\n",
       "        vertical-align: middle;\n",
       "    }\n",
       "\n",
       "    .dataframe tbody tr th {\n",
       "        vertical-align: top;\n",
       "    }\n",
       "\n",
       "    .dataframe thead th {\n",
       "        text-align: right;\n",
       "    }\n",
       "</style>\n",
       "<table border=\"1\" class=\"dataframe\">\n",
       "  <thead>\n",
       "    <tr style=\"text-align: right;\">\n",
       "      <th></th>\n",
       "      <th>Survived</th>\n",
       "      <th>Pclass</th>\n",
       "      <th>Name</th>\n",
       "      <th>Sex</th>\n",
       "      <th>Age</th>\n",
       "      <th>SibSp</th>\n",
       "      <th>Parch</th>\n",
       "      <th>Ticket</th>\n",
       "      <th>Fare</th>\n",
       "      <th>Cabin</th>\n",
       "      <th>Embarked</th>\n",
       "    </tr>\n",
       "  </thead>\n",
       "  <tbody>\n",
       "    <tr>\n",
       "      <th>5</th>\n",
       "      <td>0.0</td>\n",
       "      <td>3</td>\n",
       "      <td>Moran, Mr. James</td>\n",
       "      <td>0</td>\n",
       "      <td>NaN</td>\n",
       "      <td>0</td>\n",
       "      <td>0</td>\n",
       "      <td>330877</td>\n",
       "      <td>8.4583</td>\n",
       "      <td>NaN</td>\n",
       "      <td>Q</td>\n",
       "    </tr>\n",
       "    <tr>\n",
       "      <th>17</th>\n",
       "      <td>1.0</td>\n",
       "      <td>2</td>\n",
       "      <td>Williams, Mr. Charles Eugene</td>\n",
       "      <td>0</td>\n",
       "      <td>NaN</td>\n",
       "      <td>0</td>\n",
       "      <td>0</td>\n",
       "      <td>244373</td>\n",
       "      <td>13.0000</td>\n",
       "      <td>NaN</td>\n",
       "      <td>S</td>\n",
       "    </tr>\n",
       "    <tr>\n",
       "      <th>19</th>\n",
       "      <td>1.0</td>\n",
       "      <td>3</td>\n",
       "      <td>Masselmani, Mrs. Fatima</td>\n",
       "      <td>1</td>\n",
       "      <td>NaN</td>\n",
       "      <td>0</td>\n",
       "      <td>0</td>\n",
       "      <td>2649</td>\n",
       "      <td>7.2250</td>\n",
       "      <td>NaN</td>\n",
       "      <td>C</td>\n",
       "    </tr>\n",
       "    <tr>\n",
       "      <th>26</th>\n",
       "      <td>0.0</td>\n",
       "      <td>3</td>\n",
       "      <td>Emir, Mr. Farred Chehab</td>\n",
       "      <td>0</td>\n",
       "      <td>NaN</td>\n",
       "      <td>0</td>\n",
       "      <td>0</td>\n",
       "      <td>2631</td>\n",
       "      <td>7.2250</td>\n",
       "      <td>NaN</td>\n",
       "      <td>C</td>\n",
       "    </tr>\n",
       "    <tr>\n",
       "      <th>28</th>\n",
       "      <td>1.0</td>\n",
       "      <td>3</td>\n",
       "      <td>O'Dwyer, Miss. Ellen \"Nellie\"</td>\n",
       "      <td>1</td>\n",
       "      <td>NaN</td>\n",
       "      <td>0</td>\n",
       "      <td>0</td>\n",
       "      <td>330959</td>\n",
       "      <td>7.8792</td>\n",
       "      <td>NaN</td>\n",
       "      <td>Q</td>\n",
       "    </tr>\n",
       "    <tr>\n",
       "      <th>...</th>\n",
       "      <td>...</td>\n",
       "      <td>...</td>\n",
       "      <td>...</td>\n",
       "      <td>...</td>\n",
       "      <td>...</td>\n",
       "      <td>...</td>\n",
       "      <td>...</td>\n",
       "      <td>...</td>\n",
       "      <td>...</td>\n",
       "      <td>...</td>\n",
       "      <td>...</td>\n",
       "    </tr>\n",
       "    <tr>\n",
       "      <th>408</th>\n",
       "      <td>NaN</td>\n",
       "      <td>3</td>\n",
       "      <td>Riordan, Miss. Johanna Hannah\"\"</td>\n",
       "      <td>1</td>\n",
       "      <td>NaN</td>\n",
       "      <td>0</td>\n",
       "      <td>0</td>\n",
       "      <td>334915</td>\n",
       "      <td>7.7208</td>\n",
       "      <td>NaN</td>\n",
       "      <td>Q</td>\n",
       "    </tr>\n",
       "    <tr>\n",
       "      <th>410</th>\n",
       "      <td>NaN</td>\n",
       "      <td>3</td>\n",
       "      <td>Naughton, Miss. Hannah</td>\n",
       "      <td>1</td>\n",
       "      <td>NaN</td>\n",
       "      <td>0</td>\n",
       "      <td>0</td>\n",
       "      <td>365237</td>\n",
       "      <td>7.7500</td>\n",
       "      <td>NaN</td>\n",
       "      <td>Q</td>\n",
       "    </tr>\n",
       "    <tr>\n",
       "      <th>413</th>\n",
       "      <td>NaN</td>\n",
       "      <td>3</td>\n",
       "      <td>Spector, Mr. Woolf</td>\n",
       "      <td>0</td>\n",
       "      <td>NaN</td>\n",
       "      <td>0</td>\n",
       "      <td>0</td>\n",
       "      <td>A.5. 3236</td>\n",
       "      <td>8.0500</td>\n",
       "      <td>NaN</td>\n",
       "      <td>S</td>\n",
       "    </tr>\n",
       "    <tr>\n",
       "      <th>416</th>\n",
       "      <td>NaN</td>\n",
       "      <td>3</td>\n",
       "      <td>Ware, Mr. Frederick</td>\n",
       "      <td>0</td>\n",
       "      <td>NaN</td>\n",
       "      <td>0</td>\n",
       "      <td>0</td>\n",
       "      <td>359309</td>\n",
       "      <td>8.0500</td>\n",
       "      <td>NaN</td>\n",
       "      <td>S</td>\n",
       "    </tr>\n",
       "    <tr>\n",
       "      <th>417</th>\n",
       "      <td>NaN</td>\n",
       "      <td>3</td>\n",
       "      <td>Peter, Master. Michael J</td>\n",
       "      <td>0</td>\n",
       "      <td>NaN</td>\n",
       "      <td>1</td>\n",
       "      <td>1</td>\n",
       "      <td>2668</td>\n",
       "      <td>22.3583</td>\n",
       "      <td>NaN</td>\n",
       "      <td>C</td>\n",
       "    </tr>\n",
       "  </tbody>\n",
       "</table>\n",
       "<p>263 rows × 11 columns</p>\n",
       "</div>"
      ],
      "text/plain": [
       "     Survived  Pclass                             Name  Sex  Age  SibSp  \\\n",
       "5         0.0       3                 Moran, Mr. James    0  NaN      0   \n",
       "17        1.0       2     Williams, Mr. Charles Eugene    0  NaN      0   \n",
       "19        1.0       3          Masselmani, Mrs. Fatima    1  NaN      0   \n",
       "26        0.0       3          Emir, Mr. Farred Chehab    0  NaN      0   \n",
       "28        1.0       3    O'Dwyer, Miss. Ellen \"Nellie\"    1  NaN      0   \n",
       "..        ...     ...                              ...  ...  ...    ...   \n",
       "408       NaN       3  Riordan, Miss. Johanna Hannah\"\"    1  NaN      0   \n",
       "410       NaN       3           Naughton, Miss. Hannah    1  NaN      0   \n",
       "413       NaN       3               Spector, Mr. Woolf    0  NaN      0   \n",
       "416       NaN       3              Ware, Mr. Frederick    0  NaN      0   \n",
       "417       NaN       3         Peter, Master. Michael J    0  NaN      1   \n",
       "\n",
       "     Parch     Ticket     Fare Cabin Embarked  \n",
       "5        0     330877   8.4583   NaN        Q  \n",
       "17       0     244373  13.0000   NaN        S  \n",
       "19       0       2649   7.2250   NaN        C  \n",
       "26       0       2631   7.2250   NaN        C  \n",
       "28       0     330959   7.8792   NaN        Q  \n",
       "..     ...        ...      ...   ...      ...  \n",
       "408      0     334915   7.7208   NaN        Q  \n",
       "410      0     365237   7.7500   NaN        Q  \n",
       "413      0  A.5. 3236   8.0500   NaN        S  \n",
       "416      0     359309   8.0500   NaN        S  \n",
       "417      1       2668  22.3583   NaN        C  \n",
       "\n",
       "[263 rows x 11 columns]"
      ]
     },
     "execution_count": 25,
     "metadata": {},
     "output_type": "execute_result"
    }
   ],
   "source": [
    "df[df['Age'].isnull()]"
   ]
  },
  {
   "cell_type": "code",
   "execution_count": 26,
   "metadata": {
    "execution": {
     "iopub.execute_input": "2023-11-22T15:28:53.090350Z",
     "iopub.status.busy": "2023-11-22T15:28:53.089848Z",
     "iopub.status.idle": "2023-11-22T15:28:53.109646Z",
     "shell.execute_reply": "2023-11-22T15:28:53.108386Z",
     "shell.execute_reply.started": "2023-11-22T15:28:53.090241Z"
    }
   },
   "outputs": [
    {
     "data": {
      "text/html": [
       "<div>\n",
       "<style scoped>\n",
       "    .dataframe tbody tr th:only-of-type {\n",
       "        vertical-align: middle;\n",
       "    }\n",
       "\n",
       "    .dataframe tbody tr th {\n",
       "        vertical-align: top;\n",
       "    }\n",
       "\n",
       "    .dataframe thead th {\n",
       "        text-align: right;\n",
       "    }\n",
       "</style>\n",
       "<table border=\"1\" class=\"dataframe\">\n",
       "  <thead>\n",
       "    <tr style=\"text-align: right;\">\n",
       "      <th></th>\n",
       "      <th>Survived</th>\n",
       "      <th>Pclass</th>\n",
       "      <th>Name</th>\n",
       "      <th>Sex</th>\n",
       "      <th>Age</th>\n",
       "      <th>SibSp</th>\n",
       "      <th>Parch</th>\n",
       "      <th>Ticket</th>\n",
       "      <th>Fare</th>\n",
       "      <th>Cabin</th>\n",
       "      <th>Embarked</th>\n",
       "    </tr>\n",
       "  </thead>\n",
       "  <tbody>\n",
       "    <tr>\n",
       "      <th>61</th>\n",
       "      <td>1.0</td>\n",
       "      <td>1</td>\n",
       "      <td>Icard, Miss. Amelie</td>\n",
       "      <td>1</td>\n",
       "      <td>2.0</td>\n",
       "      <td>0</td>\n",
       "      <td>0</td>\n",
       "      <td>113572</td>\n",
       "      <td>80.0</td>\n",
       "      <td>B28</td>\n",
       "      <td>NaN</td>\n",
       "    </tr>\n",
       "    <tr>\n",
       "      <th>829</th>\n",
       "      <td>1.0</td>\n",
       "      <td>1</td>\n",
       "      <td>Stone, Mrs. George Nelson (Martha Evelyn)</td>\n",
       "      <td>1</td>\n",
       "      <td>3.0</td>\n",
       "      <td>0</td>\n",
       "      <td>0</td>\n",
       "      <td>113572</td>\n",
       "      <td>80.0</td>\n",
       "      <td>B28</td>\n",
       "      <td>NaN</td>\n",
       "    </tr>\n",
       "  </tbody>\n",
       "</table>\n",
       "</div>"
      ],
      "text/plain": [
       "     Survived  Pclass                                       Name  Sex  Age  \\\n",
       "61        1.0       1                        Icard, Miss. Amelie    1  2.0   \n",
       "829       1.0       1  Stone, Mrs. George Nelson (Martha Evelyn)    1  3.0   \n",
       "\n",
       "     SibSp  Parch  Ticket  Fare Cabin Embarked  \n",
       "61       0      0  113572  80.0   B28      NaN  \n",
       "829      0      0  113572  80.0   B28      NaN  "
      ]
     },
     "execution_count": 26,
     "metadata": {},
     "output_type": "execute_result"
    }
   ],
   "source": [
    "df[df['Embarked'].isnull()]"
   ]
  },
  {
   "cell_type": "markdown",
   "metadata": {},
   "source": [
    "We drop the columns that are not useful or have a lot of missing values."
   ]
  },
  {
   "cell_type": "code",
   "execution_count": 27,
   "metadata": {
    "execution": {
     "iopub.execute_input": "2023-11-22T15:28:53.111989Z",
     "iopub.status.busy": "2023-11-22T15:28:53.110958Z",
     "iopub.status.idle": "2023-11-22T15:28:53.121129Z",
     "shell.execute_reply": "2023-11-22T15:28:53.120358Z",
     "shell.execute_reply.started": "2023-11-22T15:28:53.111957Z"
    }
   },
   "outputs": [],
   "source": [
    "df.drop(['Cabin','Name','Ticket','Fare'], axis = 1, inplace = True)"
   ]
  },
  {
   "cell_type": "code",
   "execution_count": 28,
   "metadata": {
    "execution": {
     "iopub.execute_input": "2023-11-22T15:28:53.133497Z",
     "iopub.status.busy": "2023-11-22T15:28:53.132587Z",
     "iopub.status.idle": "2023-11-22T15:28:53.141556Z",
     "shell.execute_reply": "2023-11-22T15:28:53.140490Z",
     "shell.execute_reply.started": "2023-11-22T15:28:53.133455Z"
    }
   },
   "outputs": [
    {
     "data": {
      "text/plain": [
       "array(['S', 'C', 'Q', nan], dtype=object)"
      ]
     },
     "execution_count": 28,
     "metadata": {},
     "output_type": "execute_result"
    }
   ],
   "source": [
    "df['Embarked'].unique()"
   ]
  },
  {
   "cell_type": "markdown",
   "metadata": {},
   "source": [
    "We categorize the ``Embarked`` variable:"
   ]
  },
  {
   "cell_type": "code",
   "execution_count": 29,
   "metadata": {
    "execution": {
     "iopub.execute_input": "2023-11-22T15:28:53.143863Z",
     "iopub.status.busy": "2023-11-22T15:28:53.142857Z",
     "iopub.status.idle": "2023-11-22T15:28:53.153429Z",
     "shell.execute_reply": "2023-11-22T15:28:53.152261Z",
     "shell.execute_reply.started": "2023-11-22T15:28:53.143828Z"
    }
   },
   "outputs": [],
   "source": [
    "df['Embarked'].replace({'S':'0','Q':'1','C':'2'},inplace = True)"
   ]
  },
  {
   "cell_type": "code",
   "execution_count": 30,
   "metadata": {
    "execution": {
     "iopub.execute_input": "2023-11-22T15:28:53.156019Z",
     "iopub.status.busy": "2023-11-22T15:28:53.154926Z",
     "iopub.status.idle": "2023-11-22T15:28:53.168145Z",
     "shell.execute_reply": "2023-11-22T15:28:53.167226Z",
     "shell.execute_reply.started": "2023-11-22T15:28:53.155981Z"
    }
   },
   "outputs": [],
   "source": [
    "df['Embarked'] = pd.to_numeric(df['Embarked'],downcast='integer')\n",
    "#pd.cut(df['Age'],bins = 4,labels=['0-18','18-32','32-48''48-64','+64'])"
   ]
  },
  {
   "cell_type": "code",
   "execution_count": 31,
   "metadata": {
    "execution": {
     "iopub.execute_input": "2023-11-22T15:28:53.170825Z",
     "iopub.status.busy": "2023-11-22T15:28:53.169730Z",
     "iopub.status.idle": "2023-11-22T15:28:53.182600Z",
     "shell.execute_reply": "2023-11-22T15:28:53.181394Z",
     "shell.execute_reply.started": "2023-11-22T15:28:53.170779Z"
    }
   },
   "outputs": [
    {
     "data": {
      "text/plain": [
       "Survived   -0.061594\n",
       "Pclass     -0.395428\n",
       "Sex        -0.071011\n",
       "Age         1.000000\n",
       "SibSp      -0.221965\n",
       "Parch      -0.124645\n",
       "Embarked    0.076516\n",
       "Name: Age, dtype: float64"
      ]
     },
     "execution_count": 31,
     "metadata": {},
     "output_type": "execute_result"
    }
   ],
   "source": [
    "df.corr()['Age']"
   ]
  },
  {
   "cell_type": "code",
   "execution_count": 32,
   "metadata": {
    "execution": {
     "iopub.execute_input": "2023-11-22T15:28:53.184950Z",
     "iopub.status.busy": "2023-11-22T15:28:53.184114Z",
     "iopub.status.idle": "2023-11-22T15:28:53.194412Z",
     "shell.execute_reply": "2023-11-22T15:28:53.193641Z",
     "shell.execute_reply.started": "2023-11-22T15:28:53.184916Z"
    }
   },
   "outputs": [
    {
     "data": {
      "text/plain": [
       "Survived    1.000000\n",
       "Pclass     -0.338481\n",
       "Sex         0.543351\n",
       "Age        -0.061594\n",
       "SibSp      -0.035322\n",
       "Parch       0.081629\n",
       "Embarked    0.169718\n",
       "Name: Survived, dtype: float64"
      ]
     },
     "execution_count": 32,
     "metadata": {},
     "output_type": "execute_result"
    }
   ],
   "source": [
    "df.iloc[:len(train),:].corr()['Survived']"
   ]
  },
  {
   "cell_type": "code",
   "execution_count": 33,
   "metadata": {
    "execution": {
     "iopub.execute_input": "2023-11-22T15:28:53.196779Z",
     "iopub.status.busy": "2023-11-22T15:28:53.195932Z",
     "iopub.status.idle": "2023-11-22T15:28:53.217798Z",
     "shell.execute_reply": "2023-11-22T15:28:53.216644Z",
     "shell.execute_reply.started": "2023-11-22T15:28:53.196748Z"
    }
   },
   "outputs": [
    {
     "data": {
      "text/html": [
       "<div>\n",
       "<style scoped>\n",
       "    .dataframe tbody tr th:only-of-type {\n",
       "        vertical-align: middle;\n",
       "    }\n",
       "\n",
       "    .dataframe tbody tr th {\n",
       "        vertical-align: top;\n",
       "    }\n",
       "\n",
       "    .dataframe thead th {\n",
       "        text-align: right;\n",
       "    }\n",
       "</style>\n",
       "<table border=\"1\" class=\"dataframe\">\n",
       "  <thead>\n",
       "    <tr style=\"text-align: right;\">\n",
       "      <th></th>\n",
       "      <th>Survived</th>\n",
       "      <th>Pclass</th>\n",
       "      <th>Sex</th>\n",
       "      <th>Age</th>\n",
       "      <th>SibSp</th>\n",
       "      <th>Parch</th>\n",
       "      <th>Embarked</th>\n",
       "    </tr>\n",
       "  </thead>\n",
       "  <tbody>\n",
       "    <tr>\n",
       "      <th>0</th>\n",
       "      <td>0.0</td>\n",
       "      <td>3</td>\n",
       "      <td>0</td>\n",
       "      <td>1.0</td>\n",
       "      <td>1</td>\n",
       "      <td>0</td>\n",
       "      <td>0.0</td>\n",
       "    </tr>\n",
       "    <tr>\n",
       "      <th>1</th>\n",
       "      <td>1.0</td>\n",
       "      <td>1</td>\n",
       "      <td>1</td>\n",
       "      <td>2.0</td>\n",
       "      <td>1</td>\n",
       "      <td>0</td>\n",
       "      <td>2.0</td>\n",
       "    </tr>\n",
       "    <tr>\n",
       "      <th>2</th>\n",
       "      <td>1.0</td>\n",
       "      <td>3</td>\n",
       "      <td>1</td>\n",
       "      <td>1.0</td>\n",
       "      <td>0</td>\n",
       "      <td>0</td>\n",
       "      <td>0.0</td>\n",
       "    </tr>\n",
       "    <tr>\n",
       "      <th>3</th>\n",
       "      <td>1.0</td>\n",
       "      <td>1</td>\n",
       "      <td>1</td>\n",
       "      <td>2.0</td>\n",
       "      <td>1</td>\n",
       "      <td>0</td>\n",
       "      <td>0.0</td>\n",
       "    </tr>\n",
       "    <tr>\n",
       "      <th>4</th>\n",
       "      <td>0.0</td>\n",
       "      <td>3</td>\n",
       "      <td>0</td>\n",
       "      <td>2.0</td>\n",
       "      <td>0</td>\n",
       "      <td>0</td>\n",
       "      <td>0.0</td>\n",
       "    </tr>\n",
       "    <tr>\n",
       "      <th>...</th>\n",
       "      <td>...</td>\n",
       "      <td>...</td>\n",
       "      <td>...</td>\n",
       "      <td>...</td>\n",
       "      <td>...</td>\n",
       "      <td>...</td>\n",
       "      <td>...</td>\n",
       "    </tr>\n",
       "    <tr>\n",
       "      <th>886</th>\n",
       "      <td>0.0</td>\n",
       "      <td>2</td>\n",
       "      <td>0</td>\n",
       "      <td>1.0</td>\n",
       "      <td>0</td>\n",
       "      <td>0</td>\n",
       "      <td>0.0</td>\n",
       "    </tr>\n",
       "    <tr>\n",
       "      <th>887</th>\n",
       "      <td>1.0</td>\n",
       "      <td>1</td>\n",
       "      <td>1</td>\n",
       "      <td>1.0</td>\n",
       "      <td>0</td>\n",
       "      <td>0</td>\n",
       "      <td>0.0</td>\n",
       "    </tr>\n",
       "    <tr>\n",
       "      <th>888</th>\n",
       "      <td>0.0</td>\n",
       "      <td>3</td>\n",
       "      <td>1</td>\n",
       "      <td>NaN</td>\n",
       "      <td>1</td>\n",
       "      <td>2</td>\n",
       "      <td>0.0</td>\n",
       "    </tr>\n",
       "    <tr>\n",
       "      <th>889</th>\n",
       "      <td>1.0</td>\n",
       "      <td>1</td>\n",
       "      <td>0</td>\n",
       "      <td>1.0</td>\n",
       "      <td>0</td>\n",
       "      <td>0</td>\n",
       "      <td>2.0</td>\n",
       "    </tr>\n",
       "    <tr>\n",
       "      <th>890</th>\n",
       "      <td>0.0</td>\n",
       "      <td>3</td>\n",
       "      <td>0</td>\n",
       "      <td>1.0</td>\n",
       "      <td>0</td>\n",
       "      <td>0</td>\n",
       "      <td>1.0</td>\n",
       "    </tr>\n",
       "  </tbody>\n",
       "</table>\n",
       "<p>891 rows × 7 columns</p>\n",
       "</div>"
      ],
      "text/plain": [
       "     Survived  Pclass  Sex  Age  SibSp  Parch  Embarked\n",
       "0         0.0       3    0  1.0      1      0       0.0\n",
       "1         1.0       1    1  2.0      1      0       2.0\n",
       "2         1.0       3    1  1.0      0      0       0.0\n",
       "3         1.0       1    1  2.0      1      0       0.0\n",
       "4         0.0       3    0  2.0      0      0       0.0\n",
       "..        ...     ...  ...  ...    ...    ...       ...\n",
       "886       0.0       2    0  1.0      0      0       0.0\n",
       "887       1.0       1    1  1.0      0      0       0.0\n",
       "888       0.0       3    1  NaN      1      2       0.0\n",
       "889       1.0       1    0  1.0      0      0       2.0\n",
       "890       0.0       3    0  1.0      0      0       1.0\n",
       "\n",
       "[891 rows x 7 columns]"
      ]
     },
     "execution_count": 33,
     "metadata": {},
     "output_type": "execute_result"
    }
   ],
   "source": [
    "df.iloc[:len(train),:]"
   ]
  },
  {
   "cell_type": "markdown",
   "metadata": {},
   "source": [
    "Let's input the missing values of the ``Age`` variable with different input tecniques:"
   ]
  },
  {
   "cell_type": "code",
   "execution_count": 35,
   "metadata": {
    "execution": {
     "iopub.execute_input": "2023-11-22T15:28:53.246604Z",
     "iopub.status.busy": "2023-11-22T15:28:53.246231Z",
     "iopub.status.idle": "2023-11-22T15:28:54.017072Z",
     "shell.execute_reply": "2023-11-22T15:28:54.015810Z",
     "shell.execute_reply.started": "2023-11-22T15:28:53.246573Z"
    }
   },
   "outputs": [],
   "source": [
    "from sklearn.ensemble import RandomForestClassifier\n",
    "from sklearn.impute import SimpleImputer\n",
    "from sklearn.experimental import enable_iterative_imputer\n",
    "from sklearn.impute import IterativeImputer"
   ]
  },
  {
   "cell_type": "code",
   "execution_count": 36,
   "metadata": {
    "execution": {
     "iopub.execute_input": "2023-11-22T15:28:54.019253Z",
     "iopub.status.busy": "2023-11-22T15:28:54.018773Z",
     "iopub.status.idle": "2023-11-22T15:28:54.028253Z",
     "shell.execute_reply": "2023-11-22T15:28:54.027430Z",
     "shell.execute_reply.started": "2023-11-22T15:28:54.019210Z"
    }
   },
   "outputs": [],
   "source": [
    "regression_imputer = IterativeImputer(estimator=RandomForestClassifier())\n",
    "lr_imp = regression_imputer.fit(np.array(df['Pclass']).reshape(-1,1),np.array(df['Age']).reshape(-1,1) )\n",
    "\n"
   ]
  },
  {
   "cell_type": "code",
   "execution_count": 37,
   "metadata": {
    "execution": {
     "iopub.execute_input": "2023-11-22T15:28:54.030220Z",
     "iopub.status.busy": "2023-11-22T15:28:54.029870Z",
     "iopub.status.idle": "2023-11-22T15:28:54.046153Z",
     "shell.execute_reply": "2023-11-22T15:28:54.044807Z",
     "shell.execute_reply.started": "2023-11-22T15:28:54.030191Z"
    }
   },
   "outputs": [
    {
     "data": {
      "text/plain": [
       "array([[ 3.,  1.],\n",
       "       [ 1.,  2.],\n",
       "       [ 3.,  1.],\n",
       "       ...,\n",
       "       [ 3.,  2.],\n",
       "       [ 3., nan],\n",
       "       [ 3., nan]])"
      ]
     },
     "execution_count": 37,
     "metadata": {},
     "output_type": "execute_result"
    }
   ],
   "source": [
    "df.iloc[:,[1,3]].values"
   ]
  },
  {
   "cell_type": "code",
   "execution_count": 38,
   "metadata": {
    "execution": {
     "iopub.execute_input": "2023-11-22T15:28:54.047964Z",
     "iopub.status.busy": "2023-11-22T15:28:54.047542Z",
     "iopub.status.idle": "2023-11-22T15:28:54.056631Z",
     "shell.execute_reply": "2023-11-22T15:28:54.055779Z",
     "shell.execute_reply.started": "2023-11-22T15:28:54.047835Z"
    }
   },
   "outputs": [],
   "source": [
    "impt=lr_imp.transform(df.iloc[:,[3]].values)"
   ]
  },
  {
   "cell_type": "code",
   "execution_count": 39,
   "metadata": {
    "execution": {
     "iopub.execute_input": "2023-11-22T15:28:54.058542Z",
     "iopub.status.busy": "2023-11-22T15:28:54.057680Z",
     "iopub.status.idle": "2023-11-22T15:28:54.069241Z",
     "shell.execute_reply": "2023-11-22T15:28:54.068159Z",
     "shell.execute_reply.started": "2023-11-22T15:28:54.058509Z"
    }
   },
   "outputs": [],
   "source": [
    "ori=df.iloc[:,[3]].values"
   ]
  },
  {
   "cell_type": "code",
   "execution_count": 40,
   "metadata": {
    "execution": {
     "iopub.execute_input": "2023-11-22T15:28:54.071792Z",
     "iopub.status.busy": "2023-11-22T15:28:54.070749Z",
     "iopub.status.idle": "2023-11-22T15:28:54.080654Z",
     "shell.execute_reply": "2023-11-22T15:28:54.079542Z",
     "shell.execute_reply.started": "2023-11-22T15:28:54.071740Z"
    }
   },
   "outputs": [],
   "source": [
    "def rmse_score(df1, df2, col=None):\n",
    "    '''\n",
    "    df1: original dataframe without missing data\n",
    "    df2: dataframe with missing data\n",
    "    col: column name that contains missing data\n",
    "    returns: a list of scores\n",
    "    '''\n",
    "    df_missing = df2.rename(columns={col: 'missing'})\n",
    "    columns = df_missing.loc[:, 'missing':].columns.tolist()\n",
    "    scores = []\n",
    "    for comp_col in columns[1:]:\n",
    "        rmse = np.sqrt(np.mean((df1[col] - df_missing[comp_col])**2))\n",
    "        scores.append(rmse)\n",
    "        print(f'RMSE for {comp_col}: {rmse}')\n",
    "        return scores"
   ]
  },
  {
   "cell_type": "code",
   "execution_count": 41,
   "metadata": {
    "execution": {
     "iopub.execute_input": "2023-11-22T15:28:54.082353Z",
     "iopub.status.busy": "2023-11-22T15:28:54.082009Z",
     "iopub.status.idle": "2023-11-22T15:28:54.098698Z",
     "shell.execute_reply": "2023-11-22T15:28:54.097724Z",
     "shell.execute_reply.started": "2023-11-22T15:28:54.082295Z"
    }
   },
   "outputs": [
    {
     "data": {
      "text/plain": [
       "array([[1.        ],\n",
       "       [2.        ],\n",
       "       [1.        ],\n",
       "       ...,\n",
       "       [2.        ],\n",
       "       [2.29488159],\n",
       "       [2.29488159]])"
      ]
     },
     "execution_count": 41,
     "metadata": {},
     "output_type": "execute_result"
    }
   ],
   "source": [
    "impt"
   ]
  },
  {
   "cell_type": "code",
   "execution_count": 42,
   "metadata": {
    "execution": {
     "iopub.execute_input": "2023-11-22T15:28:54.100839Z",
     "iopub.status.busy": "2023-11-22T15:28:54.099989Z",
     "iopub.status.idle": "2023-11-22T15:28:54.110869Z",
     "shell.execute_reply": "2023-11-22T15:28:54.109675Z",
     "shell.execute_reply.started": "2023-11-22T15:28:54.100805Z"
    }
   },
   "outputs": [],
   "source": [
    "df['Age_imputated']=impt\n",
    "df['Age_imputated']=round(df['Age_imputated'])"
   ]
  },
  {
   "cell_type": "markdown",
   "metadata": {},
   "source": [
    "Let's check the correlation of the different variables:"
   ]
  },
  {
   "cell_type": "code",
   "execution_count": 43,
   "metadata": {
    "execution": {
     "iopub.execute_input": "2023-11-22T15:28:54.112912Z",
     "iopub.status.busy": "2023-11-22T15:28:54.112548Z",
     "iopub.status.idle": "2023-11-22T15:28:54.136421Z",
     "shell.execute_reply": "2023-11-22T15:28:54.135326Z",
     "shell.execute_reply.started": "2023-11-22T15:28:54.112879Z"
    }
   },
   "outputs": [
    {
     "data": {
      "text/html": [
       "<div>\n",
       "<style scoped>\n",
       "    .dataframe tbody tr th:only-of-type {\n",
       "        vertical-align: middle;\n",
       "    }\n",
       "\n",
       "    .dataframe tbody tr th {\n",
       "        vertical-align: top;\n",
       "    }\n",
       "\n",
       "    .dataframe thead th {\n",
       "        text-align: right;\n",
       "    }\n",
       "</style>\n",
       "<table border=\"1\" class=\"dataframe\">\n",
       "  <thead>\n",
       "    <tr style=\"text-align: right;\">\n",
       "      <th></th>\n",
       "      <th>Survived</th>\n",
       "      <th>Pclass</th>\n",
       "      <th>Sex</th>\n",
       "      <th>Age</th>\n",
       "      <th>SibSp</th>\n",
       "      <th>Parch</th>\n",
       "      <th>Embarked</th>\n",
       "      <th>Age_imputated</th>\n",
       "    </tr>\n",
       "  </thead>\n",
       "  <tbody>\n",
       "    <tr>\n",
       "      <th>Survived</th>\n",
       "      <td>1.000000</td>\n",
       "      <td>-0.338481</td>\n",
       "      <td>0.543351</td>\n",
       "      <td>-0.061594</td>\n",
       "      <td>-0.035322</td>\n",
       "      <td>0.081629</td>\n",
       "      <td>0.169718</td>\n",
       "      <td>-0.081591</td>\n",
       "    </tr>\n",
       "    <tr>\n",
       "      <th>Pclass</th>\n",
       "      <td>-0.338481</td>\n",
       "      <td>1.000000</td>\n",
       "      <td>-0.131900</td>\n",
       "      <td>-0.365582</td>\n",
       "      <td>0.083081</td>\n",
       "      <td>0.018443</td>\n",
       "      <td>-0.164681</td>\n",
       "      <td>-0.258025</td>\n",
       "    </tr>\n",
       "    <tr>\n",
       "      <th>Sex</th>\n",
       "      <td>0.543351</td>\n",
       "      <td>-0.131900</td>\n",
       "      <td>1.000000</td>\n",
       "      <td>-0.100041</td>\n",
       "      <td>0.114631</td>\n",
       "      <td>0.245489</td>\n",
       "      <td>0.110320</td>\n",
       "      <td>-0.102973</td>\n",
       "    </tr>\n",
       "    <tr>\n",
       "      <th>Age</th>\n",
       "      <td>-0.061594</td>\n",
       "      <td>-0.365582</td>\n",
       "      <td>-0.100041</td>\n",
       "      <td>1.000000</td>\n",
       "      <td>-0.271534</td>\n",
       "      <td>-0.158422</td>\n",
       "      <td>0.029180</td>\n",
       "      <td>1.000000</td>\n",
       "    </tr>\n",
       "    <tr>\n",
       "      <th>SibSp</th>\n",
       "      <td>-0.035322</td>\n",
       "      <td>0.083081</td>\n",
       "      <td>0.114631</td>\n",
       "      <td>-0.271534</td>\n",
       "      <td>1.000000</td>\n",
       "      <td>0.414838</td>\n",
       "      <td>-0.068900</td>\n",
       "      <td>-0.188863</td>\n",
       "    </tr>\n",
       "    <tr>\n",
       "      <th>Parch</th>\n",
       "      <td>0.081629</td>\n",
       "      <td>0.018443</td>\n",
       "      <td>0.245489</td>\n",
       "      <td>-0.158422</td>\n",
       "      <td>0.414838</td>\n",
       "      <td>1.000000</td>\n",
       "      <td>-0.040449</td>\n",
       "      <td>-0.181255</td>\n",
       "    </tr>\n",
       "    <tr>\n",
       "      <th>Embarked</th>\n",
       "      <td>0.169718</td>\n",
       "      <td>-0.164681</td>\n",
       "      <td>0.110320</td>\n",
       "      <td>0.029180</td>\n",
       "      <td>-0.068900</td>\n",
       "      <td>-0.040449</td>\n",
       "      <td>1.000000</td>\n",
       "      <td>0.072027</td>\n",
       "    </tr>\n",
       "    <tr>\n",
       "      <th>Age_imputated</th>\n",
       "      <td>-0.081591</td>\n",
       "      <td>-0.258025</td>\n",
       "      <td>-0.102973</td>\n",
       "      <td>1.000000</td>\n",
       "      <td>-0.188863</td>\n",
       "      <td>-0.181255</td>\n",
       "      <td>0.072027</td>\n",
       "      <td>1.000000</td>\n",
       "    </tr>\n",
       "  </tbody>\n",
       "</table>\n",
       "</div>"
      ],
      "text/plain": [
       "               Survived    Pclass       Sex       Age     SibSp     Parch  \\\n",
       "Survived       1.000000 -0.338481  0.543351 -0.061594 -0.035322  0.081629   \n",
       "Pclass        -0.338481  1.000000 -0.131900 -0.365582  0.083081  0.018443   \n",
       "Sex            0.543351 -0.131900  1.000000 -0.100041  0.114631  0.245489   \n",
       "Age           -0.061594 -0.365582 -0.100041  1.000000 -0.271534 -0.158422   \n",
       "SibSp         -0.035322  0.083081  0.114631 -0.271534  1.000000  0.414838   \n",
       "Parch          0.081629  0.018443  0.245489 -0.158422  0.414838  1.000000   \n",
       "Embarked       0.169718 -0.164681  0.110320  0.029180 -0.068900 -0.040449   \n",
       "Age_imputated -0.081591 -0.258025 -0.102973  1.000000 -0.188863 -0.181255   \n",
       "\n",
       "               Embarked  Age_imputated  \n",
       "Survived       0.169718      -0.081591  \n",
       "Pclass        -0.164681      -0.258025  \n",
       "Sex            0.110320      -0.102973  \n",
       "Age            0.029180       1.000000  \n",
       "SibSp         -0.068900      -0.188863  \n",
       "Parch         -0.040449      -0.181255  \n",
       "Embarked       1.000000       0.072027  \n",
       "Age_imputated  0.072027       1.000000  "
      ]
     },
     "execution_count": 43,
     "metadata": {},
     "output_type": "execute_result"
    }
   ],
   "source": [
    "df.iloc[:len(train),:].corr()"
   ]
  },
  {
   "cell_type": "code",
   "execution_count": 44,
   "metadata": {
    "execution": {
     "iopub.execute_input": "2023-11-22T15:28:54.138636Z",
     "iopub.status.busy": "2023-11-22T15:28:54.138225Z",
     "iopub.status.idle": "2023-11-22T15:28:54.144880Z",
     "shell.execute_reply": "2023-11-22T15:28:54.143957Z",
     "shell.execute_reply.started": "2023-11-22T15:28:54.138604Z"
    }
   },
   "outputs": [],
   "source": [
    "df.drop('Age',axis=1,inplace=True)"
   ]
  },
  {
   "cell_type": "code",
   "execution_count": 45,
   "metadata": {
    "execution": {
     "iopub.execute_input": "2023-11-22T15:28:54.147599Z",
     "iopub.status.busy": "2023-11-22T15:28:54.146510Z",
     "iopub.status.idle": "2023-11-22T15:28:54.172916Z",
     "shell.execute_reply": "2023-11-22T15:28:54.171682Z",
     "shell.execute_reply.started": "2023-11-22T15:28:54.147562Z"
    }
   },
   "outputs": [
    {
     "data": {
      "text/html": [
       "<div>\n",
       "<style scoped>\n",
       "    .dataframe tbody tr th:only-of-type {\n",
       "        vertical-align: middle;\n",
       "    }\n",
       "\n",
       "    .dataframe tbody tr th {\n",
       "        vertical-align: top;\n",
       "    }\n",
       "\n",
       "    .dataframe thead th {\n",
       "        text-align: right;\n",
       "    }\n",
       "</style>\n",
       "<table border=\"1\" class=\"dataframe\">\n",
       "  <thead>\n",
       "    <tr style=\"text-align: right;\">\n",
       "      <th></th>\n",
       "      <th>Survived</th>\n",
       "      <th>Pclass</th>\n",
       "      <th>Sex</th>\n",
       "      <th>SibSp</th>\n",
       "      <th>Parch</th>\n",
       "      <th>Embarked</th>\n",
       "      <th>Age_imputated</th>\n",
       "    </tr>\n",
       "  </thead>\n",
       "  <tbody>\n",
       "    <tr>\n",
       "      <th>0</th>\n",
       "      <td>0.0</td>\n",
       "      <td>3</td>\n",
       "      <td>0</td>\n",
       "      <td>1</td>\n",
       "      <td>0</td>\n",
       "      <td>0.0</td>\n",
       "      <td>1.0</td>\n",
       "    </tr>\n",
       "    <tr>\n",
       "      <th>1</th>\n",
       "      <td>1.0</td>\n",
       "      <td>1</td>\n",
       "      <td>1</td>\n",
       "      <td>1</td>\n",
       "      <td>0</td>\n",
       "      <td>2.0</td>\n",
       "      <td>2.0</td>\n",
       "    </tr>\n",
       "    <tr>\n",
       "      <th>2</th>\n",
       "      <td>1.0</td>\n",
       "      <td>3</td>\n",
       "      <td>1</td>\n",
       "      <td>0</td>\n",
       "      <td>0</td>\n",
       "      <td>0.0</td>\n",
       "      <td>1.0</td>\n",
       "    </tr>\n",
       "    <tr>\n",
       "      <th>3</th>\n",
       "      <td>1.0</td>\n",
       "      <td>1</td>\n",
       "      <td>1</td>\n",
       "      <td>1</td>\n",
       "      <td>0</td>\n",
       "      <td>0.0</td>\n",
       "      <td>2.0</td>\n",
       "    </tr>\n",
       "    <tr>\n",
       "      <th>4</th>\n",
       "      <td>0.0</td>\n",
       "      <td>3</td>\n",
       "      <td>0</td>\n",
       "      <td>0</td>\n",
       "      <td>0</td>\n",
       "      <td>0.0</td>\n",
       "      <td>2.0</td>\n",
       "    </tr>\n",
       "    <tr>\n",
       "      <th>...</th>\n",
       "      <td>...</td>\n",
       "      <td>...</td>\n",
       "      <td>...</td>\n",
       "      <td>...</td>\n",
       "      <td>...</td>\n",
       "      <td>...</td>\n",
       "      <td>...</td>\n",
       "    </tr>\n",
       "    <tr>\n",
       "      <th>413</th>\n",
       "      <td>NaN</td>\n",
       "      <td>3</td>\n",
       "      <td>0</td>\n",
       "      <td>0</td>\n",
       "      <td>0</td>\n",
       "      <td>0.0</td>\n",
       "      <td>2.0</td>\n",
       "    </tr>\n",
       "    <tr>\n",
       "      <th>414</th>\n",
       "      <td>NaN</td>\n",
       "      <td>1</td>\n",
       "      <td>1</td>\n",
       "      <td>0</td>\n",
       "      <td>0</td>\n",
       "      <td>2.0</td>\n",
       "      <td>2.0</td>\n",
       "    </tr>\n",
       "    <tr>\n",
       "      <th>415</th>\n",
       "      <td>NaN</td>\n",
       "      <td>3</td>\n",
       "      <td>0</td>\n",
       "      <td>0</td>\n",
       "      <td>0</td>\n",
       "      <td>0.0</td>\n",
       "      <td>2.0</td>\n",
       "    </tr>\n",
       "    <tr>\n",
       "      <th>416</th>\n",
       "      <td>NaN</td>\n",
       "      <td>3</td>\n",
       "      <td>0</td>\n",
       "      <td>0</td>\n",
       "      <td>0</td>\n",
       "      <td>0.0</td>\n",
       "      <td>2.0</td>\n",
       "    </tr>\n",
       "    <tr>\n",
       "      <th>417</th>\n",
       "      <td>NaN</td>\n",
       "      <td>3</td>\n",
       "      <td>0</td>\n",
       "      <td>1</td>\n",
       "      <td>1</td>\n",
       "      <td>2.0</td>\n",
       "      <td>2.0</td>\n",
       "    </tr>\n",
       "  </tbody>\n",
       "</table>\n",
       "<p>1309 rows × 7 columns</p>\n",
       "</div>"
      ],
      "text/plain": [
       "     Survived  Pclass  Sex  SibSp  Parch  Embarked  Age_imputated\n",
       "0         0.0       3    0      1      0       0.0            1.0\n",
       "1         1.0       1    1      1      0       2.0            2.0\n",
       "2         1.0       3    1      0      0       0.0            1.0\n",
       "3         1.0       1    1      1      0       0.0            2.0\n",
       "4         0.0       3    0      0      0       0.0            2.0\n",
       "..        ...     ...  ...    ...    ...       ...            ...\n",
       "413       NaN       3    0      0      0       0.0            2.0\n",
       "414       NaN       1    1      0      0       2.0            2.0\n",
       "415       NaN       3    0      0      0       0.0            2.0\n",
       "416       NaN       3    0      0      0       0.0            2.0\n",
       "417       NaN       3    0      1      1       2.0            2.0\n",
       "\n",
       "[1309 rows x 7 columns]"
      ]
     },
     "execution_count": 45,
     "metadata": {},
     "output_type": "execute_result"
    }
   ],
   "source": [
    "df"
   ]
  },
  {
   "cell_type": "code",
   "execution_count": 46,
   "metadata": {
    "execution": {
     "iopub.execute_input": "2023-11-22T15:28:54.174334Z",
     "iopub.status.busy": "2023-11-22T15:28:54.173969Z",
     "iopub.status.idle": "2023-11-22T15:28:54.379019Z",
     "shell.execute_reply": "2023-11-22T15:28:54.377660Z",
     "shell.execute_reply.started": "2023-11-22T15:28:54.174275Z"
    }
   },
   "outputs": [],
   "source": [
    "import pandas as pd\n",
    "import re\n",
    "import numpy as np\n",
    "from sklearn.base import BaseEstimator, TransformerMixin\n",
    "from sklearn.preprocessing import OneHotEncoder, StandardScaler\n",
    "from sklearn.impute import SimpleImputer\n",
    "from sklearn.pipeline import Pipeline\n",
    "from sklearn.compose import ColumnTransformer\n",
    "from xgboost import XGBClassifier\n",
    "from sklearn.model_selection import train_test_split\n",
    "from sklearn.metrics import confusion_matrix, precision_score, recall_score"
   ]
  },
  {
   "cell_type": "markdown",
   "metadata": {},
   "source": [
    "### Data Modelling"
   ]
  },
  {
   "cell_type": "markdown",
   "metadata": {},
   "source": [
    "Let's load the different libraries that we need. We are going to set different functions in order to perform the cross validation tecnique in different models. We are also going to create different functions for the different models. You will see that we will ajust different parameters for the different models."
   ]
  },
  {
   "cell_type": "code",
   "execution_count": 48,
   "metadata": {
    "execution": {
     "iopub.execute_input": "2023-11-22T15:28:54.394950Z",
     "iopub.status.busy": "2023-11-22T15:28:54.394436Z",
     "iopub.status.idle": "2023-11-22T15:28:54.416082Z",
     "shell.execute_reply": "2023-11-22T15:28:54.415011Z",
     "shell.execute_reply.started": "2023-11-22T15:28:54.394909Z"
    }
   },
   "outputs": [],
   "source": [
    "from sklearn.linear_model import LogisticRegression\n",
    "from sklearn.svm import SVC, LinearSVC\n",
    "from sklearn.ensemble import RandomForestClassifier\n",
    "from sklearn.neighbors import KNeighborsClassifier\n",
    "from sklearn.naive_bayes import GaussianNB\n",
    "from sklearn.linear_model import Perceptron\n",
    "from sklearn.linear_model import SGDClassifier\n",
    "from sklearn.tree import DecisionTreeClassifier\n",
    "from sklearn.model_selection import cross_validate\n",
    "from sklearn.metrics import accuracy_score\n",
    "from sklearn.preprocessing import StandardScaler\n",
    "from sklearn.pipeline import Pipeline\n",
    "from sklearn.ensemble import BaggingClassifier\n",
    "from sklearn.model_selection import train_test_split"
   ]
  },
  {
   "cell_type": "code",
   "execution_count": 49,
   "metadata": {
    "execution": {
     "iopub.execute_input": "2023-11-22T15:28:54.418086Z",
     "iopub.status.busy": "2023-11-22T15:28:54.417666Z",
     "iopub.status.idle": "2023-11-22T15:28:54.424875Z",
     "shell.execute_reply": "2023-11-22T15:28:54.423836Z",
     "shell.execute_reply.started": "2023-11-22T15:28:54.418045Z"
    }
   },
   "outputs": [],
   "source": [
    "def split_val(df,leng,val=0):  \n",
    "    df2 = df.dropna(axis = 0, how = 'any') # this has to be removed before\n",
    "    train = df2.iloc[:train_len,:]\n",
    "    y = train['Survived']\n",
    "    X = train.loc[:,df2.columns != 'Survived']\n",
    "    X_train, X_val, y_train, y_val = train_test_split(X, y, test_size=0.2, random_state=42)\n",
    "    return X_train, X_val, y_train, y_val\n",
    "    "
   ]
  },
  {
   "cell_type": "code",
   "execution_count": 50,
   "metadata": {
    "execution": {
     "iopub.execute_input": "2023-11-22T15:28:54.426180Z",
     "iopub.status.busy": "2023-11-22T15:28:54.425835Z",
     "iopub.status.idle": "2023-11-22T15:28:54.437713Z",
     "shell.execute_reply": "2023-11-22T15:28:54.436722Z",
     "shell.execute_reply.started": "2023-11-22T15:28:54.426150Z"
    }
   },
   "outputs": [],
   "source": [
    "def log_reg(df,train_len):\n",
    "    X_train, X_val, y_train, y_val = split_val(df,train_len)\n",
    "    logreg = LogisticRegression()\n",
    "    logreg.fit(X_train, y_train)\n",
    "    Y_pred = logreg.predict(X_val)\n",
    "    pred_df = pd.DataFrame({'Original':y_val,\n",
    "                           'predictions':Y_pred})\n",
    "    acc_log = round(logreg.score(X_val, y_val) * 100, 2)\n",
    "    return pred_df,acc_log,logreg"
   ]
  },
  {
   "cell_type": "code",
   "execution_count": 51,
   "metadata": {
    "execution": {
     "iopub.execute_input": "2023-11-22T15:28:54.439092Z",
     "iopub.status.busy": "2023-11-22T15:28:54.438778Z",
     "iopub.status.idle": "2023-11-22T15:28:54.448957Z",
     "shell.execute_reply": "2023-11-22T15:28:54.448046Z",
     "shell.execute_reply.started": "2023-11-22T15:28:54.439065Z"
    }
   },
   "outputs": [],
   "source": [
    "# train_len = len(train)\n",
    "# pred, acc_log,log_model = log_reg(df,train_len)\n",
    "# print(pred)\n",
    "# print(acc_log)\n",
    "# print(log_reg_cross(df,train_len))"
   ]
  },
  {
   "cell_type": "markdown",
   "metadata": {},
   "source": [
    "#### Cross validation"
   ]
  },
  {
   "cell_type": "code",
   "execution_count": 52,
   "metadata": {
    "execution": {
     "iopub.execute_input": "2023-11-22T15:28:54.450514Z",
     "iopub.status.busy": "2023-11-22T15:28:54.450076Z",
     "iopub.status.idle": "2023-11-22T15:28:54.462100Z",
     "shell.execute_reply": "2023-11-22T15:28:54.460936Z",
     "shell.execute_reply.started": "2023-11-22T15:28:54.450475Z"
    }
   },
   "outputs": [],
   "source": [
    "train_len = len(train)"
   ]
  },
  {
   "cell_type": "code",
   "execution_count": 53,
   "metadata": {
    "execution": {
     "iopub.execute_input": "2023-11-22T15:28:54.463802Z",
     "iopub.status.busy": "2023-11-22T15:28:54.463415Z",
     "iopub.status.idle": "2023-11-22T15:28:54.474874Z",
     "shell.execute_reply": "2023-11-22T15:28:54.473905Z",
     "shell.execute_reply.started": "2023-11-22T15:28:54.463772Z"
    }
   },
   "outputs": [],
   "source": [
    "def prepare_cross_val(df,train_len):\n",
    "    df2 = df.dropna(axis = 0, how = 'any') # this has to be removed before\n",
    "    train = df2.iloc[:train_len,:]\n",
    "    y = train['Survived']\n",
    "    X = train.loc[:,df2.columns != 'Survived']\n",
    "    return X,y"
   ]
  },
  {
   "cell_type": "code",
   "execution_count": 54,
   "metadata": {
    "execution": {
     "iopub.execute_input": "2023-11-22T15:28:54.476500Z",
     "iopub.status.busy": "2023-11-22T15:28:54.476112Z",
     "iopub.status.idle": "2023-11-22T15:28:54.485356Z",
     "shell.execute_reply": "2023-11-22T15:28:54.484323Z",
     "shell.execute_reply.started": "2023-11-22T15:28:54.476468Z"
    }
   },
   "outputs": [],
   "source": [
    "def perform_cross_validation(model, df, train_len, cv=5):\n",
    "    # Perform cross-validation\n",
    "    X,y = prepare_cross_val(df,train_len)\n",
    "    cv_results = cross_validate(model, X, y, cv=cv)\n",
    "    scores = cv_results['test_score']\n",
    "    # Calculate and print the mean accuracy and standard deviation\n",
    "    mean_accuracy = scores.mean()\n",
    "    std_accuracy = scores.std()\n",
    "    print(\"Mean Accuracy:\", mean_accuracy)\n",
    "    print(\"Standard Deviation:\", std_accuracy)\n",
    "    print(\"Accuracy Scores:\", scores)\n",
    "    print('\\n')"
   ]
  },
  {
   "cell_type": "code",
   "execution_count": 55,
   "metadata": {
    "execution": {
     "iopub.execute_input": "2023-11-22T15:28:54.486916Z",
     "iopub.status.busy": "2023-11-22T15:28:54.486564Z",
     "iopub.status.idle": "2023-11-22T15:28:54.499779Z",
     "shell.execute_reply": "2023-11-22T15:28:54.498830Z",
     "shell.execute_reply.started": "2023-11-22T15:28:54.486885Z"
    }
   },
   "outputs": [],
   "source": [
    "from sklearn.tree import DecisionTreeClassifier"
   ]
  },
  {
   "cell_type": "code",
   "execution_count": 56,
   "metadata": {
    "execution": {
     "iopub.execute_input": "2023-11-22T15:28:54.501584Z",
     "iopub.status.busy": "2023-11-22T15:28:54.501214Z",
     "iopub.status.idle": "2023-11-22T15:28:54.516036Z",
     "shell.execute_reply": "2023-11-22T15:28:54.514352Z",
     "shell.execute_reply.started": "2023-11-22T15:28:54.501544Z"
    }
   },
   "outputs": [],
   "source": [
    "models = {'Logistic Regression C30': LogisticRegression(C=30,random_state=42),\n",
    "          'Logistic Regression C1': LogisticRegression(C=1,random_state=42),\n",
    "          'Logistic Regression C100': LogisticRegression(C=100,random_state=42),\n",
    "         'Support Vector Machines Classifier': SVC(),\n",
    "         'Support Vector Machines Classifier rbf': SVC(kernel=\"rbf\", gamma=0.1, C=5),\n",
    "         'Support Vector Machines Classifier Poly 3': SVC(kernel=\"poly\", degree=3, coef0=1, C=5),\n",
    "         'Support Vector Machines Classifier Poly 2': SVC(kernel=\"poly\", degree=2, coef0=1, C=5),\n",
    "        'Bagging Classifier' : BaggingClassifier(DecisionTreeClassifier(), n_estimators=500,\n",
    "max_samples=100, random_state=42), \n",
    "          'KNeighborsClassifier':  KNeighborsClassifier(n_neighbors = 2),\n",
    "        'GaussianNB':  GaussianNB(),\n",
    "        'LinearSVC':  LinearSVC(max_iter=5000),\n",
    "        'SGDClassifier':  SGDClassifier(),\n",
    "       'RandomForestClassifier':   RandomForestClassifier(n_estimators=500, max_leaf_nodes=16,\n",
    "n_jobs=-1, random_state=42)\n",
    "         }"
   ]
  },
  {
   "cell_type": "code",
   "execution_count": 57,
   "metadata": {
    "execution": {
     "iopub.execute_input": "2023-11-22T15:28:54.519009Z",
     "iopub.status.busy": "2023-11-22T15:28:54.518012Z",
     "iopub.status.idle": "2023-11-22T15:28:54.528610Z",
     "shell.execute_reply": "2023-11-22T15:28:54.527395Z",
     "shell.execute_reply.started": "2023-11-22T15:28:54.518965Z"
    }
   },
   "outputs": [
    {
     "data": {
      "text/plain": [
       "<function dict.values>"
      ]
     },
     "execution_count": 57,
     "metadata": {},
     "output_type": "execute_result"
    }
   ],
   "source": [
    "models.values"
   ]
  },
  {
   "cell_type": "code",
   "execution_count": 58,
   "metadata": {
    "execution": {
     "iopub.execute_input": "2023-11-22T15:28:54.530638Z",
     "iopub.status.busy": "2023-11-22T15:28:54.530279Z",
     "iopub.status.idle": "2023-11-22T15:29:09.479572Z",
     "shell.execute_reply": "2023-11-22T15:29:09.478066Z",
     "shell.execute_reply.started": "2023-11-22T15:28:54.530608Z"
    }
   },
   "outputs": [
    {
     "name": "stdout",
     "output_type": "stream",
     "text": [
      "Logistic Regression C30\n",
      "\n",
      "Mean Accuracy: 0.7885482130387864\n",
      "Standard Deviation: 0.014178348039910523\n",
      "Accuracy Scores: [0.78651685 0.79213483 0.79213483 0.76404494 0.8079096 ]\n",
      "\n",
      "\n",
      "Logistic Regression C1\n",
      "\n",
      "Mean Accuracy: 0.790808100044436\n",
      "Standard Deviation: 0.017577344062525917\n",
      "Accuracy Scores: [0.78651685 0.79213483 0.79213483 0.76404494 0.81920904]\n",
      "\n",
      "\n",
      "Logistic Regression C100\n",
      "\n",
      "Mean Accuracy: 0.7885482130387864\n",
      "Standard Deviation: 0.014178348039910523\n",
      "Accuracy Scores: [0.78651685 0.79213483 0.79213483 0.76404494 0.8079096 ]\n",
      "\n",
      "\n",
      "Support Vector Machines Classifier\n",
      "\n",
      "Mean Accuracy: 0.8189106836792991\n",
      "Standard Deviation: 0.010073965562807749\n",
      "Accuracy Scores: [0.83146067 0.81460674 0.80898876 0.80898876 0.83050847]\n",
      "\n",
      "\n",
      "Support Vector Machines Classifier rbf\n",
      "\n",
      "Mean Accuracy: 0.8200469751793309\n",
      "Standard Deviation: 0.014379055844577809\n",
      "Accuracy Scores: [0.83146067 0.80898876 0.80337079 0.81460674 0.84180791]\n",
      "\n",
      "\n",
      "Support Vector Machines Classifier Poly 3\n",
      "\n",
      "Mean Accuracy: 0.811058211134387\n",
      "Standard Deviation: 0.0196947204151369\n",
      "Accuracy Scores: [0.81460674 0.80337079 0.81460674 0.78089888 0.84180791]\n",
      "\n",
      "\n",
      "Support Vector Machines Classifier Poly 2\n",
      "\n",
      "Mean Accuracy: 0.8110391671427666\n",
      "Standard Deviation: 0.008816396900989494\n",
      "Accuracy Scores: [0.81460674 0.80898876 0.80898876 0.79775281 0.82485876]\n",
      "\n",
      "\n",
      "Bagging Classifier\n",
      "\n",
      "Mean Accuracy: 0.807700120611947\n",
      "Standard Deviation: 0.03279746434639346\n",
      "Accuracy Scores: [0.75280899 0.82022472 0.81460674 0.79775281 0.85310734]\n",
      "\n",
      "\n",
      "KNeighborsClassifier\n",
      "\n",
      "Mean Accuracy: 0.751412429378531\n",
      "Standard Deviation: 0.01917766623359455\n",
      "Accuracy Scores: [0.73033708 0.78089888 0.73033708 0.75842697 0.75706215]\n",
      "\n",
      "\n",
      "GaussianNB\n",
      "\n",
      "Mean Accuracy: 0.7818002920078715\n",
      "Standard Deviation: 0.018688277369536512\n",
      "Accuracy Scores: [0.74719101 0.78089888 0.78651685 0.79213483 0.80225989]\n",
      "\n",
      "\n",
      "LinearSVC\n",
      "\n",
      "Mean Accuracy: 0.7919316955500539\n",
      "Standard Deviation: 0.01593332883091425\n",
      "Accuracy Scores: [0.79213483 0.79213483 0.78651685 0.76966292 0.81920904]\n",
      "\n",
      "\n",
      "SGDClassifier\n",
      "\n",
      "Mean Accuracy: 0.7458325398336825\n",
      "Standard Deviation: 0.03670278589017954\n",
      "Accuracy Scores: [0.75842697 0.67977528 0.75842697 0.74157303 0.79096045]\n",
      "\n",
      "\n",
      "RandomForestClassifier\n",
      "\n",
      "Mean Accuracy: 0.8178061321653018\n",
      "Standard Deviation: 0.016584200715673188\n",
      "Accuracy Scores: [0.80898876 0.82022472 0.81460674 0.79775281 0.84745763]\n",
      "\n",
      "\n"
     ]
    }
   ],
   "source": [
    "for model_name,model in models.items():\n",
    "    print(model_name + '\\n')\n",
    "    perform_cross_validation(model, df, train_len, cv=5)"
   ]
  },
  {
   "cell_type": "code",
   "execution_count": 59,
   "metadata": {
    "execution": {
     "iopub.execute_input": "2023-11-22T15:29:09.482907Z",
     "iopub.status.busy": "2023-11-22T15:29:09.481572Z",
     "iopub.status.idle": "2023-11-22T15:29:09.489079Z",
     "shell.execute_reply": "2023-11-22T15:29:09.488157Z",
     "shell.execute_reply.started": "2023-11-22T15:29:09.482860Z"
    }
   },
   "outputs": [],
   "source": [
    "def log_reg_cross(df,train_len):\n",
    "    X,y = prepare_cross_val(df,train_len)\n",
    "    logreg = LogisticRegression()\n",
    "    cv_results = cross_validate(logreg, X, y, cv=3)\n",
    "    sorted(cv_results.keys())\n",
    "    return cv_results['test_score'],cv_results['test_score'].mean()"
   ]
  },
  {
   "cell_type": "markdown",
   "metadata": {},
   "source": [
    "Now we are going to encode our data for the previous models. We will see that this functions better. "
   ]
  },
  {
   "cell_type": "code",
   "execution_count": 60,
   "metadata": {
    "execution": {
     "iopub.execute_input": "2023-11-22T15:29:09.491043Z",
     "iopub.status.busy": "2023-11-22T15:29:09.490671Z",
     "iopub.status.idle": "2023-11-22T15:29:09.508447Z",
     "shell.execute_reply": "2023-11-22T15:29:09.507194Z",
     "shell.execute_reply.started": "2023-11-22T15:29:09.491012Z"
    }
   },
   "outputs": [],
   "source": [
    "from sklearn.preprocessing import OneHotEncoder,OrdinalEncoder"
   ]
  },
  {
   "cell_type": "code",
   "execution_count": 118,
   "metadata": {
    "execution": {
     "iopub.execute_input": "2023-11-22T16:00:46.095899Z",
     "iopub.status.busy": "2023-11-22T16:00:46.094812Z",
     "iopub.status.idle": "2023-11-22T16:00:46.102998Z",
     "shell.execute_reply": "2023-11-22T16:00:46.101599Z",
     "shell.execute_reply.started": "2023-11-22T16:00:46.095853Z"
    }
   },
   "outputs": [],
   "source": [
    "survived = df['Survived']\n",
    "df_prenc = df.drop(columns=['Survived'])"
   ]
  },
  {
   "cell_type": "code",
   "execution_count": 119,
   "metadata": {
    "execution": {
     "iopub.execute_input": "2023-11-22T16:00:47.122495Z",
     "iopub.status.busy": "2023-11-22T16:00:47.121286Z",
     "iopub.status.idle": "2023-11-22T16:00:47.136321Z",
     "shell.execute_reply": "2023-11-22T16:00:47.135144Z",
     "shell.execute_reply.started": "2023-11-22T16:00:47.122449Z"
    }
   },
   "outputs": [
    {
     "data": {
      "text/html": [
       "<div>\n",
       "<style scoped>\n",
       "    .dataframe tbody tr th:only-of-type {\n",
       "        vertical-align: middle;\n",
       "    }\n",
       "\n",
       "    .dataframe tbody tr th {\n",
       "        vertical-align: top;\n",
       "    }\n",
       "\n",
       "    .dataframe thead th {\n",
       "        text-align: right;\n",
       "    }\n",
       "</style>\n",
       "<table border=\"1\" class=\"dataframe\">\n",
       "  <thead>\n",
       "    <tr style=\"text-align: right;\">\n",
       "      <th></th>\n",
       "      <th>Pclass</th>\n",
       "      <th>Sex</th>\n",
       "      <th>SibSp</th>\n",
       "      <th>Parch</th>\n",
       "      <th>Embarked</th>\n",
       "      <th>Age_imputated</th>\n",
       "    </tr>\n",
       "  </thead>\n",
       "  <tbody>\n",
       "    <tr>\n",
       "      <th>61</th>\n",
       "      <td>1</td>\n",
       "      <td>1</td>\n",
       "      <td>0</td>\n",
       "      <td>0</td>\n",
       "      <td>NaN</td>\n",
       "      <td>2.0</td>\n",
       "    </tr>\n",
       "    <tr>\n",
       "      <th>829</th>\n",
       "      <td>1</td>\n",
       "      <td>1</td>\n",
       "      <td>0</td>\n",
       "      <td>0</td>\n",
       "      <td>NaN</td>\n",
       "      <td>3.0</td>\n",
       "    </tr>\n",
       "  </tbody>\n",
       "</table>\n",
       "</div>"
      ],
      "text/plain": [
       "     Pclass  Sex  SibSp  Parch  Embarked  Age_imputated\n",
       "61        1    1      0      0       NaN            2.0\n",
       "829       1    1      0      0       NaN            3.0"
      ]
     },
     "execution_count": 119,
     "metadata": {},
     "output_type": "execute_result"
    }
   ],
   "source": [
    "df_prenc[df_prenc.Embarked.isna()]"
   ]
  },
  {
   "cell_type": "code",
   "execution_count": 126,
   "metadata": {
    "execution": {
     "iopub.execute_input": "2023-11-22T16:01:45.316034Z",
     "iopub.status.busy": "2023-11-22T16:01:45.315644Z",
     "iopub.status.idle": "2023-11-22T16:01:45.325823Z",
     "shell.execute_reply": "2023-11-22T16:01:45.324738Z",
     "shell.execute_reply.started": "2023-11-22T16:01:45.316003Z"
    }
   },
   "outputs": [
    {
     "data": {
      "text/plain": [
       "0.0    914\n",
       "2.0    270\n",
       "1.0    123\n",
       "Name: Embarked, dtype: int64"
      ]
     },
     "execution_count": 126,
     "metadata": {},
     "output_type": "execute_result"
    }
   ],
   "source": [
    "df_prenc.Embarked.value_counts()"
   ]
  },
  {
   "cell_type": "code",
   "execution_count": 128,
   "metadata": {
    "execution": {
     "iopub.execute_input": "2023-11-22T16:02:10.188780Z",
     "iopub.status.busy": "2023-11-22T16:02:10.188372Z",
     "iopub.status.idle": "2023-11-22T16:02:10.199083Z",
     "shell.execute_reply": "2023-11-22T16:02:10.197787Z",
     "shell.execute_reply.started": "2023-11-22T16:02:10.188751Z"
    }
   },
   "outputs": [
    {
     "name": "stderr",
     "output_type": "stream",
     "text": [
      "/tmp/ipykernel_32/2517738079.py:1: SettingWithCopyWarning: \n",
      "A value is trying to be set on a copy of a slice from a DataFrame\n",
      "\n",
      "See the caveats in the documentation: https://pandas.pydata.org/pandas-docs/stable/user_guide/indexing.html#returning-a-view-versus-a-copy\n",
      "  df_prenc.Embarked[df_prenc.Embarked.isna()] = df_prenc.Embarked.value_counts().index[0]\n"
     ]
    }
   ],
   "source": [
    "df_prenc.Embarked[df_prenc.Embarked.isna()] = df_prenc.Embarked.value_counts().index[0]"
   ]
  },
  {
   "cell_type": "code",
   "execution_count": 129,
   "metadata": {
    "execution": {
     "iopub.execute_input": "2023-11-22T16:03:28.503270Z",
     "iopub.status.busy": "2023-11-22T16:03:28.502357Z",
     "iopub.status.idle": "2023-11-22T16:03:28.514600Z",
     "shell.execute_reply": "2023-11-22T16:03:28.513352Z",
     "shell.execute_reply.started": "2023-11-22T16:03:28.503229Z"
    }
   },
   "outputs": [
    {
     "data": {
      "text/html": [
       "<div>\n",
       "<style scoped>\n",
       "    .dataframe tbody tr th:only-of-type {\n",
       "        vertical-align: middle;\n",
       "    }\n",
       "\n",
       "    .dataframe tbody tr th {\n",
       "        vertical-align: top;\n",
       "    }\n",
       "\n",
       "    .dataframe thead th {\n",
       "        text-align: right;\n",
       "    }\n",
       "</style>\n",
       "<table border=\"1\" class=\"dataframe\">\n",
       "  <thead>\n",
       "    <tr style=\"text-align: right;\">\n",
       "      <th></th>\n",
       "      <th>Pclass</th>\n",
       "      <th>Sex</th>\n",
       "      <th>SibSp</th>\n",
       "      <th>Parch</th>\n",
       "      <th>Embarked</th>\n",
       "      <th>Age_imputated</th>\n",
       "    </tr>\n",
       "  </thead>\n",
       "  <tbody>\n",
       "  </tbody>\n",
       "</table>\n",
       "</div>"
      ],
      "text/plain": [
       "Empty DataFrame\n",
       "Columns: [Pclass, Sex, SibSp, Parch, Embarked, Age_imputated]\n",
       "Index: []"
      ]
     },
     "execution_count": 129,
     "metadata": {},
     "output_type": "execute_result"
    }
   ],
   "source": [
    "df_prenc[df_prenc.Embarked.isna()]"
   ]
  },
  {
   "cell_type": "code",
   "execution_count": 146,
   "metadata": {
    "execution": {
     "iopub.execute_input": "2023-11-22T16:07:49.810210Z",
     "iopub.status.busy": "2023-11-22T16:07:49.809531Z",
     "iopub.status.idle": "2023-11-22T16:07:49.818338Z",
     "shell.execute_reply": "2023-11-22T16:07:49.817166Z",
     "shell.execute_reply.started": "2023-11-22T16:07:49.810176Z"
    }
   },
   "outputs": [],
   "source": [
    "\n",
    "df_no_na = df_prenc.dropna(axis = 0, how = 'any').reset_index(drop=True)\n",
    "features_to_encode= df_no_na.columns[df_no_na.columns != 'Survived']\n",
    "df_to_encode = df_no_na[features_to_encode]"
   ]
  },
  {
   "cell_type": "code",
   "execution_count": 134,
   "metadata": {
    "execution": {
     "iopub.execute_input": "2023-11-22T16:05:27.118712Z",
     "iopub.status.busy": "2023-11-22T16:05:27.118319Z",
     "iopub.status.idle": "2023-11-22T16:05:27.124982Z",
     "shell.execute_reply": "2023-11-22T16:05:27.123726Z",
     "shell.execute_reply.started": "2023-11-22T16:05:27.118682Z"
    }
   },
   "outputs": [],
   "source": [
    "#df_to_encode['Survived']=survived.values"
   ]
  },
  {
   "cell_type": "code",
   "execution_count": 147,
   "metadata": {
    "execution": {
     "iopub.execute_input": "2023-11-22T16:07:53.186227Z",
     "iopub.status.busy": "2023-11-22T16:07:53.185832Z",
     "iopub.status.idle": "2023-11-22T16:07:53.204370Z",
     "shell.execute_reply": "2023-11-22T16:07:53.202736Z",
     "shell.execute_reply.started": "2023-11-22T16:07:53.186197Z"
    }
   },
   "outputs": [
    {
     "data": {
      "text/html": [
       "<div>\n",
       "<style scoped>\n",
       "    .dataframe tbody tr th:only-of-type {\n",
       "        vertical-align: middle;\n",
       "    }\n",
       "\n",
       "    .dataframe tbody tr th {\n",
       "        vertical-align: top;\n",
       "    }\n",
       "\n",
       "    .dataframe thead th {\n",
       "        text-align: right;\n",
       "    }\n",
       "</style>\n",
       "<table border=\"1\" class=\"dataframe\">\n",
       "  <thead>\n",
       "    <tr style=\"text-align: right;\">\n",
       "      <th></th>\n",
       "      <th>Pclass</th>\n",
       "      <th>Sex</th>\n",
       "      <th>SibSp</th>\n",
       "      <th>Parch</th>\n",
       "      <th>Embarked</th>\n",
       "      <th>Age_imputated</th>\n",
       "    </tr>\n",
       "  </thead>\n",
       "  <tbody>\n",
       "    <tr>\n",
       "      <th>0</th>\n",
       "      <td>3</td>\n",
       "      <td>0</td>\n",
       "      <td>1</td>\n",
       "      <td>0</td>\n",
       "      <td>0.0</td>\n",
       "      <td>1.0</td>\n",
       "    </tr>\n",
       "    <tr>\n",
       "      <th>1</th>\n",
       "      <td>1</td>\n",
       "      <td>1</td>\n",
       "      <td>1</td>\n",
       "      <td>0</td>\n",
       "      <td>2.0</td>\n",
       "      <td>2.0</td>\n",
       "    </tr>\n",
       "    <tr>\n",
       "      <th>2</th>\n",
       "      <td>3</td>\n",
       "      <td>1</td>\n",
       "      <td>0</td>\n",
       "      <td>0</td>\n",
       "      <td>0.0</td>\n",
       "      <td>1.0</td>\n",
       "    </tr>\n",
       "    <tr>\n",
       "      <th>3</th>\n",
       "      <td>1</td>\n",
       "      <td>1</td>\n",
       "      <td>1</td>\n",
       "      <td>0</td>\n",
       "      <td>0.0</td>\n",
       "      <td>2.0</td>\n",
       "    </tr>\n",
       "    <tr>\n",
       "      <th>4</th>\n",
       "      <td>3</td>\n",
       "      <td>0</td>\n",
       "      <td>0</td>\n",
       "      <td>0</td>\n",
       "      <td>0.0</td>\n",
       "      <td>2.0</td>\n",
       "    </tr>\n",
       "    <tr>\n",
       "      <th>...</th>\n",
       "      <td>...</td>\n",
       "      <td>...</td>\n",
       "      <td>...</td>\n",
       "      <td>...</td>\n",
       "      <td>...</td>\n",
       "      <td>...</td>\n",
       "    </tr>\n",
       "    <tr>\n",
       "      <th>1304</th>\n",
       "      <td>3</td>\n",
       "      <td>0</td>\n",
       "      <td>0</td>\n",
       "      <td>0</td>\n",
       "      <td>0.0</td>\n",
       "      <td>2.0</td>\n",
       "    </tr>\n",
       "    <tr>\n",
       "      <th>1305</th>\n",
       "      <td>1</td>\n",
       "      <td>1</td>\n",
       "      <td>0</td>\n",
       "      <td>0</td>\n",
       "      <td>2.0</td>\n",
       "      <td>2.0</td>\n",
       "    </tr>\n",
       "    <tr>\n",
       "      <th>1306</th>\n",
       "      <td>3</td>\n",
       "      <td>0</td>\n",
       "      <td>0</td>\n",
       "      <td>0</td>\n",
       "      <td>0.0</td>\n",
       "      <td>2.0</td>\n",
       "    </tr>\n",
       "    <tr>\n",
       "      <th>1307</th>\n",
       "      <td>3</td>\n",
       "      <td>0</td>\n",
       "      <td>0</td>\n",
       "      <td>0</td>\n",
       "      <td>0.0</td>\n",
       "      <td>2.0</td>\n",
       "    </tr>\n",
       "    <tr>\n",
       "      <th>1308</th>\n",
       "      <td>3</td>\n",
       "      <td>0</td>\n",
       "      <td>1</td>\n",
       "      <td>1</td>\n",
       "      <td>2.0</td>\n",
       "      <td>2.0</td>\n",
       "    </tr>\n",
       "  </tbody>\n",
       "</table>\n",
       "<p>1309 rows × 6 columns</p>\n",
       "</div>"
      ],
      "text/plain": [
       "      Pclass  Sex  SibSp  Parch  Embarked  Age_imputated\n",
       "0          3    0      1      0       0.0            1.0\n",
       "1          1    1      1      0       2.0            2.0\n",
       "2          3    1      0      0       0.0            1.0\n",
       "3          1    1      1      0       0.0            2.0\n",
       "4          3    0      0      0       0.0            2.0\n",
       "...      ...  ...    ...    ...       ...            ...\n",
       "1304       3    0      0      0       0.0            2.0\n",
       "1305       1    1      0      0       2.0            2.0\n",
       "1306       3    0      0      0       0.0            2.0\n",
       "1307       3    0      0      0       0.0            2.0\n",
       "1308       3    0      1      1       2.0            2.0\n",
       "\n",
       "[1309 rows x 6 columns]"
      ]
     },
     "execution_count": 147,
     "metadata": {},
     "output_type": "execute_result"
    }
   ],
   "source": [
    "df_to_encode"
   ]
  },
  {
   "cell_type": "code",
   "execution_count": 136,
   "metadata": {
    "execution": {
     "iopub.execute_input": "2023-11-22T16:06:00.069854Z",
     "iopub.status.busy": "2023-11-22T16:06:00.069429Z",
     "iopub.status.idle": "2023-11-22T16:06:00.076847Z",
     "shell.execute_reply": "2023-11-22T16:06:00.075710Z",
     "shell.execute_reply.started": "2023-11-22T16:06:00.069821Z"
    }
   },
   "outputs": [
    {
     "data": {
      "text/plain": [
       "\"\\ndf_no_na = df.iloc[:len(train),:].dropna(axis = 0, how = 'any').reset_index(drop=True)\\nfeatures_to_encode= df_no_na.columns[df_no_na.columns != 'Survived']\\ndf_to_encode = df_no_na[features_to_encode]\\n\""
      ]
     },
     "execution_count": 136,
     "metadata": {},
     "output_type": "execute_result"
    }
   ],
   "source": [
    "'''\n",
    "df_no_na = df.iloc[:len(train),:].dropna(axis = 0, how = 'any').reset_index(drop=True)\n",
    "features_to_encode= df_no_na.columns[df_no_na.columns != 'Survived']\n",
    "df_to_encode = df_no_na[features_to_encode]\n",
    "'''"
   ]
  },
  {
   "cell_type": "code",
   "execution_count": 141,
   "metadata": {
    "execution": {
     "iopub.execute_input": "2023-11-22T16:06:47.318288Z",
     "iopub.status.busy": "2023-11-22T16:06:47.317623Z",
     "iopub.status.idle": "2023-11-22T16:06:47.324758Z",
     "shell.execute_reply": "2023-11-22T16:06:47.323569Z",
     "shell.execute_reply.started": "2023-11-22T16:06:47.318253Z"
    }
   },
   "outputs": [
    {
     "data": {
      "text/plain": [
       "Index(['Pclass', 'Sex', 'SibSp', 'Parch', 'Embarked', 'Age_imputated'], dtype='object')"
      ]
     },
     "execution_count": 141,
     "metadata": {},
     "output_type": "execute_result"
    }
   ],
   "source": [
    "features_to_encode"
   ]
  },
  {
   "cell_type": "markdown",
   "metadata": {},
   "source": [
    "## Pipeline code"
   ]
  },
  {
   "cell_type": "code",
   "execution_count": 148,
   "metadata": {
    "execution": {
     "iopub.execute_input": "2023-11-22T16:08:03.427786Z",
     "iopub.status.busy": "2023-11-22T16:08:03.427349Z",
     "iopub.status.idle": "2023-11-22T16:08:03.434783Z",
     "shell.execute_reply": "2023-11-22T16:08:03.433637Z",
     "shell.execute_reply.started": "2023-11-22T16:08:03.427749Z"
    }
   },
   "outputs": [],
   "source": [
    "#preproc = PrepProcesor()\n",
    "#numeric_pipeline = Pipeline([('Scaler', StandardScaler())]) \n",
    "#categorical_pipeline = Pipeline([('OneHot', OneHotEncoder(handle_unknown='ignore'))])\n",
    "#transformer = ColumnTransformer([('num', numeric_pipeline, ['Pclass','Age','SibSp','Parch','Fare','CabinNumber']), ('cat', categorical_pipeline, ['Sex','Embarked','CabinClass'])]) "
   ]
  },
  {
   "cell_type": "code",
   "execution_count": 150,
   "metadata": {
    "execution": {
     "iopub.execute_input": "2023-11-22T16:09:08.302361Z",
     "iopub.status.busy": "2023-11-22T16:09:08.301920Z",
     "iopub.status.idle": "2023-11-22T16:09:08.315269Z",
     "shell.execute_reply": "2023-11-22T16:09:08.314360Z",
     "shell.execute_reply.started": "2023-11-22T16:09:08.302326Z"
    }
   },
   "outputs": [],
   "source": [
    "stsc = StandardScaler()\n",
    "scaler = OrdinalEncoder()\n",
    "dfs_scaled = []\n",
    "encoded_features = scaler.fit_transform(df_to_encode)\n",
    "df_encoded = pd.DataFrame(encoded_features, columns=scaler.get_feature_names_out(features_to_encode))\n",
    "df_encoded['Survived']=survived.values\n",
    "dfs_scaled.append(df_encoded)"
   ]
  },
  {
   "cell_type": "code",
   "execution_count": 151,
   "metadata": {
    "execution": {
     "iopub.execute_input": "2023-11-22T16:09:15.651540Z",
     "iopub.status.busy": "2023-11-22T16:09:15.650637Z",
     "iopub.status.idle": "2023-11-22T16:09:15.668143Z",
     "shell.execute_reply": "2023-11-22T16:09:15.666733Z",
     "shell.execute_reply.started": "2023-11-22T16:09:15.651494Z"
    }
   },
   "outputs": [
    {
     "name": "stdout",
     "output_type": "stream",
     "text": [
      "      Pclass  Sex  SibSp  Parch  Embarked  Age_imputated  Survived\n",
      "0        2.0  0.0    1.0    0.0       0.0            1.0       0.0\n",
      "1        0.0  1.0    1.0    0.0       2.0            2.0       1.0\n",
      "2        2.0  1.0    0.0    0.0       0.0            1.0       1.0\n",
      "3        0.0  1.0    1.0    0.0       0.0            2.0       1.0\n",
      "4        2.0  0.0    0.0    0.0       0.0            2.0       0.0\n",
      "...      ...  ...    ...    ...       ...            ...       ...\n",
      "1304     2.0  0.0    0.0    0.0       0.0            2.0       NaN\n",
      "1305     0.0  1.0    0.0    0.0       2.0            2.0       NaN\n",
      "1306     2.0  0.0    0.0    0.0       0.0            2.0       NaN\n",
      "1307     2.0  0.0    0.0    0.0       0.0            2.0       NaN\n",
      "1308     2.0  0.0    1.0    1.0       2.0            2.0       NaN\n",
      "\n",
      "[1309 rows x 7 columns]\n"
     ]
    }
   ],
   "source": [
    "print(dfs_scaled[0])"
   ]
  },
  {
   "cell_type": "code",
   "execution_count": 153,
   "metadata": {
    "execution": {
     "iopub.execute_input": "2023-11-22T16:09:49.994678Z",
     "iopub.status.busy": "2023-11-22T16:09:49.994236Z",
     "iopub.status.idle": "2023-11-22T16:09:50.007326Z",
     "shell.execute_reply": "2023-11-22T16:09:50.006194Z",
     "shell.execute_reply.started": "2023-11-22T16:09:49.994644Z"
    }
   },
   "outputs": [],
   "source": [
    "scaler =  OneHotEncoder(sparse_output=False)\n",
    "encoded_features = scaler.fit_transform(df_to_encode)\n",
    "df_encoded = pd.DataFrame(encoded_features, columns=scaler.get_feature_names_out(features_to_encode))\n",
    "df_encoded['Survived']=survived.values\n",
    "dfs_scaled.append(df_encoded)"
   ]
  },
  {
   "cell_type": "code",
   "execution_count": 154,
   "metadata": {
    "execution": {
     "iopub.execute_input": "2023-11-22T16:09:51.285910Z",
     "iopub.status.busy": "2023-11-22T16:09:51.285526Z",
     "iopub.status.idle": "2023-11-22T16:09:51.294234Z",
     "shell.execute_reply": "2023-11-22T16:09:51.292859Z",
     "shell.execute_reply.started": "2023-11-22T16:09:51.285880Z"
    }
   },
   "outputs": [
    {
     "data": {
      "text/plain": [
       "((1309, 29), (1309, 7))"
      ]
     },
     "execution_count": 154,
     "metadata": {},
     "output_type": "execute_result"
    }
   ],
   "source": [
    "dfs_scaled[1].shape,dfs_scaled[0].shape"
   ]
  },
  {
   "cell_type": "code",
   "execution_count": 155,
   "metadata": {
    "execution": {
     "iopub.execute_input": "2023-11-22T16:09:52.697463Z",
     "iopub.status.busy": "2023-11-22T16:09:52.696186Z",
     "iopub.status.idle": "2023-11-22T16:09:52.722342Z",
     "shell.execute_reply": "2023-11-22T16:09:52.721242Z",
     "shell.execute_reply.started": "2023-11-22T16:09:52.697425Z"
    }
   },
   "outputs": [
    {
     "data": {
      "text/html": [
       "<div>\n",
       "<style scoped>\n",
       "    .dataframe tbody tr th:only-of-type {\n",
       "        vertical-align: middle;\n",
       "    }\n",
       "\n",
       "    .dataframe tbody tr th {\n",
       "        vertical-align: top;\n",
       "    }\n",
       "\n",
       "    .dataframe thead th {\n",
       "        text-align: right;\n",
       "    }\n",
       "</style>\n",
       "<table border=\"1\" class=\"dataframe\">\n",
       "  <thead>\n",
       "    <tr style=\"text-align: right;\">\n",
       "      <th></th>\n",
       "      <th>Pclass</th>\n",
       "      <th>Sex</th>\n",
       "      <th>SibSp</th>\n",
       "      <th>Parch</th>\n",
       "      <th>Embarked</th>\n",
       "      <th>Age_imputated</th>\n",
       "      <th>Survived</th>\n",
       "    </tr>\n",
       "  </thead>\n",
       "  <tbody>\n",
       "    <tr>\n",
       "      <th>0</th>\n",
       "      <td>2.0</td>\n",
       "      <td>0.0</td>\n",
       "      <td>1.0</td>\n",
       "      <td>0.0</td>\n",
       "      <td>0.0</td>\n",
       "      <td>1.0</td>\n",
       "      <td>0.0</td>\n",
       "    </tr>\n",
       "    <tr>\n",
       "      <th>1</th>\n",
       "      <td>0.0</td>\n",
       "      <td>1.0</td>\n",
       "      <td>1.0</td>\n",
       "      <td>0.0</td>\n",
       "      <td>2.0</td>\n",
       "      <td>2.0</td>\n",
       "      <td>1.0</td>\n",
       "    </tr>\n",
       "    <tr>\n",
       "      <th>2</th>\n",
       "      <td>2.0</td>\n",
       "      <td>1.0</td>\n",
       "      <td>0.0</td>\n",
       "      <td>0.0</td>\n",
       "      <td>0.0</td>\n",
       "      <td>1.0</td>\n",
       "      <td>1.0</td>\n",
       "    </tr>\n",
       "    <tr>\n",
       "      <th>3</th>\n",
       "      <td>0.0</td>\n",
       "      <td>1.0</td>\n",
       "      <td>1.0</td>\n",
       "      <td>0.0</td>\n",
       "      <td>0.0</td>\n",
       "      <td>2.0</td>\n",
       "      <td>1.0</td>\n",
       "    </tr>\n",
       "    <tr>\n",
       "      <th>4</th>\n",
       "      <td>2.0</td>\n",
       "      <td>0.0</td>\n",
       "      <td>0.0</td>\n",
       "      <td>0.0</td>\n",
       "      <td>0.0</td>\n",
       "      <td>2.0</td>\n",
       "      <td>0.0</td>\n",
       "    </tr>\n",
       "    <tr>\n",
       "      <th>...</th>\n",
       "      <td>...</td>\n",
       "      <td>...</td>\n",
       "      <td>...</td>\n",
       "      <td>...</td>\n",
       "      <td>...</td>\n",
       "      <td>...</td>\n",
       "      <td>...</td>\n",
       "    </tr>\n",
       "    <tr>\n",
       "      <th>1304</th>\n",
       "      <td>2.0</td>\n",
       "      <td>0.0</td>\n",
       "      <td>0.0</td>\n",
       "      <td>0.0</td>\n",
       "      <td>0.0</td>\n",
       "      <td>2.0</td>\n",
       "      <td>NaN</td>\n",
       "    </tr>\n",
       "    <tr>\n",
       "      <th>1305</th>\n",
       "      <td>0.0</td>\n",
       "      <td>1.0</td>\n",
       "      <td>0.0</td>\n",
       "      <td>0.0</td>\n",
       "      <td>2.0</td>\n",
       "      <td>2.0</td>\n",
       "      <td>NaN</td>\n",
       "    </tr>\n",
       "    <tr>\n",
       "      <th>1306</th>\n",
       "      <td>2.0</td>\n",
       "      <td>0.0</td>\n",
       "      <td>0.0</td>\n",
       "      <td>0.0</td>\n",
       "      <td>0.0</td>\n",
       "      <td>2.0</td>\n",
       "      <td>NaN</td>\n",
       "    </tr>\n",
       "    <tr>\n",
       "      <th>1307</th>\n",
       "      <td>2.0</td>\n",
       "      <td>0.0</td>\n",
       "      <td>0.0</td>\n",
       "      <td>0.0</td>\n",
       "      <td>0.0</td>\n",
       "      <td>2.0</td>\n",
       "      <td>NaN</td>\n",
       "    </tr>\n",
       "    <tr>\n",
       "      <th>1308</th>\n",
       "      <td>2.0</td>\n",
       "      <td>0.0</td>\n",
       "      <td>1.0</td>\n",
       "      <td>1.0</td>\n",
       "      <td>2.0</td>\n",
       "      <td>2.0</td>\n",
       "      <td>NaN</td>\n",
       "    </tr>\n",
       "  </tbody>\n",
       "</table>\n",
       "<p>1309 rows × 7 columns</p>\n",
       "</div>"
      ],
      "text/plain": [
       "      Pclass  Sex  SibSp  Parch  Embarked  Age_imputated  Survived\n",
       "0        2.0  0.0    1.0    0.0       0.0            1.0       0.0\n",
       "1        0.0  1.0    1.0    0.0       2.0            2.0       1.0\n",
       "2        2.0  1.0    0.0    0.0       0.0            1.0       1.0\n",
       "3        0.0  1.0    1.0    0.0       0.0            2.0       1.0\n",
       "4        2.0  0.0    0.0    0.0       0.0            2.0       0.0\n",
       "...      ...  ...    ...    ...       ...            ...       ...\n",
       "1304     2.0  0.0    0.0    0.0       0.0            2.0       NaN\n",
       "1305     0.0  1.0    0.0    0.0       2.0            2.0       NaN\n",
       "1306     2.0  0.0    0.0    0.0       0.0            2.0       NaN\n",
       "1307     2.0  0.0    0.0    0.0       0.0            2.0       NaN\n",
       "1308     2.0  0.0    1.0    1.0       2.0            2.0       NaN\n",
       "\n",
       "[1309 rows x 7 columns]"
      ]
     },
     "execution_count": 155,
     "metadata": {},
     "output_type": "execute_result"
    }
   ],
   "source": [
    "dfs_scaled[0]"
   ]
  },
  {
   "cell_type": "code",
   "execution_count": 156,
   "metadata": {
    "execution": {
     "iopub.execute_input": "2023-11-22T16:09:55.664116Z",
     "iopub.status.busy": "2023-11-22T16:09:55.663239Z",
     "iopub.status.idle": "2023-11-22T16:09:55.715050Z",
     "shell.execute_reply": "2023-11-22T16:09:55.714210Z",
     "shell.execute_reply.started": "2023-11-22T16:09:55.664079Z"
    }
   },
   "outputs": [
    {
     "data": {
      "text/html": [
       "<div>\n",
       "<style scoped>\n",
       "    .dataframe tbody tr th:only-of-type {\n",
       "        vertical-align: middle;\n",
       "    }\n",
       "\n",
       "    .dataframe tbody tr th {\n",
       "        vertical-align: top;\n",
       "    }\n",
       "\n",
       "    .dataframe thead th {\n",
       "        text-align: right;\n",
       "    }\n",
       "</style>\n",
       "<table border=\"1\" class=\"dataframe\">\n",
       "  <thead>\n",
       "    <tr style=\"text-align: right;\">\n",
       "      <th></th>\n",
       "      <th>Pclass_1</th>\n",
       "      <th>Pclass_2</th>\n",
       "      <th>Pclass_3</th>\n",
       "      <th>Sex_0</th>\n",
       "      <th>Sex_1</th>\n",
       "      <th>SibSp_0</th>\n",
       "      <th>SibSp_1</th>\n",
       "      <th>SibSp_2</th>\n",
       "      <th>SibSp_3</th>\n",
       "      <th>SibSp_4</th>\n",
       "      <th>...</th>\n",
       "      <th>Parch_9</th>\n",
       "      <th>Embarked_0.0</th>\n",
       "      <th>Embarked_1.0</th>\n",
       "      <th>Embarked_2.0</th>\n",
       "      <th>Age_imputated_0.0</th>\n",
       "      <th>Age_imputated_1.0</th>\n",
       "      <th>Age_imputated_2.0</th>\n",
       "      <th>Age_imputated_3.0</th>\n",
       "      <th>Age_imputated_4.0</th>\n",
       "      <th>Survived</th>\n",
       "    </tr>\n",
       "  </thead>\n",
       "  <tbody>\n",
       "    <tr>\n",
       "      <th>0</th>\n",
       "      <td>0.0</td>\n",
       "      <td>0.0</td>\n",
       "      <td>1.0</td>\n",
       "      <td>1.0</td>\n",
       "      <td>0.0</td>\n",
       "      <td>0.0</td>\n",
       "      <td>1.0</td>\n",
       "      <td>0.0</td>\n",
       "      <td>0.0</td>\n",
       "      <td>0.0</td>\n",
       "      <td>...</td>\n",
       "      <td>0.0</td>\n",
       "      <td>1.0</td>\n",
       "      <td>0.0</td>\n",
       "      <td>0.0</td>\n",
       "      <td>0.0</td>\n",
       "      <td>1.0</td>\n",
       "      <td>0.0</td>\n",
       "      <td>0.0</td>\n",
       "      <td>0.0</td>\n",
       "      <td>0.0</td>\n",
       "    </tr>\n",
       "    <tr>\n",
       "      <th>1</th>\n",
       "      <td>1.0</td>\n",
       "      <td>0.0</td>\n",
       "      <td>0.0</td>\n",
       "      <td>0.0</td>\n",
       "      <td>1.0</td>\n",
       "      <td>0.0</td>\n",
       "      <td>1.0</td>\n",
       "      <td>0.0</td>\n",
       "      <td>0.0</td>\n",
       "      <td>0.0</td>\n",
       "      <td>...</td>\n",
       "      <td>0.0</td>\n",
       "      <td>0.0</td>\n",
       "      <td>0.0</td>\n",
       "      <td>1.0</td>\n",
       "      <td>0.0</td>\n",
       "      <td>0.0</td>\n",
       "      <td>1.0</td>\n",
       "      <td>0.0</td>\n",
       "      <td>0.0</td>\n",
       "      <td>1.0</td>\n",
       "    </tr>\n",
       "    <tr>\n",
       "      <th>2</th>\n",
       "      <td>0.0</td>\n",
       "      <td>0.0</td>\n",
       "      <td>1.0</td>\n",
       "      <td>0.0</td>\n",
       "      <td>1.0</td>\n",
       "      <td>1.0</td>\n",
       "      <td>0.0</td>\n",
       "      <td>0.0</td>\n",
       "      <td>0.0</td>\n",
       "      <td>0.0</td>\n",
       "      <td>...</td>\n",
       "      <td>0.0</td>\n",
       "      <td>1.0</td>\n",
       "      <td>0.0</td>\n",
       "      <td>0.0</td>\n",
       "      <td>0.0</td>\n",
       "      <td>1.0</td>\n",
       "      <td>0.0</td>\n",
       "      <td>0.0</td>\n",
       "      <td>0.0</td>\n",
       "      <td>1.0</td>\n",
       "    </tr>\n",
       "    <tr>\n",
       "      <th>3</th>\n",
       "      <td>1.0</td>\n",
       "      <td>0.0</td>\n",
       "      <td>0.0</td>\n",
       "      <td>0.0</td>\n",
       "      <td>1.0</td>\n",
       "      <td>0.0</td>\n",
       "      <td>1.0</td>\n",
       "      <td>0.0</td>\n",
       "      <td>0.0</td>\n",
       "      <td>0.0</td>\n",
       "      <td>...</td>\n",
       "      <td>0.0</td>\n",
       "      <td>1.0</td>\n",
       "      <td>0.0</td>\n",
       "      <td>0.0</td>\n",
       "      <td>0.0</td>\n",
       "      <td>0.0</td>\n",
       "      <td>1.0</td>\n",
       "      <td>0.0</td>\n",
       "      <td>0.0</td>\n",
       "      <td>1.0</td>\n",
       "    </tr>\n",
       "    <tr>\n",
       "      <th>4</th>\n",
       "      <td>0.0</td>\n",
       "      <td>0.0</td>\n",
       "      <td>1.0</td>\n",
       "      <td>1.0</td>\n",
       "      <td>0.0</td>\n",
       "      <td>1.0</td>\n",
       "      <td>0.0</td>\n",
       "      <td>0.0</td>\n",
       "      <td>0.0</td>\n",
       "      <td>0.0</td>\n",
       "      <td>...</td>\n",
       "      <td>0.0</td>\n",
       "      <td>1.0</td>\n",
       "      <td>0.0</td>\n",
       "      <td>0.0</td>\n",
       "      <td>0.0</td>\n",
       "      <td>0.0</td>\n",
       "      <td>1.0</td>\n",
       "      <td>0.0</td>\n",
       "      <td>0.0</td>\n",
       "      <td>0.0</td>\n",
       "    </tr>\n",
       "    <tr>\n",
       "      <th>...</th>\n",
       "      <td>...</td>\n",
       "      <td>...</td>\n",
       "      <td>...</td>\n",
       "      <td>...</td>\n",
       "      <td>...</td>\n",
       "      <td>...</td>\n",
       "      <td>...</td>\n",
       "      <td>...</td>\n",
       "      <td>...</td>\n",
       "      <td>...</td>\n",
       "      <td>...</td>\n",
       "      <td>...</td>\n",
       "      <td>...</td>\n",
       "      <td>...</td>\n",
       "      <td>...</td>\n",
       "      <td>...</td>\n",
       "      <td>...</td>\n",
       "      <td>...</td>\n",
       "      <td>...</td>\n",
       "      <td>...</td>\n",
       "      <td>...</td>\n",
       "    </tr>\n",
       "    <tr>\n",
       "      <th>1304</th>\n",
       "      <td>0.0</td>\n",
       "      <td>0.0</td>\n",
       "      <td>1.0</td>\n",
       "      <td>1.0</td>\n",
       "      <td>0.0</td>\n",
       "      <td>1.0</td>\n",
       "      <td>0.0</td>\n",
       "      <td>0.0</td>\n",
       "      <td>0.0</td>\n",
       "      <td>0.0</td>\n",
       "      <td>...</td>\n",
       "      <td>0.0</td>\n",
       "      <td>1.0</td>\n",
       "      <td>0.0</td>\n",
       "      <td>0.0</td>\n",
       "      <td>0.0</td>\n",
       "      <td>0.0</td>\n",
       "      <td>1.0</td>\n",
       "      <td>0.0</td>\n",
       "      <td>0.0</td>\n",
       "      <td>NaN</td>\n",
       "    </tr>\n",
       "    <tr>\n",
       "      <th>1305</th>\n",
       "      <td>1.0</td>\n",
       "      <td>0.0</td>\n",
       "      <td>0.0</td>\n",
       "      <td>0.0</td>\n",
       "      <td>1.0</td>\n",
       "      <td>1.0</td>\n",
       "      <td>0.0</td>\n",
       "      <td>0.0</td>\n",
       "      <td>0.0</td>\n",
       "      <td>0.0</td>\n",
       "      <td>...</td>\n",
       "      <td>0.0</td>\n",
       "      <td>0.0</td>\n",
       "      <td>0.0</td>\n",
       "      <td>1.0</td>\n",
       "      <td>0.0</td>\n",
       "      <td>0.0</td>\n",
       "      <td>1.0</td>\n",
       "      <td>0.0</td>\n",
       "      <td>0.0</td>\n",
       "      <td>NaN</td>\n",
       "    </tr>\n",
       "    <tr>\n",
       "      <th>1306</th>\n",
       "      <td>0.0</td>\n",
       "      <td>0.0</td>\n",
       "      <td>1.0</td>\n",
       "      <td>1.0</td>\n",
       "      <td>0.0</td>\n",
       "      <td>1.0</td>\n",
       "      <td>0.0</td>\n",
       "      <td>0.0</td>\n",
       "      <td>0.0</td>\n",
       "      <td>0.0</td>\n",
       "      <td>...</td>\n",
       "      <td>0.0</td>\n",
       "      <td>1.0</td>\n",
       "      <td>0.0</td>\n",
       "      <td>0.0</td>\n",
       "      <td>0.0</td>\n",
       "      <td>0.0</td>\n",
       "      <td>1.0</td>\n",
       "      <td>0.0</td>\n",
       "      <td>0.0</td>\n",
       "      <td>NaN</td>\n",
       "    </tr>\n",
       "    <tr>\n",
       "      <th>1307</th>\n",
       "      <td>0.0</td>\n",
       "      <td>0.0</td>\n",
       "      <td>1.0</td>\n",
       "      <td>1.0</td>\n",
       "      <td>0.0</td>\n",
       "      <td>1.0</td>\n",
       "      <td>0.0</td>\n",
       "      <td>0.0</td>\n",
       "      <td>0.0</td>\n",
       "      <td>0.0</td>\n",
       "      <td>...</td>\n",
       "      <td>0.0</td>\n",
       "      <td>1.0</td>\n",
       "      <td>0.0</td>\n",
       "      <td>0.0</td>\n",
       "      <td>0.0</td>\n",
       "      <td>0.0</td>\n",
       "      <td>1.0</td>\n",
       "      <td>0.0</td>\n",
       "      <td>0.0</td>\n",
       "      <td>NaN</td>\n",
       "    </tr>\n",
       "    <tr>\n",
       "      <th>1308</th>\n",
       "      <td>0.0</td>\n",
       "      <td>0.0</td>\n",
       "      <td>1.0</td>\n",
       "      <td>1.0</td>\n",
       "      <td>0.0</td>\n",
       "      <td>0.0</td>\n",
       "      <td>1.0</td>\n",
       "      <td>0.0</td>\n",
       "      <td>0.0</td>\n",
       "      <td>0.0</td>\n",
       "      <td>...</td>\n",
       "      <td>0.0</td>\n",
       "      <td>0.0</td>\n",
       "      <td>0.0</td>\n",
       "      <td>1.0</td>\n",
       "      <td>0.0</td>\n",
       "      <td>0.0</td>\n",
       "      <td>1.0</td>\n",
       "      <td>0.0</td>\n",
       "      <td>0.0</td>\n",
       "      <td>NaN</td>\n",
       "    </tr>\n",
       "  </tbody>\n",
       "</table>\n",
       "<p>1309 rows × 29 columns</p>\n",
       "</div>"
      ],
      "text/plain": [
       "      Pclass_1  Pclass_2  Pclass_3  Sex_0  Sex_1  SibSp_0  SibSp_1  SibSp_2  \\\n",
       "0          0.0       0.0       1.0    1.0    0.0      0.0      1.0      0.0   \n",
       "1          1.0       0.0       0.0    0.0    1.0      0.0      1.0      0.0   \n",
       "2          0.0       0.0       1.0    0.0    1.0      1.0      0.0      0.0   \n",
       "3          1.0       0.0       0.0    0.0    1.0      0.0      1.0      0.0   \n",
       "4          0.0       0.0       1.0    1.0    0.0      1.0      0.0      0.0   \n",
       "...        ...       ...       ...    ...    ...      ...      ...      ...   \n",
       "1304       0.0       0.0       1.0    1.0    0.0      1.0      0.0      0.0   \n",
       "1305       1.0       0.0       0.0    0.0    1.0      1.0      0.0      0.0   \n",
       "1306       0.0       0.0       1.0    1.0    0.0      1.0      0.0      0.0   \n",
       "1307       0.0       0.0       1.0    1.0    0.0      1.0      0.0      0.0   \n",
       "1308       0.0       0.0       1.0    1.0    0.0      0.0      1.0      0.0   \n",
       "\n",
       "      SibSp_3  SibSp_4  ...  Parch_9  Embarked_0.0  Embarked_1.0  \\\n",
       "0         0.0      0.0  ...      0.0           1.0           0.0   \n",
       "1         0.0      0.0  ...      0.0           0.0           0.0   \n",
       "2         0.0      0.0  ...      0.0           1.0           0.0   \n",
       "3         0.0      0.0  ...      0.0           1.0           0.0   \n",
       "4         0.0      0.0  ...      0.0           1.0           0.0   \n",
       "...       ...      ...  ...      ...           ...           ...   \n",
       "1304      0.0      0.0  ...      0.0           1.0           0.0   \n",
       "1305      0.0      0.0  ...      0.0           0.0           0.0   \n",
       "1306      0.0      0.0  ...      0.0           1.0           0.0   \n",
       "1307      0.0      0.0  ...      0.0           1.0           0.0   \n",
       "1308      0.0      0.0  ...      0.0           0.0           0.0   \n",
       "\n",
       "      Embarked_2.0  Age_imputated_0.0  Age_imputated_1.0  Age_imputated_2.0  \\\n",
       "0              0.0                0.0                1.0                0.0   \n",
       "1              1.0                0.0                0.0                1.0   \n",
       "2              0.0                0.0                1.0                0.0   \n",
       "3              0.0                0.0                0.0                1.0   \n",
       "4              0.0                0.0                0.0                1.0   \n",
       "...            ...                ...                ...                ...   \n",
       "1304           0.0                0.0                0.0                1.0   \n",
       "1305           1.0                0.0                0.0                1.0   \n",
       "1306           0.0                0.0                0.0                1.0   \n",
       "1307           0.0                0.0                0.0                1.0   \n",
       "1308           1.0                0.0                0.0                1.0   \n",
       "\n",
       "      Age_imputated_3.0  Age_imputated_4.0  Survived  \n",
       "0                   0.0                0.0       0.0  \n",
       "1                   0.0                0.0       1.0  \n",
       "2                   0.0                0.0       1.0  \n",
       "3                   0.0                0.0       1.0  \n",
       "4                   0.0                0.0       0.0  \n",
       "...                 ...                ...       ...  \n",
       "1304                0.0                0.0       NaN  \n",
       "1305                0.0                0.0       NaN  \n",
       "1306                0.0                0.0       NaN  \n",
       "1307                0.0                0.0       NaN  \n",
       "1308                0.0                0.0       NaN  \n",
       "\n",
       "[1309 rows x 29 columns]"
      ]
     },
     "execution_count": 156,
     "metadata": {},
     "output_type": "execute_result"
    }
   ],
   "source": [
    "dfs_scaled[1]"
   ]
  },
  {
   "cell_type": "code",
   "execution_count": 71,
   "metadata": {
    "execution": {
     "iopub.execute_input": "2023-11-22T15:29:09.726595Z",
     "iopub.status.busy": "2023-11-22T15:29:09.726182Z",
     "iopub.status.idle": "2023-11-22T15:29:09.733480Z",
     "shell.execute_reply": "2023-11-22T15:29:09.732370Z",
     "shell.execute_reply.started": "2023-11-22T15:29:09.726555Z"
    }
   },
   "outputs": [],
   "source": [
    "def perform_cross_validation2(model, df, train_len, cv=5):\n",
    "    # Perform cross-validation\n",
    "    X,y = df[:,1:],df[:,0]\n",
    "    cv_results = cross_validate(model, X, y, cv=cv)\n",
    "    scores = cv_results['test_score']\n",
    "    # Calculate and print the mean accuracy and standard deviation\n",
    "    mean_accuracy = scores.mean()\n",
    "    std_accuracy = scores.std()\n",
    "    print(\"Mean Accuracy:\", mean_accuracy)\n",
    "    print(\"Standard Deviation:\", std_accuracy)\n",
    "    print(\"Accuracy Scores:\", scores)\n",
    "    print('\\n')"
   ]
  },
  {
   "cell_type": "code",
   "execution_count": 157,
   "metadata": {
    "execution": {
     "iopub.execute_input": "2023-11-22T16:10:09.485766Z",
     "iopub.status.busy": "2023-11-22T16:10:09.484739Z",
     "iopub.status.idle": "2023-11-22T16:10:38.114467Z",
     "shell.execute_reply": "2023-11-22T16:10:38.113094Z",
     "shell.execute_reply.started": "2023-11-22T16:10:09.485731Z"
    }
   },
   "outputs": [
    {
     "name": "stdout",
     "output_type": "stream",
     "text": [
      "Logistic Regression C30\n",
      "\n",
      "Mean Accuracy: 0.7912497646098802\n",
      "Standard Deviation: 0.010805340843469052\n",
      "Accuracy Scores: [0.7877095  0.79213483 0.79213483 0.7752809  0.80898876]\n",
      "\n",
      "\n",
      "Logistic Regression C30\n",
      "\n"
     ]
    },
    {
     "name": "stderr",
     "output_type": "stream",
     "text": [
      "/opt/conda/lib/python3.10/site-packages/sklearn/linear_model/_logistic.py:458: ConvergenceWarning: lbfgs failed to converge (status=1):\n",
      "STOP: TOTAL NO. of ITERATIONS REACHED LIMIT.\n",
      "\n",
      "Increase the number of iterations (max_iter) or scale the data as shown in:\n",
      "    https://scikit-learn.org/stable/modules/preprocessing.html\n",
      "Please also refer to the documentation for alternative solver options:\n",
      "    https://scikit-learn.org/stable/modules/linear_model.html#logistic-regression\n",
      "  n_iter_i = _check_optimize_result(\n",
      "/opt/conda/lib/python3.10/site-packages/sklearn/linear_model/_logistic.py:458: ConvergenceWarning: lbfgs failed to converge (status=1):\n",
      "STOP: TOTAL NO. of ITERATIONS REACHED LIMIT.\n",
      "\n",
      "Increase the number of iterations (max_iter) or scale the data as shown in:\n",
      "    https://scikit-learn.org/stable/modules/preprocessing.html\n",
      "Please also refer to the documentation for alternative solver options:\n",
      "    https://scikit-learn.org/stable/modules/linear_model.html#logistic-regression\n",
      "  n_iter_i = _check_optimize_result(\n",
      "/opt/conda/lib/python3.10/site-packages/sklearn/linear_model/_logistic.py:458: ConvergenceWarning: lbfgs failed to converge (status=1):\n",
      "STOP: TOTAL NO. of ITERATIONS REACHED LIMIT.\n",
      "\n",
      "Increase the number of iterations (max_iter) or scale the data as shown in:\n",
      "    https://scikit-learn.org/stable/modules/preprocessing.html\n",
      "Please also refer to the documentation for alternative solver options:\n",
      "    https://scikit-learn.org/stable/modules/linear_model.html#logistic-regression\n",
      "  n_iter_i = _check_optimize_result(\n",
      "/opt/conda/lib/python3.10/site-packages/sklearn/linear_model/_logistic.py:458: ConvergenceWarning: lbfgs failed to converge (status=1):\n",
      "STOP: TOTAL NO. of ITERATIONS REACHED LIMIT.\n",
      "\n",
      "Increase the number of iterations (max_iter) or scale the data as shown in:\n",
      "    https://scikit-learn.org/stable/modules/preprocessing.html\n",
      "Please also refer to the documentation for alternative solver options:\n",
      "    https://scikit-learn.org/stable/modules/linear_model.html#logistic-regression\n",
      "  n_iter_i = _check_optimize_result(\n",
      "/opt/conda/lib/python3.10/site-packages/sklearn/linear_model/_logistic.py:458: ConvergenceWarning: lbfgs failed to converge (status=1):\n",
      "STOP: TOTAL NO. of ITERATIONS REACHED LIMIT.\n",
      "\n",
      "Increase the number of iterations (max_iter) or scale the data as shown in:\n",
      "    https://scikit-learn.org/stable/modules/preprocessing.html\n",
      "Please also refer to the documentation for alternative solver options:\n",
      "    https://scikit-learn.org/stable/modules/linear_model.html#logistic-regression\n",
      "  n_iter_i = _check_optimize_result(\n"
     ]
    },
    {
     "name": "stdout",
     "output_type": "stream",
     "text": [
      "Mean Accuracy: 0.8036030381018142\n",
      "Standard Deviation: 0.009130679420028523\n",
      "Accuracy Scores: [0.79329609 0.80898876 0.79213483 0.80898876 0.81460674]\n",
      "\n",
      "\n",
      "Logistic Regression C1\n",
      "\n",
      "Mean Accuracy: 0.7934969556211161\n",
      "Standard Deviation: 0.014720078147382541\n",
      "Accuracy Scores: [0.7877095  0.79213483 0.79213483 0.7752809  0.82022472]\n",
      "\n",
      "\n",
      "Logistic Regression C1\n",
      "\n",
      "Mean Accuracy: 0.7979976147134517\n",
      "Standard Deviation: 0.010873570114529604\n",
      "Accuracy Scores: [0.78212291 0.80337079 0.79775281 0.79213483 0.81460674]\n",
      "\n",
      "\n",
      "Logistic Regression C100\n",
      "\n",
      "Mean Accuracy: 0.7912497646098802\n",
      "Standard Deviation: 0.010805340843469052\n",
      "Accuracy Scores: [0.7877095  0.79213483 0.79213483 0.7752809  0.80898876]\n",
      "\n",
      "\n",
      "Logistic Regression C100\n",
      "\n"
     ]
    },
    {
     "name": "stderr",
     "output_type": "stream",
     "text": [
      "/opt/conda/lib/python3.10/site-packages/sklearn/linear_model/_logistic.py:458: ConvergenceWarning: lbfgs failed to converge (status=1):\n",
      "STOP: TOTAL NO. of ITERATIONS REACHED LIMIT.\n",
      "\n",
      "Increase the number of iterations (max_iter) or scale the data as shown in:\n",
      "    https://scikit-learn.org/stable/modules/preprocessing.html\n",
      "Please also refer to the documentation for alternative solver options:\n",
      "    https://scikit-learn.org/stable/modules/linear_model.html#logistic-regression\n",
      "  n_iter_i = _check_optimize_result(\n",
      "/opt/conda/lib/python3.10/site-packages/sklearn/linear_model/_logistic.py:458: ConvergenceWarning: lbfgs failed to converge (status=1):\n",
      "STOP: TOTAL NO. of ITERATIONS REACHED LIMIT.\n",
      "\n",
      "Increase the number of iterations (max_iter) or scale the data as shown in:\n",
      "    https://scikit-learn.org/stable/modules/preprocessing.html\n",
      "Please also refer to the documentation for alternative solver options:\n",
      "    https://scikit-learn.org/stable/modules/linear_model.html#logistic-regression\n",
      "  n_iter_i = _check_optimize_result(\n",
      "/opt/conda/lib/python3.10/site-packages/sklearn/linear_model/_logistic.py:458: ConvergenceWarning: lbfgs failed to converge (status=1):\n",
      "STOP: TOTAL NO. of ITERATIONS REACHED LIMIT.\n",
      "\n",
      "Increase the number of iterations (max_iter) or scale the data as shown in:\n",
      "    https://scikit-learn.org/stable/modules/preprocessing.html\n",
      "Please also refer to the documentation for alternative solver options:\n",
      "    https://scikit-learn.org/stable/modules/linear_model.html#logistic-regression\n",
      "  n_iter_i = _check_optimize_result(\n",
      "/opt/conda/lib/python3.10/site-packages/sklearn/linear_model/_logistic.py:458: ConvergenceWarning: lbfgs failed to converge (status=1):\n",
      "STOP: TOTAL NO. of ITERATIONS REACHED LIMIT.\n",
      "\n",
      "Increase the number of iterations (max_iter) or scale the data as shown in:\n",
      "    https://scikit-learn.org/stable/modules/preprocessing.html\n",
      "Please also refer to the documentation for alternative solver options:\n",
      "    https://scikit-learn.org/stable/modules/linear_model.html#logistic-regression\n",
      "  n_iter_i = _check_optimize_result(\n",
      "/opt/conda/lib/python3.10/site-packages/sklearn/linear_model/_logistic.py:458: ConvergenceWarning: lbfgs failed to converge (status=1):\n",
      "STOP: TOTAL NO. of ITERATIONS REACHED LIMIT.\n",
      "\n",
      "Increase the number of iterations (max_iter) or scale the data as shown in:\n",
      "    https://scikit-learn.org/stable/modules/preprocessing.html\n",
      "Please also refer to the documentation for alternative solver options:\n",
      "    https://scikit-learn.org/stable/modules/linear_model.html#logistic-regression\n",
      "  n_iter_i = _check_optimize_result(\n"
     ]
    },
    {
     "name": "stdout",
     "output_type": "stream",
     "text": [
      "Mean Accuracy: 0.8036030381018142\n",
      "Standard Deviation: 0.009130679420028523\n",
      "Accuracy Scores: [0.79329609 0.80898876 0.79213483 0.80898876 0.81460674]\n",
      "\n",
      "\n",
      "Support Vector Machines Classifier\n",
      "\n",
      "Mean Accuracy: 0.8170422446801833\n",
      "Standard Deviation: 0.012332447194715804\n",
      "Accuracy Scores: [0.83240223 0.80898876 0.80337079 0.80898876 0.83146067]\n",
      "\n",
      "\n",
      "Support Vector Machines Classifier\n",
      "\n",
      "Mean Accuracy: 0.815956311593748\n",
      "Standard Deviation: 0.014979093224406808\n",
      "Accuracy Scores: [0.79888268 0.80898876 0.82022472 0.80898876 0.84269663]\n",
      "\n",
      "\n",
      "Support Vector Machines Classifier rbf\n",
      "\n",
      "Mean Accuracy: 0.8204130311970372\n",
      "Standard Deviation: 0.014798410202313844\n",
      "Accuracy Scores: [0.83240223 0.80898876 0.80337079 0.81460674 0.84269663]\n",
      "\n",
      "\n",
      "Support Vector Machines Classifier rbf\n",
      "\n",
      "Mean Accuracy: 0.8114619295712762\n",
      "Standard Deviation: 0.015942983922316124\n",
      "Accuracy Scores: [0.79888268 0.80898876 0.82022472 0.79213483 0.83707865]\n",
      "\n",
      "\n",
      "Support Vector Machines Classifier Poly 3\n",
      "\n",
      "Mean Accuracy: 0.80585022911305\n",
      "Standard Deviation: 0.02333213128226474\n",
      "Accuracy Scores: [0.79329609 0.79775281 0.82022472 0.7752809  0.84269663]\n",
      "\n",
      "\n",
      "Support Vector Machines Classifier Poly 3\n",
      "\n",
      "Mean Accuracy: 0.7968865733475614\n",
      "Standard Deviation: 0.01956526125409383\n",
      "Accuracy Scores: [0.77094972 0.81460674 0.81460674 0.7752809  0.80898876]\n",
      "\n",
      "\n",
      "Support Vector Machines Classifier Poly 2\n",
      "\n",
      "Mean Accuracy: 0.8114430983616847\n",
      "Standard Deviation: 0.008500955786985575\n",
      "Accuracy Scores: [0.81564246 0.80337079 0.80898876 0.80337079 0.8258427 ]\n",
      "\n",
      "\n",
      "Support Vector Machines Classifier Poly 2\n",
      "\n",
      "Mean Accuracy: 0.8069863787583955\n",
      "Standard Deviation: 0.018331058143123094\n",
      "Accuracy Scores: [0.78212291 0.80337079 0.81460674 0.79775281 0.83707865]\n",
      "\n",
      "\n",
      "Bagging Classifier\n",
      "\n",
      "Mean Accuracy: 0.8081350825434687\n",
      "Standard Deviation: 0.029150562413719824\n",
      "Accuracy Scores: [0.75977654 0.82022472 0.81460674 0.79775281 0.84831461]\n",
      "\n",
      "\n",
      "Bagging Classifier\n",
      "\n",
      "Mean Accuracy: 0.8047705730964786\n",
      "Standard Deviation: 0.028682010063688288\n",
      "Accuracy Scores: [0.75418994 0.82022472 0.8258427  0.79213483 0.83146067]\n",
      "\n",
      "\n",
      "KNeighborsClassifier\n",
      "\n",
      "Mean Accuracy: 0.7598706923608061\n",
      "Standard Deviation: 0.02613323684535505\n",
      "Accuracy Scores: [0.7150838  0.78089888 0.74719101 0.78651685 0.76966292]\n",
      "\n",
      "\n",
      "KNeighborsClassifier\n",
      "\n",
      "Mean Accuracy: 0.7520682945201179\n",
      "Standard Deviation: 0.048940460842257054\n",
      "Accuracy Scores: [0.65921788 0.80337079 0.75842697 0.7752809  0.76404494]\n",
      "\n",
      "\n",
      "GaussianNB\n",
      "\n",
      "Mean Accuracy: 0.787916640512209\n",
      "Standard Deviation: 0.018082609564963763\n",
      "Accuracy Scores: [0.75418994 0.79213483 0.79213483 0.79213483 0.80898876]\n",
      "\n",
      "\n",
      "GaussianNB\n",
      "\n",
      "Mean Accuracy: 0.4185989580064026\n",
      "Standard Deviation: 0.017138603309273474\n",
      "Accuracy Scores: [0.44692737 0.41573034 0.41573034 0.39325843 0.42134831]\n",
      "\n",
      "\n",
      "LinearSVC\n",
      "\n",
      "Mean Accuracy: 0.7923670830456344\n",
      "Standard Deviation: 0.016289070073098065\n",
      "Accuracy Scores: [0.79329609 0.79213483 0.78651685 0.76966292 0.82022472]\n",
      "\n",
      "\n",
      "LinearSVC\n",
      "\n",
      "Mean Accuracy: 0.7968551879982424\n",
      "Standard Deviation: 0.009028285821830153\n",
      "Accuracy Scores: [0.79888268 0.80898876 0.78651685 0.78651685 0.80337079]\n",
      "\n",
      "\n",
      "SGDClassifier\n",
      "\n",
      "Mean Accuracy: 0.7587847592743707\n",
      "Standard Deviation: 0.03997576275750006\n",
      "Accuracy Scores: [0.68156425 0.78651685 0.78089888 0.75842697 0.78651685]\n",
      "\n",
      "\n",
      "SGDClassifier\n",
      "\n",
      "Mean Accuracy: 0.7732847906597201\n",
      "Standard Deviation: 0.01766203498742751\n",
      "Accuracy Scores: [0.77653631 0.74157303 0.76966292 0.79213483 0.78651685]\n",
      "\n",
      "\n",
      "RandomForestClassifier\n",
      "\n",
      "Mean Accuracy: 0.8215805661917017\n",
      "Standard Deviation: 0.020516690951353646\n",
      "Accuracy Scores: [0.79329609 0.8258427  0.83707865 0.80337079 0.84831461]\n",
      "\n",
      "\n",
      "RandomForestClassifier\n",
      "\n",
      "Mean Accuracy: 0.8114744837110036\n",
      "Standard Deviation: 0.015763988359809404\n",
      "Accuracy Scores: [0.7877095  0.8258427  0.82022472 0.79775281 0.8258427 ]\n",
      "\n",
      "\n"
     ]
    }
   ],
   "source": [
    "for model_name,model in models.items():\n",
    "     for df_scaled in dfs_scaled:\n",
    "        print(model_name + '\\n')\n",
    "        perform_cross_validation(model, df_scaled, train_len, cv=5)"
   ]
  },
  {
   "cell_type": "markdown",
   "metadata": {},
   "source": [
    "# Deep Learning models "
   ]
  },
  {
   "cell_type": "code",
   "execution_count": 158,
   "metadata": {
    "execution": {
     "iopub.execute_input": "2023-11-22T16:12:25.213393Z",
     "iopub.status.busy": "2023-11-22T16:12:25.212926Z",
     "iopub.status.idle": "2023-11-22T16:12:25.220145Z",
     "shell.execute_reply": "2023-11-22T16:12:25.218820Z",
     "shell.execute_reply.started": "2023-11-22T16:12:25.213347Z"
    }
   },
   "outputs": [],
   "source": [
    "from sklearn.neural_network import MLPClassifier"
   ]
  },
  {
   "cell_type": "code",
   "execution_count": 159,
   "metadata": {
    "execution": {
     "iopub.execute_input": "2023-11-22T16:12:25.552938Z",
     "iopub.status.busy": "2023-11-22T16:12:25.552285Z",
     "iopub.status.idle": "2023-11-22T16:12:46.898727Z",
     "shell.execute_reply": "2023-11-22T16:12:46.897069Z",
     "shell.execute_reply.started": "2023-11-22T16:12:25.552905Z"
    }
   },
   "outputs": [
    {
     "name": "stdout",
     "output_type": "stream",
     "text": [
      "Neural Network Sklearn\n",
      "\n",
      "Mean Accuracy: 0.7822986629841191\n",
      "Standard Deviation: 0.01885028849588977\n",
      "Accuracy Scores: [0.75418994 0.78651685 0.79213483 0.76966292 0.80898876]\n",
      "\n",
      "\n",
      "Neural Network Sklearn\n",
      "\n",
      "Mean Accuracy: 0.6878789780930262\n",
      "Standard Deviation: 0.08806826865476522\n",
      "Accuracy Scores: [0.7877095  0.61797753 0.61797753 0.80337079 0.61235955]\n",
      "\n",
      "\n"
     ]
    }
   ],
   "source": [
    "model_name = 'Neural Network Sklearn'\n",
    "model = MLPClassifier(random_state=1,hidden_layer_sizes = [100,100,100] ,\n",
    "                      solver = 'adam',activation = 'logistic',\n",
    "                      alpha = 0.01,tol=1e-8,max_iter=1000)\n",
    "for df_scaled in dfs_scaled:\n",
    "    print(model_name + '\\n')\n",
    "    perform_cross_validation(model, df_scaled, train_len, cv=5)"
   ]
  },
  {
   "cell_type": "code",
   "execution_count": 75,
   "metadata": {
    "execution": {
     "iopub.execute_input": "2023-11-22T15:30:03.236348Z",
     "iopub.status.busy": "2023-11-22T15:30:03.235482Z",
     "iopub.status.idle": "2023-11-22T15:30:16.041680Z",
     "shell.execute_reply": "2023-11-22T15:30:16.040120Z",
     "shell.execute_reply.started": "2023-11-22T15:30:03.236275Z"
    }
   },
   "outputs": [
    {
     "name": "stdout",
     "output_type": "stream",
     "text": [
      "Mean Accuracy: 0.7896718085444043\n",
      "Standard Deviation: 0.013743576683502552\n",
      "Accuracy Scores: [0.7752809  0.78651685 0.80337079 0.7752809  0.8079096 ]\n",
      "\n",
      "\n"
     ]
    }
   ],
   "source": [
    "df2 = df.dropna(axis = 0, how = 'any') # this has to be removed before\n",
    "train = df2.iloc[:train_len,:]\n",
    "y = train['Survived'].values\n",
    "X = train.loc[:,df2.columns != 'Survived'].values\n",
    "cv_results = cross_validate(model, X, y, cv=5)\n",
    "scores = cv_results['test_score']\n",
    "# Calculate and print the mean accuracy and standard deviation\n",
    "mean_accuracy = scores.mean()\n",
    "std_accuracy = scores.std()\n",
    "print(\"Mean Accuracy:\", mean_accuracy)\n",
    "print(\"Standard Deviation:\", std_accuracy)\n",
    "print(\"Accuracy Scores:\", scores)\n",
    "print('\\n')"
   ]
  },
  {
   "cell_type": "markdown",
   "metadata": {},
   "source": [
    "## Tensorflow"
   ]
  },
  {
   "cell_type": "code",
   "execution_count": 76,
   "metadata": {
    "execution": {
     "iopub.execute_input": "2023-11-22T15:30:16.053880Z",
     "iopub.status.busy": "2023-11-22T15:30:16.048865Z",
     "iopub.status.idle": "2023-11-22T15:30:25.496279Z",
     "shell.execute_reply": "2023-11-22T15:30:25.493748Z",
     "shell.execute_reply.started": "2023-11-22T15:30:16.053798Z"
    }
   },
   "outputs": [
    {
     "name": "stderr",
     "output_type": "stream",
     "text": [
      "/opt/conda/lib/python3.10/site-packages/tensorflow_io/python/ops/__init__.py:98: UserWarning: unable to load libtensorflow_io_plugins.so: unable to open file: libtensorflow_io_plugins.so, from paths: ['/opt/conda/lib/python3.10/site-packages/tensorflow_io/python/ops/libtensorflow_io_plugins.so']\n",
      "caused by: ['/opt/conda/lib/python3.10/site-packages/tensorflow_io/python/ops/libtensorflow_io_plugins.so: undefined symbol: _ZN3tsl6StatusC1EN10tensorflow5error4CodeESt17basic_string_viewIcSt11char_traitsIcEENS_14SourceLocationE']\n",
      "  warnings.warn(f\"unable to load libtensorflow_io_plugins.so: {e}\")\n",
      "/opt/conda/lib/python3.10/site-packages/tensorflow_io/python/ops/__init__.py:104: UserWarning: file system plugins are not loaded: unable to open file: libtensorflow_io.so, from paths: ['/opt/conda/lib/python3.10/site-packages/tensorflow_io/python/ops/libtensorflow_io.so']\n",
      "caused by: ['/opt/conda/lib/python3.10/site-packages/tensorflow_io/python/ops/libtensorflow_io.so: undefined symbol: _ZTVN10tensorflow13GcsFileSystemE']\n",
      "  warnings.warn(f\"file system plugins are not loaded: {e}\")\n"
     ]
    }
   ],
   "source": [
    "import tensorflow as tf"
   ]
  },
  {
   "cell_type": "code",
   "execution_count": 160,
   "metadata": {
    "execution": {
     "iopub.execute_input": "2023-11-22T16:12:46.903403Z",
     "iopub.status.busy": "2023-11-22T16:12:46.902000Z",
     "iopub.status.idle": "2023-11-22T16:12:46.912553Z",
     "shell.execute_reply": "2023-11-22T16:12:46.910948Z",
     "shell.execute_reply.started": "2023-11-22T16:12:46.903334Z"
    }
   },
   "outputs": [],
   "source": [
    "df_onehotencoded = dfs_scaled[1]"
   ]
  },
  {
   "cell_type": "code",
   "execution_count": 161,
   "metadata": {
    "execution": {
     "iopub.execute_input": "2023-11-22T16:12:46.916543Z",
     "iopub.status.busy": "2023-11-22T16:12:46.915357Z",
     "iopub.status.idle": "2023-11-22T16:12:46.926732Z",
     "shell.execute_reply": "2023-11-22T16:12:46.925505Z",
     "shell.execute_reply.started": "2023-11-22T16:12:46.916476Z"
    }
   },
   "outputs": [],
   "source": [
    "train_encoded = df_onehotencoded.iloc[:len(train),:]"
   ]
  },
  {
   "cell_type": "code",
   "execution_count": 162,
   "metadata": {
    "execution": {
     "iopub.execute_input": "2023-11-22T16:12:49.178488Z",
     "iopub.status.busy": "2023-11-22T16:12:49.178079Z",
     "iopub.status.idle": "2023-11-22T16:12:49.185250Z",
     "shell.execute_reply": "2023-11-22T16:12:49.183858Z",
     "shell.execute_reply.started": "2023-11-22T16:12:49.178457Z"
    }
   },
   "outputs": [],
   "source": [
    "y = train_encoded['Survived'].values\n",
    "X = train_encoded.loc[:,train_encoded.columns != 'Survived'].values"
   ]
  },
  {
   "cell_type": "code",
   "execution_count": 163,
   "metadata": {
    "execution": {
     "iopub.execute_input": "2023-11-22T16:12:49.587321Z",
     "iopub.status.busy": "2023-11-22T16:12:49.586881Z",
     "iopub.status.idle": "2023-11-22T16:12:49.592596Z",
     "shell.execute_reply": "2023-11-22T16:12:49.591543Z",
     "shell.execute_reply.started": "2023-11-22T16:12:49.587270Z"
    }
   },
   "outputs": [],
   "source": [
    "from sklearn.model_selection import KFold"
   ]
  },
  {
   "cell_type": "code",
   "execution_count": 164,
   "metadata": {
    "execution": {
     "iopub.execute_input": "2023-11-22T16:12:49.966272Z",
     "iopub.status.busy": "2023-11-22T16:12:49.965734Z",
     "iopub.status.idle": "2023-11-22T16:12:49.972149Z",
     "shell.execute_reply": "2023-11-22T16:12:49.970878Z",
     "shell.execute_reply.started": "2023-11-22T16:12:49.966228Z"
    }
   },
   "outputs": [],
   "source": [
    "kf = KFold(n_splits=3)\n"
   ]
  },
  {
   "cell_type": "code",
   "execution_count": 165,
   "metadata": {
    "execution": {
     "iopub.execute_input": "2023-11-22T16:12:50.476677Z",
     "iopub.status.busy": "2023-11-22T16:12:50.476258Z",
     "iopub.status.idle": "2023-11-22T16:12:50.552077Z",
     "shell.execute_reply": "2023-11-22T16:12:50.550793Z",
     "shell.execute_reply.started": "2023-11-22T16:12:50.476646Z"
    }
   },
   "outputs": [],
   "source": [
    "model = tf.keras.Sequential([\n",
    "tf.keras.layers.Dense(100, activation=\"sigmoid\", input_dim=X.shape[1]),\n",
    "tf.keras.layers.Dense(50, activation=\"sigmoid\"),\n",
    "tf.keras.layers.Dense(25, activation=\"sigmoid\"),\n",
    "tf.keras.layers.Dense(1, activation=\"sigmoid\")\n",
    "])"
   ]
  },
  {
   "cell_type": "code",
   "execution_count": 166,
   "metadata": {
    "execution": {
     "iopub.execute_input": "2023-11-22T16:12:51.135668Z",
     "iopub.status.busy": "2023-11-22T16:12:51.135230Z",
     "iopub.status.idle": "2023-11-22T16:12:51.275186Z",
     "shell.execute_reply": "2023-11-22T16:12:51.273826Z",
     "shell.execute_reply.started": "2023-11-22T16:12:51.135631Z"
    }
   },
   "outputs": [],
   "source": [
    "model = tf.keras.Sequential([\n",
    "tf.keras.layers.InputLayer(input_shape=X.shape[1]),\n",
    "tf.keras.layers.Flatten(),\n",
    "tf.keras.layers.Dense(500, activation=\"relu\"),\n",
    "tf.keras.layers.Dropout(rate=0.1),\n",
    "tf.keras.layers.Dense(250, activation=\"relu\"),\n",
    "tf.keras.layers.Dropout(rate=0.1),\n",
    "tf.keras.layers.Dense(100, activation=\"relu\"),\n",
    "tf.keras.layers.Dropout(rate=0.1),\n",
    "tf.keras.layers.Dense(50, activation=\"relu\"),\n",
    "tf.keras.layers.Dropout(rate=0.1),\n",
    "tf.keras.layers.Dense(25, activation=\"relu\"),\n",
    "tf.keras.layers.Dropout(rate=0.1),\n",
    "tf.keras.layers.Dense(10, activation=\"relu\"),\n",
    "tf.keras.layers.Dropout(rate=0.1),\n",
    "tf.keras.layers.Dense(1, activation=\"sigmoid\")\n",
    "])"
   ]
  },
  {
   "cell_type": "code",
   "execution_count": 167,
   "metadata": {
    "execution": {
     "iopub.execute_input": "2023-11-22T16:12:53.149187Z",
     "iopub.status.busy": "2023-11-22T16:12:53.148146Z",
     "iopub.status.idle": "2023-11-22T16:12:53.163164Z",
     "shell.execute_reply": "2023-11-22T16:12:53.162064Z",
     "shell.execute_reply.started": "2023-11-22T16:12:53.149146Z"
    }
   },
   "outputs": [],
   "source": [
    "model.compile(loss=\"binary_crossentropy\",\n",
    "              optimizer=\"adam\",\n",
    "              metrics=[\"accuracy\"])"
   ]
  },
  {
   "cell_type": "markdown",
   "metadata": {},
   "source": [
    "#### Train - validation"
   ]
  },
  {
   "cell_type": "code",
   "execution_count": 168,
   "metadata": {
    "execution": {
     "iopub.execute_input": "2023-11-22T16:12:55.542173Z",
     "iopub.status.busy": "2023-11-22T16:12:55.541785Z",
     "iopub.status.idle": "2023-11-22T16:13:21.954110Z",
     "shell.execute_reply": "2023-11-22T16:13:21.953102Z",
     "shell.execute_reply.started": "2023-11-22T16:12:55.542142Z"
    }
   },
   "outputs": [
    {
     "name": "stdout",
     "output_type": "stream",
     "text": [
      "Epoch 1/20\n",
      "284/284 [==============================] - 3s 5ms/step - loss: 0.5372 - accuracy: 0.7606 - val_loss: 0.6148 - val_accuracy: 0.7552\n",
      "Epoch 2/20\n",
      "284/284 [==============================] - 1s 4ms/step - loss: 0.4709 - accuracy: 0.8028 - val_loss: 0.5025 - val_accuracy: 0.7762\n",
      "Epoch 3/20\n",
      "284/284 [==============================] - 1s 4ms/step - loss: 0.4525 - accuracy: 0.8257 - val_loss: 0.5065 - val_accuracy: 0.7762\n",
      "Epoch 4/20\n",
      "284/284 [==============================] - 1s 4ms/step - loss: 0.4231 - accuracy: 0.8380 - val_loss: 0.6460 - val_accuracy: 0.7552\n",
      "Epoch 5/20\n",
      "284/284 [==============================] - 1s 4ms/step - loss: 0.4242 - accuracy: 0.8292 - val_loss: 0.4996 - val_accuracy: 0.7552\n",
      "Epoch 6/20\n",
      "284/284 [==============================] - 1s 4ms/step - loss: 0.3969 - accuracy: 0.8468 - val_loss: 0.5063 - val_accuracy: 0.7622\n",
      "Epoch 7/20\n",
      "284/284 [==============================] - 1s 4ms/step - loss: 0.4227 - accuracy: 0.8327 - val_loss: 0.4919 - val_accuracy: 0.7902\n",
      "Epoch 8/20\n",
      "284/284 [==============================] - 1s 4ms/step - loss: 0.3989 - accuracy: 0.8345 - val_loss: 0.4816 - val_accuracy: 0.7832\n",
      "Epoch 9/20\n",
      "284/284 [==============================] - 1s 4ms/step - loss: 0.3936 - accuracy: 0.8345 - val_loss: 0.6337 - val_accuracy: 0.7692\n",
      "Epoch 10/20\n",
      "284/284 [==============================] - 1s 4ms/step - loss: 0.4093 - accuracy: 0.8415 - val_loss: 0.4733 - val_accuracy: 0.8112\n",
      "Epoch 11/20\n",
      "284/284 [==============================] - 1s 4ms/step - loss: 0.3889 - accuracy: 0.8451 - val_loss: 0.5603 - val_accuracy: 0.7692\n",
      "Epoch 12/20\n",
      "284/284 [==============================] - 1s 4ms/step - loss: 0.3761 - accuracy: 0.8345 - val_loss: 0.5163 - val_accuracy: 0.7972\n",
      "Epoch 13/20\n",
      "284/284 [==============================] - 1s 4ms/step - loss: 0.3868 - accuracy: 0.8363 - val_loss: 0.6336 - val_accuracy: 0.8042\n",
      "Epoch 14/20\n",
      "284/284 [==============================] - 1s 4ms/step - loss: 0.3492 - accuracy: 0.8398 - val_loss: 0.5152 - val_accuracy: 0.8042\n",
      "Epoch 15/20\n",
      "284/284 [==============================] - 1s 5ms/step - loss: 0.3560 - accuracy: 0.8556 - val_loss: 0.5505 - val_accuracy: 0.7762\n",
      "Epoch 16/20\n",
      "284/284 [==============================] - 1s 4ms/step - loss: 0.3454 - accuracy: 0.8433 - val_loss: 0.5557 - val_accuracy: 0.7902\n",
      "Epoch 17/20\n",
      "284/284 [==============================] - 1s 4ms/step - loss: 0.3501 - accuracy: 0.8451 - val_loss: 0.5051 - val_accuracy: 0.7972\n",
      "Epoch 18/20\n",
      "284/284 [==============================] - 1s 5ms/step - loss: 0.3369 - accuracy: 0.8433 - val_loss: 0.5835 - val_accuracy: 0.7972\n",
      "Epoch 19/20\n",
      "284/284 [==============================] - 1s 5ms/step - loss: 0.3318 - accuracy: 0.8521 - val_loss: 0.7261 - val_accuracy: 0.7902\n",
      "Epoch 20/20\n",
      "284/284 [==============================] - 1s 4ms/step - loss: 0.3391 - accuracy: 0.8574 - val_loss: 0.5801 - val_accuracy: 0.7762\n"
     ]
    }
   ],
   "source": [
    "# Split the data into training and combined validation-test sets\n",
    "X_trainval, X_test, y_trainval, y_test = train_test_split(X, y, test_size=0.2, random_state=42)\n",
    "\n",
    "# Split the combined validation-test set into validation and test sets\n",
    "X_train, X_val, y_train, y_val = train_test_split(X_trainval, y_trainval, test_size=0.2, random_state=42)\n",
    "history = model.fit(X_train, y_train.reshape((-1,1)), epochs=20, validation_data=( X_val, y_val.reshape((-1,1))),batch_size=2)"
   ]
  },
  {
   "cell_type": "code",
   "execution_count": 169,
   "metadata": {
    "execution": {
     "iopub.execute_input": "2023-11-22T16:13:21.956593Z",
     "iopub.status.busy": "2023-11-22T16:13:21.956236Z",
     "iopub.status.idle": "2023-11-22T16:13:22.133436Z",
     "shell.execute_reply": "2023-11-22T16:13:22.132236Z",
     "shell.execute_reply.started": "2023-11-22T16:13:21.956562Z"
    }
   },
   "outputs": [
    {
     "name": "stdout",
     "output_type": "stream",
     "text": [
      "6/6 [==============================] - 0s 3ms/step\n"
     ]
    }
   ],
   "source": [
    "y_pred = history.model.predict(X_test).round()"
   ]
  },
  {
   "cell_type": "code",
   "execution_count": 170,
   "metadata": {
    "execution": {
     "iopub.execute_input": "2023-11-22T16:13:22.135327Z",
     "iopub.status.busy": "2023-11-22T16:13:22.134951Z",
     "iopub.status.idle": "2023-11-22T16:13:22.140241Z",
     "shell.execute_reply": "2023-11-22T16:13:22.139044Z",
     "shell.execute_reply.started": "2023-11-22T16:13:22.135279Z"
    }
   },
   "outputs": [],
   "source": [
    "from sklearn.metrics import accuracy_score,r2_score"
   ]
  },
  {
   "cell_type": "code",
   "execution_count": 171,
   "metadata": {
    "execution": {
     "iopub.execute_input": "2023-11-22T16:13:22.143257Z",
     "iopub.status.busy": "2023-11-22T16:13:22.142891Z",
     "iopub.status.idle": "2023-11-22T16:13:22.158085Z",
     "shell.execute_reply": "2023-11-22T16:13:22.156736Z",
     "shell.execute_reply.started": "2023-11-22T16:13:22.143228Z"
    }
   },
   "outputs": [
    {
     "data": {
      "text/plain": [
       "0.8089887640449438"
      ]
     },
     "execution_count": 171,
     "metadata": {},
     "output_type": "execute_result"
    }
   ],
   "source": [
    "accuracy_score(y_test,y_pred)"
   ]
  },
  {
   "cell_type": "markdown",
   "metadata": {},
   "source": [
    "#### K-fold Cross Validation"
   ]
  },
  {
   "cell_type": "code",
   "execution_count": 172,
   "metadata": {
    "execution": {
     "iopub.execute_input": "2023-11-22T16:13:22.161071Z",
     "iopub.status.busy": "2023-11-22T16:13:22.160695Z",
     "iopub.status.idle": "2023-11-22T16:13:22.168104Z",
     "shell.execute_reply": "2023-11-22T16:13:22.166855Z",
     "shell.execute_reply.started": "2023-11-22T16:13:22.161039Z"
    }
   },
   "outputs": [],
   "source": [
    "kf = KFold(n_splits=5,shuffle= True)\n"
   ]
  },
  {
   "cell_type": "code",
   "execution_count": 173,
   "metadata": {
    "execution": {
     "iopub.execute_input": "2023-11-22T16:13:22.169839Z",
     "iopub.status.busy": "2023-11-22T16:13:22.169517Z",
     "iopub.status.idle": "2023-11-22T16:15:28.176807Z",
     "shell.execute_reply": "2023-11-22T16:15:28.175631Z",
     "shell.execute_reply.started": "2023-11-22T16:13:22.169811Z"
    }
   },
   "outputs": [
    {
     "name": "stdout",
     "output_type": "stream",
     "text": [
      "Fold 0:\n",
      "Epoch 1/20\n",
      "284/284 [==============================] - 1s 5ms/step - loss: 0.4284 - accuracy: 0.8345 - val_loss: 0.4301 - val_accuracy: 0.8252\n",
      "Epoch 2/20\n",
      "284/284 [==============================] - 1s 4ms/step - loss: 0.3769 - accuracy: 0.8380 - val_loss: 0.4032 - val_accuracy: 0.8112\n",
      "Epoch 3/20\n",
      "284/284 [==============================] - 1s 4ms/step - loss: 0.3776 - accuracy: 0.8521 - val_loss: 0.4197 - val_accuracy: 0.8112\n",
      "Epoch 4/20\n",
      "284/284 [==============================] - 1s 4ms/step - loss: 0.3685 - accuracy: 0.8433 - val_loss: 0.4287 - val_accuracy: 0.8392\n",
      "Epoch 5/20\n",
      "284/284 [==============================] - 1s 4ms/step - loss: 0.3466 - accuracy: 0.8415 - val_loss: 0.5324 - val_accuracy: 0.8322\n",
      "Epoch 6/20\n",
      "284/284 [==============================] - 1s 4ms/step - loss: 0.3548 - accuracy: 0.8415 - val_loss: 0.4542 - val_accuracy: 0.8322\n",
      "Epoch 7/20\n",
      "284/284 [==============================] - 1s 4ms/step - loss: 0.3512 - accuracy: 0.8468 - val_loss: 0.4409 - val_accuracy: 0.8322\n",
      "Epoch 8/20\n",
      "284/284 [==============================] - 1s 4ms/step - loss: 0.3386 - accuracy: 0.8556 - val_loss: 0.4805 - val_accuracy: 0.8322\n",
      "Epoch 9/20\n",
      "284/284 [==============================] - 1s 4ms/step - loss: 0.3671 - accuracy: 0.8539 - val_loss: 0.4845 - val_accuracy: 0.8182\n",
      "Epoch 10/20\n",
      "284/284 [==============================] - 1s 4ms/step - loss: 0.3661 - accuracy: 0.8433 - val_loss: 0.4656 - val_accuracy: 0.8112\n",
      "Epoch 11/20\n",
      "284/284 [==============================] - 1s 4ms/step - loss: 0.3411 - accuracy: 0.8521 - val_loss: 0.4794 - val_accuracy: 0.8182\n",
      "Epoch 12/20\n",
      "284/284 [==============================] - 1s 4ms/step - loss: 0.3412 - accuracy: 0.8504 - val_loss: 0.4946 - val_accuracy: 0.8182\n",
      "Epoch 13/20\n",
      "284/284 [==============================] - 1s 4ms/step - loss: 0.3395 - accuracy: 0.8574 - val_loss: 0.4636 - val_accuracy: 0.8252\n",
      "Epoch 14/20\n",
      "284/284 [==============================] - 1s 4ms/step - loss: 0.3388 - accuracy: 0.8627 - val_loss: 0.4893 - val_accuracy: 0.8252\n",
      "Epoch 15/20\n",
      "284/284 [==============================] - 1s 4ms/step - loss: 0.3316 - accuracy: 0.8680 - val_loss: 0.4784 - val_accuracy: 0.8182\n",
      "Epoch 16/20\n",
      "284/284 [==============================] - 1s 4ms/step - loss: 0.3419 - accuracy: 0.8556 - val_loss: 0.4602 - val_accuracy: 0.8182\n",
      "Epoch 17/20\n",
      "284/284 [==============================] - 1s 4ms/step - loss: 0.3362 - accuracy: 0.8592 - val_loss: 0.5224 - val_accuracy: 0.8322\n",
      "Epoch 18/20\n",
      "284/284 [==============================] - 1s 4ms/step - loss: 0.3301 - accuracy: 0.8556 - val_loss: 0.5445 - val_accuracy: 0.8182\n",
      "Epoch 19/20\n",
      "284/284 [==============================] - 1s 4ms/step - loss: 0.3176 - accuracy: 0.8662 - val_loss: 0.5041 - val_accuracy: 0.8182\n",
      "Epoch 20/20\n",
      "284/284 [==============================] - 1s 5ms/step - loss: 0.3132 - accuracy: 0.8609 - val_loss: 0.6168 - val_accuracy: 0.7972\n",
      "6/6 [==============================] - 0s 2ms/step\n",
      "Accuracy Fold 0:  0.8146067415730337\n",
      "Fold 1:\n",
      "Epoch 1/20\n",
      "284/284 [==============================] - 1s 4ms/step - loss: 0.4216 - accuracy: 0.8380 - val_loss: 0.3515 - val_accuracy: 0.8531\n",
      "Epoch 2/20\n",
      "284/284 [==============================] - 1s 4ms/step - loss: 0.3619 - accuracy: 0.8504 - val_loss: 0.3894 - val_accuracy: 0.8671\n",
      "Epoch 3/20\n",
      "284/284 [==============================] - 1s 4ms/step - loss: 0.3567 - accuracy: 0.8451 - val_loss: 0.4238 - val_accuracy: 0.8182\n",
      "Epoch 4/20\n",
      "284/284 [==============================] - 1s 5ms/step - loss: 0.3653 - accuracy: 0.8451 - val_loss: 0.4301 - val_accuracy: 0.8601\n",
      "Epoch 5/20\n",
      "284/284 [==============================] - 1s 4ms/step - loss: 0.3460 - accuracy: 0.8574 - val_loss: 0.4026 - val_accuracy: 0.8392\n",
      "Epoch 6/20\n",
      "284/284 [==============================] - 1s 4ms/step - loss: 0.3542 - accuracy: 0.8451 - val_loss: 0.3993 - val_accuracy: 0.8601\n",
      "Epoch 7/20\n",
      "284/284 [==============================] - 1s 4ms/step - loss: 0.3374 - accuracy: 0.8539 - val_loss: 0.4191 - val_accuracy: 0.8671\n",
      "Epoch 8/20\n",
      "284/284 [==============================] - 1s 4ms/step - loss: 0.3298 - accuracy: 0.8521 - val_loss: 0.5087 - val_accuracy: 0.8671\n",
      "Epoch 9/20\n",
      "284/284 [==============================] - 1s 4ms/step - loss: 0.3249 - accuracy: 0.8539 - val_loss: 0.5436 - val_accuracy: 0.8671\n",
      "Epoch 10/20\n",
      "284/284 [==============================] - 1s 4ms/step - loss: 0.3207 - accuracy: 0.8592 - val_loss: 0.5344 - val_accuracy: 0.8671\n",
      "Epoch 11/20\n",
      "284/284 [==============================] - 1s 4ms/step - loss: 0.3156 - accuracy: 0.8468 - val_loss: 0.6169 - val_accuracy: 0.8601\n",
      "Epoch 12/20\n",
      "284/284 [==============================] - 1s 4ms/step - loss: 0.3178 - accuracy: 0.8486 - val_loss: 0.6734 - val_accuracy: 0.8601\n",
      "Epoch 13/20\n",
      "284/284 [==============================] - 1s 4ms/step - loss: 0.3461 - accuracy: 0.8486 - val_loss: 0.5468 - val_accuracy: 0.8462\n",
      "Epoch 14/20\n",
      "284/284 [==============================] - 1s 4ms/step - loss: 0.3243 - accuracy: 0.8468 - val_loss: 0.6159 - val_accuracy: 0.8601\n",
      "Epoch 15/20\n",
      "284/284 [==============================] - 1s 4ms/step - loss: 0.3315 - accuracy: 0.8556 - val_loss: 0.5987 - val_accuracy: 0.8601\n",
      "Epoch 16/20\n",
      "284/284 [==============================] - 1s 4ms/step - loss: 0.3189 - accuracy: 0.8627 - val_loss: 0.6574 - val_accuracy: 0.8392\n",
      "Epoch 17/20\n",
      "284/284 [==============================] - 1s 4ms/step - loss: 0.3244 - accuracy: 0.8521 - val_loss: 0.5755 - val_accuracy: 0.8601\n",
      "Epoch 18/20\n",
      "284/284 [==============================] - 1s 4ms/step - loss: 0.3188 - accuracy: 0.8415 - val_loss: 0.7957 - val_accuracy: 0.8601\n",
      "Epoch 19/20\n",
      "284/284 [==============================] - 1s 4ms/step - loss: 0.3029 - accuracy: 0.8662 - val_loss: 0.8571 - val_accuracy: 0.8531\n",
      "Epoch 20/20\n",
      "284/284 [==============================] - 1s 4ms/step - loss: 0.3124 - accuracy: 0.8592 - val_loss: 0.6773 - val_accuracy: 0.8601\n",
      "6/6 [==============================] - 0s 3ms/step\n",
      "Accuracy Fold 1:  0.8089887640449438\n",
      "Fold 2:\n",
      "Epoch 1/20\n",
      "284/284 [==============================] - 1s 5ms/step - loss: 0.4241 - accuracy: 0.8169 - val_loss: 0.3780 - val_accuracy: 0.8881\n",
      "Epoch 2/20\n",
      "284/284 [==============================] - 1s 4ms/step - loss: 0.3853 - accuracy: 0.8292 - val_loss: 0.3698 - val_accuracy: 0.8951\n",
      "Epoch 3/20\n",
      "284/284 [==============================] - 1s 4ms/step - loss: 0.3591 - accuracy: 0.8310 - val_loss: 0.4365 - val_accuracy: 0.8951\n",
      "Epoch 4/20\n",
      "284/284 [==============================] - 1s 4ms/step - loss: 0.3880 - accuracy: 0.8275 - val_loss: 0.3869 - val_accuracy: 0.9021\n",
      "Epoch 5/20\n",
      "284/284 [==============================] - 1s 4ms/step - loss: 0.3489 - accuracy: 0.8398 - val_loss: 0.4020 - val_accuracy: 0.8881\n",
      "Epoch 6/20\n",
      "284/284 [==============================] - 1s 4ms/step - loss: 0.3520 - accuracy: 0.8398 - val_loss: 0.4513 - val_accuracy: 0.8881\n",
      "Epoch 7/20\n",
      "284/284 [==============================] - 1s 4ms/step - loss: 0.3388 - accuracy: 0.8521 - val_loss: 0.4919 - val_accuracy: 0.8951\n",
      "Epoch 8/20\n",
      "284/284 [==============================] - 1s 4ms/step - loss: 0.3499 - accuracy: 0.8521 - val_loss: 0.4928 - val_accuracy: 0.8741\n",
      "Epoch 9/20\n",
      "284/284 [==============================] - 1s 4ms/step - loss: 0.3480 - accuracy: 0.8433 - val_loss: 0.4547 - val_accuracy: 0.8881\n",
      "Epoch 10/20\n",
      "284/284 [==============================] - 1s 5ms/step - loss: 0.3364 - accuracy: 0.8433 - val_loss: 0.5237 - val_accuracy: 0.8671\n",
      "Epoch 11/20\n",
      "284/284 [==============================] - 1s 4ms/step - loss: 0.3375 - accuracy: 0.8504 - val_loss: 0.4392 - val_accuracy: 0.8671\n",
      "Epoch 12/20\n",
      "284/284 [==============================] - 1s 4ms/step - loss: 0.3370 - accuracy: 0.8451 - val_loss: 0.5057 - val_accuracy: 0.8811\n",
      "Epoch 13/20\n",
      "284/284 [==============================] - 1s 4ms/step - loss: 0.3295 - accuracy: 0.8539 - val_loss: 0.6130 - val_accuracy: 0.8811\n",
      "Epoch 14/20\n",
      "284/284 [==============================] - 1s 4ms/step - loss: 0.3425 - accuracy: 0.8468 - val_loss: 0.6090 - val_accuracy: 0.8811\n",
      "Epoch 15/20\n",
      "284/284 [==============================] - 1s 4ms/step - loss: 0.3432 - accuracy: 0.8468 - val_loss: 0.6031 - val_accuracy: 0.8811\n",
      "Epoch 16/20\n",
      "284/284 [==============================] - 1s 4ms/step - loss: 0.3250 - accuracy: 0.8398 - val_loss: 0.6541 - val_accuracy: 0.8811\n",
      "Epoch 17/20\n",
      "284/284 [==============================] - 1s 4ms/step - loss: 0.3512 - accuracy: 0.8504 - val_loss: 0.6356 - val_accuracy: 0.8741\n",
      "Epoch 18/20\n",
      "284/284 [==============================] - 1s 4ms/step - loss: 0.3434 - accuracy: 0.8521 - val_loss: 0.4855 - val_accuracy: 0.8881\n",
      "Epoch 19/20\n",
      "284/284 [==============================] - 1s 4ms/step - loss: 0.3230 - accuracy: 0.8521 - val_loss: 0.6306 - val_accuracy: 0.8881\n",
      "Epoch 20/20\n",
      "284/284 [==============================] - 1s 4ms/step - loss: 0.3342 - accuracy: 0.8504 - val_loss: 0.6547 - val_accuracy: 0.8811\n",
      "6/6 [==============================] - 0s 2ms/step\n",
      "Accuracy Fold 2:  0.8426966292134831\n",
      "Fold 3:\n",
      "Epoch 1/20\n",
      "284/284 [==============================] - 1s 4ms/step - loss: 0.4405 - accuracy: 0.8451 - val_loss: 0.3748 - val_accuracy: 0.8601\n",
      "Epoch 2/20\n",
      "284/284 [==============================] - 1s 4ms/step - loss: 0.3599 - accuracy: 0.8363 - val_loss: 0.3943 - val_accuracy: 0.8322\n",
      "Epoch 3/20\n",
      "284/284 [==============================] - 1s 4ms/step - loss: 0.3346 - accuracy: 0.8521 - val_loss: 0.4130 - val_accuracy: 0.8392\n",
      "Epoch 4/20\n",
      "284/284 [==============================] - 1s 4ms/step - loss: 0.3159 - accuracy: 0.8644 - val_loss: 0.5787 - val_accuracy: 0.8182\n",
      "Epoch 5/20\n",
      "284/284 [==============================] - 1s 4ms/step - loss: 0.2949 - accuracy: 0.8609 - val_loss: 0.6593 - val_accuracy: 0.8182\n",
      "Epoch 6/20\n",
      "284/284 [==============================] - 1s 4ms/step - loss: 0.2995 - accuracy: 0.8574 - val_loss: 0.5650 - val_accuracy: 0.8252\n",
      "Epoch 7/20\n",
      "284/284 [==============================] - 1s 4ms/step - loss: 0.3129 - accuracy: 0.8556 - val_loss: 0.5384 - val_accuracy: 0.8392\n",
      "Epoch 8/20\n",
      "284/284 [==============================] - 1s 4ms/step - loss: 0.3029 - accuracy: 0.8556 - val_loss: 0.7467 - val_accuracy: 0.8252\n",
      "Epoch 9/20\n",
      "284/284 [==============================] - 1s 4ms/step - loss: 0.3070 - accuracy: 0.8556 - val_loss: 0.7401 - val_accuracy: 0.8112\n",
      "Epoch 10/20\n",
      "284/284 [==============================] - 1s 4ms/step - loss: 0.3103 - accuracy: 0.8521 - val_loss: 0.7477 - val_accuracy: 0.8112\n",
      "Epoch 11/20\n",
      "284/284 [==============================] - 1s 4ms/step - loss: 0.3105 - accuracy: 0.8662 - val_loss: 0.6721 - val_accuracy: 0.8112\n",
      "Epoch 12/20\n",
      "284/284 [==============================] - 1s 4ms/step - loss: 0.2951 - accuracy: 0.8609 - val_loss: 0.8199 - val_accuracy: 0.8252\n",
      "Epoch 13/20\n",
      "284/284 [==============================] - 1s 4ms/step - loss: 0.2966 - accuracy: 0.8697 - val_loss: 0.8860 - val_accuracy: 0.8252\n",
      "Epoch 14/20\n",
      "284/284 [==============================] - 1s 4ms/step - loss: 0.2878 - accuracy: 0.8662 - val_loss: 1.0941 - val_accuracy: 0.8112\n",
      "Epoch 15/20\n",
      "284/284 [==============================] - 1s 4ms/step - loss: 0.2925 - accuracy: 0.8644 - val_loss: 1.1617 - val_accuracy: 0.8042\n",
      "Epoch 16/20\n",
      "284/284 [==============================] - 1s 5ms/step - loss: 0.3005 - accuracy: 0.8627 - val_loss: 0.7718 - val_accuracy: 0.8252\n",
      "Epoch 17/20\n",
      "284/284 [==============================] - 1s 4ms/step - loss: 0.2842 - accuracy: 0.8644 - val_loss: 1.3421 - val_accuracy: 0.7622\n",
      "Epoch 18/20\n",
      "284/284 [==============================] - 1s 4ms/step - loss: 0.3211 - accuracy: 0.8574 - val_loss: 0.8577 - val_accuracy: 0.8112\n",
      "Epoch 19/20\n",
      "284/284 [==============================] - 1s 4ms/step - loss: 0.3076 - accuracy: 0.8521 - val_loss: 1.2176 - val_accuracy: 0.8252\n",
      "Epoch 20/20\n",
      "284/284 [==============================] - 1s 4ms/step - loss: 0.2853 - accuracy: 0.8644 - val_loss: 1.0114 - val_accuracy: 0.8252\n",
      "6/6 [==============================] - 0s 2ms/step\n",
      "Accuracy Fold 3:  0.8651685393258427\n",
      "Fold 4:\n",
      "Epoch 1/20\n",
      "285/285 [==============================] - 2s 5ms/step - loss: 0.3873 - accuracy: 0.8541 - val_loss: 0.3268 - val_accuracy: 0.8462\n",
      "Epoch 2/20\n",
      "285/285 [==============================] - 1s 5ms/step - loss: 0.3382 - accuracy: 0.8506 - val_loss: 0.3763 - val_accuracy: 0.8462\n",
      "Epoch 3/20\n",
      "285/285 [==============================] - 1s 4ms/step - loss: 0.3198 - accuracy: 0.8682 - val_loss: 0.4493 - val_accuracy: 0.8392\n",
      "Epoch 4/20\n",
      "285/285 [==============================] - 1s 4ms/step - loss: 0.3222 - accuracy: 0.8699 - val_loss: 0.3918 - val_accuracy: 0.8531\n",
      "Epoch 5/20\n",
      "285/285 [==============================] - 1s 4ms/step - loss: 0.3131 - accuracy: 0.8735 - val_loss: 0.3990 - val_accuracy: 0.8531\n",
      "Epoch 6/20\n",
      "285/285 [==============================] - 1s 5ms/step - loss: 0.3371 - accuracy: 0.8664 - val_loss: 0.5208 - val_accuracy: 0.8252\n",
      "Epoch 7/20\n",
      "285/285 [==============================] - 1s 5ms/step - loss: 0.3070 - accuracy: 0.8752 - val_loss: 0.5450 - val_accuracy: 0.8322\n",
      "Epoch 8/20\n",
      "285/285 [==============================] - 1s 5ms/step - loss: 0.3016 - accuracy: 0.8699 - val_loss: 0.6896 - val_accuracy: 0.8392\n",
      "Epoch 9/20\n",
      "285/285 [==============================] - 1s 5ms/step - loss: 0.3182 - accuracy: 0.8576 - val_loss: 0.5955 - val_accuracy: 0.8322\n",
      "Epoch 10/20\n",
      "285/285 [==============================] - 1s 5ms/step - loss: 0.2982 - accuracy: 0.8629 - val_loss: 0.8974 - val_accuracy: 0.8322\n",
      "Epoch 11/20\n",
      "285/285 [==============================] - 1s 5ms/step - loss: 0.3293 - accuracy: 0.8647 - val_loss: 0.5820 - val_accuracy: 0.8322\n",
      "Epoch 12/20\n",
      "285/285 [==============================] - 1s 5ms/step - loss: 0.2981 - accuracy: 0.8576 - val_loss: 0.6775 - val_accuracy: 0.8462\n",
      "Epoch 13/20\n",
      "285/285 [==============================] - 1s 5ms/step - loss: 0.2981 - accuracy: 0.8699 - val_loss: 0.6555 - val_accuracy: 0.8531\n",
      "Epoch 14/20\n",
      "285/285 [==============================] - 1s 5ms/step - loss: 0.2993 - accuracy: 0.8682 - val_loss: 0.6869 - val_accuracy: 0.8322\n",
      "Epoch 15/20\n",
      "285/285 [==============================] - 1s 5ms/step - loss: 0.2991 - accuracy: 0.8717 - val_loss: 0.8097 - val_accuracy: 0.8531\n",
      "Epoch 16/20\n",
      "285/285 [==============================] - 1s 5ms/step - loss: 0.2908 - accuracy: 0.8699 - val_loss: 0.9422 - val_accuracy: 0.8392\n",
      "Epoch 17/20\n",
      "285/285 [==============================] - 1s 5ms/step - loss: 0.2978 - accuracy: 0.8664 - val_loss: 0.7738 - val_accuracy: 0.8392\n",
      "Epoch 18/20\n",
      "285/285 [==============================] - 1s 5ms/step - loss: 0.2942 - accuracy: 0.8682 - val_loss: 1.0524 - val_accuracy: 0.8392\n",
      "Epoch 19/20\n",
      "285/285 [==============================] - 1s 5ms/step - loss: 0.2890 - accuracy: 0.8682 - val_loss: 0.8737 - val_accuracy: 0.8322\n",
      "Epoch 20/20\n",
      "285/285 [==============================] - 1s 5ms/step - loss: 0.2927 - accuracy: 0.8594 - val_loss: 1.0525 - val_accuracy: 0.8252\n",
      "6/6 [==============================] - 0s 2ms/step\n",
      "Accuracy Fold 4:  0.847457627118644\n"
     ]
    }
   ],
   "source": [
    "acc = []\n",
    "for i, (train_index, test_index) in enumerate(kf.split(X)):\n",
    "    X_train, X_val, y_train, y_val = train_test_split(X[train_index], y[train_index], test_size=0.2, random_state=42)\n",
    "    print(f\"Fold {i}:\")\n",
    "    history = model.fit( X_train, y_train.reshape((-1,1)), epochs=20, batch_size = 2,validation_data=(X_val, y_val.reshape((-1,1))))\n",
    "    y_pred = history.model.predict(X[test_index]).round()\n",
    "    print(f'Accuracy Fold {i}: ',accuracy_score(y[test_index],y_pred))\n",
    "    acc.append(accuracy_score(y[test_index],y_pred))"
   ]
  },
  {
   "cell_type": "code",
   "execution_count": 174,
   "metadata": {
    "execution": {
     "iopub.execute_input": "2023-11-22T16:15:28.178823Z",
     "iopub.status.busy": "2023-11-22T16:15:28.178224Z",
     "iopub.status.idle": "2023-11-22T16:15:28.186827Z",
     "shell.execute_reply": "2023-11-22T16:15:28.185790Z",
     "shell.execute_reply.started": "2023-11-22T16:15:28.178791Z"
    }
   },
   "outputs": [
    {
     "data": {
      "text/plain": [
       "[0.8146067415730337,\n",
       " 0.8089887640449438,\n",
       " 0.8426966292134831,\n",
       " 0.8651685393258427,\n",
       " 0.847457627118644]"
      ]
     },
     "execution_count": 174,
     "metadata": {},
     "output_type": "execute_result"
    }
   ],
   "source": [
    "acc"
   ]
  },
  {
   "cell_type": "code",
   "execution_count": 175,
   "metadata": {
    "execution": {
     "iopub.execute_input": "2023-11-22T16:15:28.188509Z",
     "iopub.status.busy": "2023-11-22T16:15:28.188146Z",
     "iopub.status.idle": "2023-11-22T16:15:28.201881Z",
     "shell.execute_reply": "2023-11-22T16:15:28.200853Z",
     "shell.execute_reply.started": "2023-11-22T16:15:28.188478Z"
    }
   },
   "outputs": [
    {
     "data": {
      "text/plain": [
       "0.8357836602551896"
      ]
     },
     "execution_count": 175,
     "metadata": {},
     "output_type": "execute_result"
    }
   ],
   "source": [
    "np.array(acc).mean()"
   ]
  },
  {
   "cell_type": "markdown",
   "metadata": {},
   "source": [
    "We can see that the neural network is the model has better accuracy, so it will be the chosen for the delivery."
   ]
  },
  {
   "cell_type": "markdown",
   "metadata": {},
   "source": [
    "# Predicting the test dataset"
   ]
  },
  {
   "cell_type": "code",
   "execution_count": 176,
   "metadata": {
    "execution": {
     "iopub.execute_input": "2023-11-22T16:15:28.203796Z",
     "iopub.status.busy": "2023-11-22T16:15:28.203454Z",
     "iopub.status.idle": "2023-11-22T16:15:28.262157Z",
     "shell.execute_reply": "2023-11-22T16:15:28.260888Z",
     "shell.execute_reply.started": "2023-11-22T16:15:28.203767Z"
    }
   },
   "outputs": [
    {
     "data": {
      "text/html": [
       "<div>\n",
       "<style scoped>\n",
       "    .dataframe tbody tr th:only-of-type {\n",
       "        vertical-align: middle;\n",
       "    }\n",
       "\n",
       "    .dataframe tbody tr th {\n",
       "        vertical-align: top;\n",
       "    }\n",
       "\n",
       "    .dataframe thead th {\n",
       "        text-align: right;\n",
       "    }\n",
       "</style>\n",
       "<table border=\"1\" class=\"dataframe\">\n",
       "  <thead>\n",
       "    <tr style=\"text-align: right;\">\n",
       "      <th></th>\n",
       "      <th>Pclass_1</th>\n",
       "      <th>Pclass_2</th>\n",
       "      <th>Pclass_3</th>\n",
       "      <th>Sex_0</th>\n",
       "      <th>Sex_1</th>\n",
       "      <th>SibSp_0</th>\n",
       "      <th>SibSp_1</th>\n",
       "      <th>SibSp_2</th>\n",
       "      <th>SibSp_3</th>\n",
       "      <th>SibSp_4</th>\n",
       "      <th>...</th>\n",
       "      <th>Parch_9</th>\n",
       "      <th>Embarked_0.0</th>\n",
       "      <th>Embarked_1.0</th>\n",
       "      <th>Embarked_2.0</th>\n",
       "      <th>Age_imputated_0.0</th>\n",
       "      <th>Age_imputated_1.0</th>\n",
       "      <th>Age_imputated_2.0</th>\n",
       "      <th>Age_imputated_3.0</th>\n",
       "      <th>Age_imputated_4.0</th>\n",
       "      <th>Survived</th>\n",
       "    </tr>\n",
       "  </thead>\n",
       "  <tbody>\n",
       "    <tr>\n",
       "      <th>889</th>\n",
       "      <td>1.0</td>\n",
       "      <td>0.0</td>\n",
       "      <td>0.0</td>\n",
       "      <td>1.0</td>\n",
       "      <td>0.0</td>\n",
       "      <td>1.0</td>\n",
       "      <td>0.0</td>\n",
       "      <td>0.0</td>\n",
       "      <td>0.0</td>\n",
       "      <td>0.0</td>\n",
       "      <td>...</td>\n",
       "      <td>0.0</td>\n",
       "      <td>0.0</td>\n",
       "      <td>0.0</td>\n",
       "      <td>1.0</td>\n",
       "      <td>0.0</td>\n",
       "      <td>1.0</td>\n",
       "      <td>0.0</td>\n",
       "      <td>0.0</td>\n",
       "      <td>0.0</td>\n",
       "      <td>1.0</td>\n",
       "    </tr>\n",
       "    <tr>\n",
       "      <th>890</th>\n",
       "      <td>0.0</td>\n",
       "      <td>0.0</td>\n",
       "      <td>1.0</td>\n",
       "      <td>1.0</td>\n",
       "      <td>0.0</td>\n",
       "      <td>1.0</td>\n",
       "      <td>0.0</td>\n",
       "      <td>0.0</td>\n",
       "      <td>0.0</td>\n",
       "      <td>0.0</td>\n",
       "      <td>...</td>\n",
       "      <td>0.0</td>\n",
       "      <td>0.0</td>\n",
       "      <td>1.0</td>\n",
       "      <td>0.0</td>\n",
       "      <td>0.0</td>\n",
       "      <td>1.0</td>\n",
       "      <td>0.0</td>\n",
       "      <td>0.0</td>\n",
       "      <td>0.0</td>\n",
       "      <td>0.0</td>\n",
       "    </tr>\n",
       "    <tr>\n",
       "      <th>891</th>\n",
       "      <td>0.0</td>\n",
       "      <td>0.0</td>\n",
       "      <td>1.0</td>\n",
       "      <td>1.0</td>\n",
       "      <td>0.0</td>\n",
       "      <td>1.0</td>\n",
       "      <td>0.0</td>\n",
       "      <td>0.0</td>\n",
       "      <td>0.0</td>\n",
       "      <td>0.0</td>\n",
       "      <td>...</td>\n",
       "      <td>0.0</td>\n",
       "      <td>0.0</td>\n",
       "      <td>1.0</td>\n",
       "      <td>0.0</td>\n",
       "      <td>0.0</td>\n",
       "      <td>0.0</td>\n",
       "      <td>1.0</td>\n",
       "      <td>0.0</td>\n",
       "      <td>0.0</td>\n",
       "      <td>NaN</td>\n",
       "    </tr>\n",
       "    <tr>\n",
       "      <th>892</th>\n",
       "      <td>0.0</td>\n",
       "      <td>0.0</td>\n",
       "      <td>1.0</td>\n",
       "      <td>0.0</td>\n",
       "      <td>1.0</td>\n",
       "      <td>0.0</td>\n",
       "      <td>1.0</td>\n",
       "      <td>0.0</td>\n",
       "      <td>0.0</td>\n",
       "      <td>0.0</td>\n",
       "      <td>...</td>\n",
       "      <td>0.0</td>\n",
       "      <td>1.0</td>\n",
       "      <td>0.0</td>\n",
       "      <td>0.0</td>\n",
       "      <td>0.0</td>\n",
       "      <td>0.0</td>\n",
       "      <td>1.0</td>\n",
       "      <td>0.0</td>\n",
       "      <td>0.0</td>\n",
       "      <td>NaN</td>\n",
       "    </tr>\n",
       "    <tr>\n",
       "      <th>893</th>\n",
       "      <td>0.0</td>\n",
       "      <td>1.0</td>\n",
       "      <td>0.0</td>\n",
       "      <td>1.0</td>\n",
       "      <td>0.0</td>\n",
       "      <td>1.0</td>\n",
       "      <td>0.0</td>\n",
       "      <td>0.0</td>\n",
       "      <td>0.0</td>\n",
       "      <td>0.0</td>\n",
       "      <td>...</td>\n",
       "      <td>0.0</td>\n",
       "      <td>0.0</td>\n",
       "      <td>1.0</td>\n",
       "      <td>0.0</td>\n",
       "      <td>0.0</td>\n",
       "      <td>0.0</td>\n",
       "      <td>0.0</td>\n",
       "      <td>1.0</td>\n",
       "      <td>0.0</td>\n",
       "      <td>NaN</td>\n",
       "    </tr>\n",
       "    <tr>\n",
       "      <th>...</th>\n",
       "      <td>...</td>\n",
       "      <td>...</td>\n",
       "      <td>...</td>\n",
       "      <td>...</td>\n",
       "      <td>...</td>\n",
       "      <td>...</td>\n",
       "      <td>...</td>\n",
       "      <td>...</td>\n",
       "      <td>...</td>\n",
       "      <td>...</td>\n",
       "      <td>...</td>\n",
       "      <td>...</td>\n",
       "      <td>...</td>\n",
       "      <td>...</td>\n",
       "      <td>...</td>\n",
       "      <td>...</td>\n",
       "      <td>...</td>\n",
       "      <td>...</td>\n",
       "      <td>...</td>\n",
       "      <td>...</td>\n",
       "      <td>...</td>\n",
       "    </tr>\n",
       "    <tr>\n",
       "      <th>1304</th>\n",
       "      <td>0.0</td>\n",
       "      <td>0.0</td>\n",
       "      <td>1.0</td>\n",
       "      <td>1.0</td>\n",
       "      <td>0.0</td>\n",
       "      <td>1.0</td>\n",
       "      <td>0.0</td>\n",
       "      <td>0.0</td>\n",
       "      <td>0.0</td>\n",
       "      <td>0.0</td>\n",
       "      <td>...</td>\n",
       "      <td>0.0</td>\n",
       "      <td>1.0</td>\n",
       "      <td>0.0</td>\n",
       "      <td>0.0</td>\n",
       "      <td>0.0</td>\n",
       "      <td>0.0</td>\n",
       "      <td>1.0</td>\n",
       "      <td>0.0</td>\n",
       "      <td>0.0</td>\n",
       "      <td>NaN</td>\n",
       "    </tr>\n",
       "    <tr>\n",
       "      <th>1305</th>\n",
       "      <td>1.0</td>\n",
       "      <td>0.0</td>\n",
       "      <td>0.0</td>\n",
       "      <td>0.0</td>\n",
       "      <td>1.0</td>\n",
       "      <td>1.0</td>\n",
       "      <td>0.0</td>\n",
       "      <td>0.0</td>\n",
       "      <td>0.0</td>\n",
       "      <td>0.0</td>\n",
       "      <td>...</td>\n",
       "      <td>0.0</td>\n",
       "      <td>0.0</td>\n",
       "      <td>0.0</td>\n",
       "      <td>1.0</td>\n",
       "      <td>0.0</td>\n",
       "      <td>0.0</td>\n",
       "      <td>1.0</td>\n",
       "      <td>0.0</td>\n",
       "      <td>0.0</td>\n",
       "      <td>NaN</td>\n",
       "    </tr>\n",
       "    <tr>\n",
       "      <th>1306</th>\n",
       "      <td>0.0</td>\n",
       "      <td>0.0</td>\n",
       "      <td>1.0</td>\n",
       "      <td>1.0</td>\n",
       "      <td>0.0</td>\n",
       "      <td>1.0</td>\n",
       "      <td>0.0</td>\n",
       "      <td>0.0</td>\n",
       "      <td>0.0</td>\n",
       "      <td>0.0</td>\n",
       "      <td>...</td>\n",
       "      <td>0.0</td>\n",
       "      <td>1.0</td>\n",
       "      <td>0.0</td>\n",
       "      <td>0.0</td>\n",
       "      <td>0.0</td>\n",
       "      <td>0.0</td>\n",
       "      <td>1.0</td>\n",
       "      <td>0.0</td>\n",
       "      <td>0.0</td>\n",
       "      <td>NaN</td>\n",
       "    </tr>\n",
       "    <tr>\n",
       "      <th>1307</th>\n",
       "      <td>0.0</td>\n",
       "      <td>0.0</td>\n",
       "      <td>1.0</td>\n",
       "      <td>1.0</td>\n",
       "      <td>0.0</td>\n",
       "      <td>1.0</td>\n",
       "      <td>0.0</td>\n",
       "      <td>0.0</td>\n",
       "      <td>0.0</td>\n",
       "      <td>0.0</td>\n",
       "      <td>...</td>\n",
       "      <td>0.0</td>\n",
       "      <td>1.0</td>\n",
       "      <td>0.0</td>\n",
       "      <td>0.0</td>\n",
       "      <td>0.0</td>\n",
       "      <td>0.0</td>\n",
       "      <td>1.0</td>\n",
       "      <td>0.0</td>\n",
       "      <td>0.0</td>\n",
       "      <td>NaN</td>\n",
       "    </tr>\n",
       "    <tr>\n",
       "      <th>1308</th>\n",
       "      <td>0.0</td>\n",
       "      <td>0.0</td>\n",
       "      <td>1.0</td>\n",
       "      <td>1.0</td>\n",
       "      <td>0.0</td>\n",
       "      <td>0.0</td>\n",
       "      <td>1.0</td>\n",
       "      <td>0.0</td>\n",
       "      <td>0.0</td>\n",
       "      <td>0.0</td>\n",
       "      <td>...</td>\n",
       "      <td>0.0</td>\n",
       "      <td>0.0</td>\n",
       "      <td>0.0</td>\n",
       "      <td>1.0</td>\n",
       "      <td>0.0</td>\n",
       "      <td>0.0</td>\n",
       "      <td>1.0</td>\n",
       "      <td>0.0</td>\n",
       "      <td>0.0</td>\n",
       "      <td>NaN</td>\n",
       "    </tr>\n",
       "  </tbody>\n",
       "</table>\n",
       "<p>420 rows × 29 columns</p>\n",
       "</div>"
      ],
      "text/plain": [
       "      Pclass_1  Pclass_2  Pclass_3  Sex_0  Sex_1  SibSp_0  SibSp_1  SibSp_2  \\\n",
       "889        1.0       0.0       0.0    1.0    0.0      1.0      0.0      0.0   \n",
       "890        0.0       0.0       1.0    1.0    0.0      1.0      0.0      0.0   \n",
       "891        0.0       0.0       1.0    1.0    0.0      1.0      0.0      0.0   \n",
       "892        0.0       0.0       1.0    0.0    1.0      0.0      1.0      0.0   \n",
       "893        0.0       1.0       0.0    1.0    0.0      1.0      0.0      0.0   \n",
       "...        ...       ...       ...    ...    ...      ...      ...      ...   \n",
       "1304       0.0       0.0       1.0    1.0    0.0      1.0      0.0      0.0   \n",
       "1305       1.0       0.0       0.0    0.0    1.0      1.0      0.0      0.0   \n",
       "1306       0.0       0.0       1.0    1.0    0.0      1.0      0.0      0.0   \n",
       "1307       0.0       0.0       1.0    1.0    0.0      1.0      0.0      0.0   \n",
       "1308       0.0       0.0       1.0    1.0    0.0      0.0      1.0      0.0   \n",
       "\n",
       "      SibSp_3  SibSp_4  ...  Parch_9  Embarked_0.0  Embarked_1.0  \\\n",
       "889       0.0      0.0  ...      0.0           0.0           0.0   \n",
       "890       0.0      0.0  ...      0.0           0.0           1.0   \n",
       "891       0.0      0.0  ...      0.0           0.0           1.0   \n",
       "892       0.0      0.0  ...      0.0           1.0           0.0   \n",
       "893       0.0      0.0  ...      0.0           0.0           1.0   \n",
       "...       ...      ...  ...      ...           ...           ...   \n",
       "1304      0.0      0.0  ...      0.0           1.0           0.0   \n",
       "1305      0.0      0.0  ...      0.0           0.0           0.0   \n",
       "1306      0.0      0.0  ...      0.0           1.0           0.0   \n",
       "1307      0.0      0.0  ...      0.0           1.0           0.0   \n",
       "1308      0.0      0.0  ...      0.0           0.0           0.0   \n",
       "\n",
       "      Embarked_2.0  Age_imputated_0.0  Age_imputated_1.0  Age_imputated_2.0  \\\n",
       "889            1.0                0.0                1.0                0.0   \n",
       "890            0.0                0.0                1.0                0.0   \n",
       "891            0.0                0.0                0.0                1.0   \n",
       "892            0.0                0.0                0.0                1.0   \n",
       "893            0.0                0.0                0.0                0.0   \n",
       "...            ...                ...                ...                ...   \n",
       "1304           0.0                0.0                0.0                1.0   \n",
       "1305           1.0                0.0                0.0                1.0   \n",
       "1306           0.0                0.0                0.0                1.0   \n",
       "1307           0.0                0.0                0.0                1.0   \n",
       "1308           1.0                0.0                0.0                1.0   \n",
       "\n",
       "      Age_imputated_3.0  Age_imputated_4.0  Survived  \n",
       "889                 0.0                0.0       1.0  \n",
       "890                 0.0                0.0       0.0  \n",
       "891                 0.0                0.0       NaN  \n",
       "892                 0.0                0.0       NaN  \n",
       "893                 1.0                0.0       NaN  \n",
       "...                 ...                ...       ...  \n",
       "1304                0.0                0.0       NaN  \n",
       "1305                0.0                0.0       NaN  \n",
       "1306                0.0                0.0       NaN  \n",
       "1307                0.0                0.0       NaN  \n",
       "1308                0.0                0.0       NaN  \n",
       "\n",
       "[420 rows x 29 columns]"
      ]
     },
     "execution_count": 176,
     "metadata": {},
     "output_type": "execute_result"
    }
   ],
   "source": [
    "df_onehotencoded.iloc[len(train):,:] "
   ]
  },
  {
   "cell_type": "code",
   "execution_count": 177,
   "metadata": {
    "execution": {
     "iopub.execute_input": "2023-11-22T16:15:28.266985Z",
     "iopub.status.busy": "2023-11-22T16:15:28.266624Z",
     "iopub.status.idle": "2023-11-22T16:15:28.272671Z",
     "shell.execute_reply": "2023-11-22T16:15:28.271263Z",
     "shell.execute_reply.started": "2023-11-22T16:15:28.266956Z"
    }
   },
   "outputs": [],
   "source": [
    "test = df_onehotencoded.iloc[train_len:,:] "
   ]
  },
  {
   "cell_type": "code",
   "execution_count": 178,
   "metadata": {
    "execution": {
     "iopub.execute_input": "2023-11-22T16:15:28.275353Z",
     "iopub.status.busy": "2023-11-22T16:15:28.274830Z",
     "iopub.status.idle": "2023-11-22T16:15:28.331004Z",
     "shell.execute_reply": "2023-11-22T16:15:28.329835Z",
     "shell.execute_reply.started": "2023-11-22T16:15:28.275264Z"
    }
   },
   "outputs": [
    {
     "data": {
      "text/html": [
       "<div>\n",
       "<style scoped>\n",
       "    .dataframe tbody tr th:only-of-type {\n",
       "        vertical-align: middle;\n",
       "    }\n",
       "\n",
       "    .dataframe tbody tr th {\n",
       "        vertical-align: top;\n",
       "    }\n",
       "\n",
       "    .dataframe thead th {\n",
       "        text-align: right;\n",
       "    }\n",
       "</style>\n",
       "<table border=\"1\" class=\"dataframe\">\n",
       "  <thead>\n",
       "    <tr style=\"text-align: right;\">\n",
       "      <th></th>\n",
       "      <th>Pclass_1</th>\n",
       "      <th>Pclass_2</th>\n",
       "      <th>Pclass_3</th>\n",
       "      <th>Sex_0</th>\n",
       "      <th>Sex_1</th>\n",
       "      <th>SibSp_0</th>\n",
       "      <th>SibSp_1</th>\n",
       "      <th>SibSp_2</th>\n",
       "      <th>SibSp_3</th>\n",
       "      <th>SibSp_4</th>\n",
       "      <th>...</th>\n",
       "      <th>Parch_9</th>\n",
       "      <th>Embarked_0.0</th>\n",
       "      <th>Embarked_1.0</th>\n",
       "      <th>Embarked_2.0</th>\n",
       "      <th>Age_imputated_0.0</th>\n",
       "      <th>Age_imputated_1.0</th>\n",
       "      <th>Age_imputated_2.0</th>\n",
       "      <th>Age_imputated_3.0</th>\n",
       "      <th>Age_imputated_4.0</th>\n",
       "      <th>Survived</th>\n",
       "    </tr>\n",
       "  </thead>\n",
       "  <tbody>\n",
       "    <tr>\n",
       "      <th>891</th>\n",
       "      <td>0.0</td>\n",
       "      <td>0.0</td>\n",
       "      <td>1.0</td>\n",
       "      <td>1.0</td>\n",
       "      <td>0.0</td>\n",
       "      <td>1.0</td>\n",
       "      <td>0.0</td>\n",
       "      <td>0.0</td>\n",
       "      <td>0.0</td>\n",
       "      <td>0.0</td>\n",
       "      <td>...</td>\n",
       "      <td>0.0</td>\n",
       "      <td>0.0</td>\n",
       "      <td>1.0</td>\n",
       "      <td>0.0</td>\n",
       "      <td>0.0</td>\n",
       "      <td>0.0</td>\n",
       "      <td>1.0</td>\n",
       "      <td>0.0</td>\n",
       "      <td>0.0</td>\n",
       "      <td>NaN</td>\n",
       "    </tr>\n",
       "    <tr>\n",
       "      <th>892</th>\n",
       "      <td>0.0</td>\n",
       "      <td>0.0</td>\n",
       "      <td>1.0</td>\n",
       "      <td>0.0</td>\n",
       "      <td>1.0</td>\n",
       "      <td>0.0</td>\n",
       "      <td>1.0</td>\n",
       "      <td>0.0</td>\n",
       "      <td>0.0</td>\n",
       "      <td>0.0</td>\n",
       "      <td>...</td>\n",
       "      <td>0.0</td>\n",
       "      <td>1.0</td>\n",
       "      <td>0.0</td>\n",
       "      <td>0.0</td>\n",
       "      <td>0.0</td>\n",
       "      <td>0.0</td>\n",
       "      <td>1.0</td>\n",
       "      <td>0.0</td>\n",
       "      <td>0.0</td>\n",
       "      <td>NaN</td>\n",
       "    </tr>\n",
       "    <tr>\n",
       "      <th>893</th>\n",
       "      <td>0.0</td>\n",
       "      <td>1.0</td>\n",
       "      <td>0.0</td>\n",
       "      <td>1.0</td>\n",
       "      <td>0.0</td>\n",
       "      <td>1.0</td>\n",
       "      <td>0.0</td>\n",
       "      <td>0.0</td>\n",
       "      <td>0.0</td>\n",
       "      <td>0.0</td>\n",
       "      <td>...</td>\n",
       "      <td>0.0</td>\n",
       "      <td>0.0</td>\n",
       "      <td>1.0</td>\n",
       "      <td>0.0</td>\n",
       "      <td>0.0</td>\n",
       "      <td>0.0</td>\n",
       "      <td>0.0</td>\n",
       "      <td>1.0</td>\n",
       "      <td>0.0</td>\n",
       "      <td>NaN</td>\n",
       "    </tr>\n",
       "    <tr>\n",
       "      <th>894</th>\n",
       "      <td>0.0</td>\n",
       "      <td>0.0</td>\n",
       "      <td>1.0</td>\n",
       "      <td>1.0</td>\n",
       "      <td>0.0</td>\n",
       "      <td>1.0</td>\n",
       "      <td>0.0</td>\n",
       "      <td>0.0</td>\n",
       "      <td>0.0</td>\n",
       "      <td>0.0</td>\n",
       "      <td>...</td>\n",
       "      <td>0.0</td>\n",
       "      <td>1.0</td>\n",
       "      <td>0.0</td>\n",
       "      <td>0.0</td>\n",
       "      <td>0.0</td>\n",
       "      <td>1.0</td>\n",
       "      <td>0.0</td>\n",
       "      <td>0.0</td>\n",
       "      <td>0.0</td>\n",
       "      <td>NaN</td>\n",
       "    </tr>\n",
       "    <tr>\n",
       "      <th>895</th>\n",
       "      <td>0.0</td>\n",
       "      <td>0.0</td>\n",
       "      <td>1.0</td>\n",
       "      <td>0.0</td>\n",
       "      <td>1.0</td>\n",
       "      <td>0.0</td>\n",
       "      <td>1.0</td>\n",
       "      <td>0.0</td>\n",
       "      <td>0.0</td>\n",
       "      <td>0.0</td>\n",
       "      <td>...</td>\n",
       "      <td>0.0</td>\n",
       "      <td>1.0</td>\n",
       "      <td>0.0</td>\n",
       "      <td>0.0</td>\n",
       "      <td>0.0</td>\n",
       "      <td>1.0</td>\n",
       "      <td>0.0</td>\n",
       "      <td>0.0</td>\n",
       "      <td>0.0</td>\n",
       "      <td>NaN</td>\n",
       "    </tr>\n",
       "    <tr>\n",
       "      <th>...</th>\n",
       "      <td>...</td>\n",
       "      <td>...</td>\n",
       "      <td>...</td>\n",
       "      <td>...</td>\n",
       "      <td>...</td>\n",
       "      <td>...</td>\n",
       "      <td>...</td>\n",
       "      <td>...</td>\n",
       "      <td>...</td>\n",
       "      <td>...</td>\n",
       "      <td>...</td>\n",
       "      <td>...</td>\n",
       "      <td>...</td>\n",
       "      <td>...</td>\n",
       "      <td>...</td>\n",
       "      <td>...</td>\n",
       "      <td>...</td>\n",
       "      <td>...</td>\n",
       "      <td>...</td>\n",
       "      <td>...</td>\n",
       "      <td>...</td>\n",
       "    </tr>\n",
       "    <tr>\n",
       "      <th>1304</th>\n",
       "      <td>0.0</td>\n",
       "      <td>0.0</td>\n",
       "      <td>1.0</td>\n",
       "      <td>1.0</td>\n",
       "      <td>0.0</td>\n",
       "      <td>1.0</td>\n",
       "      <td>0.0</td>\n",
       "      <td>0.0</td>\n",
       "      <td>0.0</td>\n",
       "      <td>0.0</td>\n",
       "      <td>...</td>\n",
       "      <td>0.0</td>\n",
       "      <td>1.0</td>\n",
       "      <td>0.0</td>\n",
       "      <td>0.0</td>\n",
       "      <td>0.0</td>\n",
       "      <td>0.0</td>\n",
       "      <td>1.0</td>\n",
       "      <td>0.0</td>\n",
       "      <td>0.0</td>\n",
       "      <td>NaN</td>\n",
       "    </tr>\n",
       "    <tr>\n",
       "      <th>1305</th>\n",
       "      <td>1.0</td>\n",
       "      <td>0.0</td>\n",
       "      <td>0.0</td>\n",
       "      <td>0.0</td>\n",
       "      <td>1.0</td>\n",
       "      <td>1.0</td>\n",
       "      <td>0.0</td>\n",
       "      <td>0.0</td>\n",
       "      <td>0.0</td>\n",
       "      <td>0.0</td>\n",
       "      <td>...</td>\n",
       "      <td>0.0</td>\n",
       "      <td>0.0</td>\n",
       "      <td>0.0</td>\n",
       "      <td>1.0</td>\n",
       "      <td>0.0</td>\n",
       "      <td>0.0</td>\n",
       "      <td>1.0</td>\n",
       "      <td>0.0</td>\n",
       "      <td>0.0</td>\n",
       "      <td>NaN</td>\n",
       "    </tr>\n",
       "    <tr>\n",
       "      <th>1306</th>\n",
       "      <td>0.0</td>\n",
       "      <td>0.0</td>\n",
       "      <td>1.0</td>\n",
       "      <td>1.0</td>\n",
       "      <td>0.0</td>\n",
       "      <td>1.0</td>\n",
       "      <td>0.0</td>\n",
       "      <td>0.0</td>\n",
       "      <td>0.0</td>\n",
       "      <td>0.0</td>\n",
       "      <td>...</td>\n",
       "      <td>0.0</td>\n",
       "      <td>1.0</td>\n",
       "      <td>0.0</td>\n",
       "      <td>0.0</td>\n",
       "      <td>0.0</td>\n",
       "      <td>0.0</td>\n",
       "      <td>1.0</td>\n",
       "      <td>0.0</td>\n",
       "      <td>0.0</td>\n",
       "      <td>NaN</td>\n",
       "    </tr>\n",
       "    <tr>\n",
       "      <th>1307</th>\n",
       "      <td>0.0</td>\n",
       "      <td>0.0</td>\n",
       "      <td>1.0</td>\n",
       "      <td>1.0</td>\n",
       "      <td>0.0</td>\n",
       "      <td>1.0</td>\n",
       "      <td>0.0</td>\n",
       "      <td>0.0</td>\n",
       "      <td>0.0</td>\n",
       "      <td>0.0</td>\n",
       "      <td>...</td>\n",
       "      <td>0.0</td>\n",
       "      <td>1.0</td>\n",
       "      <td>0.0</td>\n",
       "      <td>0.0</td>\n",
       "      <td>0.0</td>\n",
       "      <td>0.0</td>\n",
       "      <td>1.0</td>\n",
       "      <td>0.0</td>\n",
       "      <td>0.0</td>\n",
       "      <td>NaN</td>\n",
       "    </tr>\n",
       "    <tr>\n",
       "      <th>1308</th>\n",
       "      <td>0.0</td>\n",
       "      <td>0.0</td>\n",
       "      <td>1.0</td>\n",
       "      <td>1.0</td>\n",
       "      <td>0.0</td>\n",
       "      <td>0.0</td>\n",
       "      <td>1.0</td>\n",
       "      <td>0.0</td>\n",
       "      <td>0.0</td>\n",
       "      <td>0.0</td>\n",
       "      <td>...</td>\n",
       "      <td>0.0</td>\n",
       "      <td>0.0</td>\n",
       "      <td>0.0</td>\n",
       "      <td>1.0</td>\n",
       "      <td>0.0</td>\n",
       "      <td>0.0</td>\n",
       "      <td>1.0</td>\n",
       "      <td>0.0</td>\n",
       "      <td>0.0</td>\n",
       "      <td>NaN</td>\n",
       "    </tr>\n",
       "  </tbody>\n",
       "</table>\n",
       "<p>418 rows × 29 columns</p>\n",
       "</div>"
      ],
      "text/plain": [
       "      Pclass_1  Pclass_2  Pclass_3  Sex_0  Sex_1  SibSp_0  SibSp_1  SibSp_2  \\\n",
       "891        0.0       0.0       1.0    1.0    0.0      1.0      0.0      0.0   \n",
       "892        0.0       0.0       1.0    0.0    1.0      0.0      1.0      0.0   \n",
       "893        0.0       1.0       0.0    1.0    0.0      1.0      0.0      0.0   \n",
       "894        0.0       0.0       1.0    1.0    0.0      1.0      0.0      0.0   \n",
       "895        0.0       0.0       1.0    0.0    1.0      0.0      1.0      0.0   \n",
       "...        ...       ...       ...    ...    ...      ...      ...      ...   \n",
       "1304       0.0       0.0       1.0    1.0    0.0      1.0      0.0      0.0   \n",
       "1305       1.0       0.0       0.0    0.0    1.0      1.0      0.0      0.0   \n",
       "1306       0.0       0.0       1.0    1.0    0.0      1.0      0.0      0.0   \n",
       "1307       0.0       0.0       1.0    1.0    0.0      1.0      0.0      0.0   \n",
       "1308       0.0       0.0       1.0    1.0    0.0      0.0      1.0      0.0   \n",
       "\n",
       "      SibSp_3  SibSp_4  ...  Parch_9  Embarked_0.0  Embarked_1.0  \\\n",
       "891       0.0      0.0  ...      0.0           0.0           1.0   \n",
       "892       0.0      0.0  ...      0.0           1.0           0.0   \n",
       "893       0.0      0.0  ...      0.0           0.0           1.0   \n",
       "894       0.0      0.0  ...      0.0           1.0           0.0   \n",
       "895       0.0      0.0  ...      0.0           1.0           0.0   \n",
       "...       ...      ...  ...      ...           ...           ...   \n",
       "1304      0.0      0.0  ...      0.0           1.0           0.0   \n",
       "1305      0.0      0.0  ...      0.0           0.0           0.0   \n",
       "1306      0.0      0.0  ...      0.0           1.0           0.0   \n",
       "1307      0.0      0.0  ...      0.0           1.0           0.0   \n",
       "1308      0.0      0.0  ...      0.0           0.0           0.0   \n",
       "\n",
       "      Embarked_2.0  Age_imputated_0.0  Age_imputated_1.0  Age_imputated_2.0  \\\n",
       "891            0.0                0.0                0.0                1.0   \n",
       "892            0.0                0.0                0.0                1.0   \n",
       "893            0.0                0.0                0.0                0.0   \n",
       "894            0.0                0.0                1.0                0.0   \n",
       "895            0.0                0.0                1.0                0.0   \n",
       "...            ...                ...                ...                ...   \n",
       "1304           0.0                0.0                0.0                1.0   \n",
       "1305           1.0                0.0                0.0                1.0   \n",
       "1306           0.0                0.0                0.0                1.0   \n",
       "1307           0.0                0.0                0.0                1.0   \n",
       "1308           1.0                0.0                0.0                1.0   \n",
       "\n",
       "      Age_imputated_3.0  Age_imputated_4.0  Survived  \n",
       "891                 0.0                0.0       NaN  \n",
       "892                 0.0                0.0       NaN  \n",
       "893                 1.0                0.0       NaN  \n",
       "894                 0.0                0.0       NaN  \n",
       "895                 0.0                0.0       NaN  \n",
       "...                 ...                ...       ...  \n",
       "1304                0.0                0.0       NaN  \n",
       "1305                0.0                0.0       NaN  \n",
       "1306                0.0                0.0       NaN  \n",
       "1307                0.0                0.0       NaN  \n",
       "1308                0.0                0.0       NaN  \n",
       "\n",
       "[418 rows x 29 columns]"
      ]
     },
     "execution_count": 178,
     "metadata": {},
     "output_type": "execute_result"
    }
   ],
   "source": [
    "test"
   ]
  },
  {
   "cell_type": "code",
   "execution_count": 179,
   "metadata": {
    "execution": {
     "iopub.execute_input": "2023-11-22T16:15:28.332843Z",
     "iopub.status.busy": "2023-11-22T16:15:28.332521Z",
     "iopub.status.idle": "2023-11-22T16:15:28.340971Z",
     "shell.execute_reply": "2023-11-22T16:15:28.339687Z",
     "shell.execute_reply.started": "2023-11-22T16:15:28.332815Z"
    }
   },
   "outputs": [],
   "source": [
    "\n",
    "Xtest = test.loc[:,df_onehotencoded.columns != 'Survived']"
   ]
  },
  {
   "cell_type": "code",
   "execution_count": 182,
   "metadata": {
    "execution": {
     "iopub.execute_input": "2023-11-22T16:16:57.579252Z",
     "iopub.status.busy": "2023-11-22T16:16:57.578853Z",
     "iopub.status.idle": "2023-11-22T16:16:57.630601Z",
     "shell.execute_reply": "2023-11-22T16:16:57.629368Z",
     "shell.execute_reply.started": "2023-11-22T16:16:57.579222Z"
    }
   },
   "outputs": [
    {
     "data": {
      "text/html": [
       "<div>\n",
       "<style scoped>\n",
       "    .dataframe tbody tr th:only-of-type {\n",
       "        vertical-align: middle;\n",
       "    }\n",
       "\n",
       "    .dataframe tbody tr th {\n",
       "        vertical-align: top;\n",
       "    }\n",
       "\n",
       "    .dataframe thead th {\n",
       "        text-align: right;\n",
       "    }\n",
       "</style>\n",
       "<table border=\"1\" class=\"dataframe\">\n",
       "  <thead>\n",
       "    <tr style=\"text-align: right;\">\n",
       "      <th></th>\n",
       "      <th>Pclass_1</th>\n",
       "      <th>Pclass_2</th>\n",
       "      <th>Pclass_3</th>\n",
       "      <th>Sex_0</th>\n",
       "      <th>Sex_1</th>\n",
       "      <th>SibSp_0</th>\n",
       "      <th>SibSp_1</th>\n",
       "      <th>SibSp_2</th>\n",
       "      <th>SibSp_3</th>\n",
       "      <th>SibSp_4</th>\n",
       "      <th>...</th>\n",
       "      <th>Parch_6</th>\n",
       "      <th>Parch_9</th>\n",
       "      <th>Embarked_0.0</th>\n",
       "      <th>Embarked_1.0</th>\n",
       "      <th>Embarked_2.0</th>\n",
       "      <th>Age_imputated_0.0</th>\n",
       "      <th>Age_imputated_1.0</th>\n",
       "      <th>Age_imputated_2.0</th>\n",
       "      <th>Age_imputated_3.0</th>\n",
       "      <th>Age_imputated_4.0</th>\n",
       "    </tr>\n",
       "  </thead>\n",
       "  <tbody>\n",
       "    <tr>\n",
       "      <th>891</th>\n",
       "      <td>0.0</td>\n",
       "      <td>0.0</td>\n",
       "      <td>1.0</td>\n",
       "      <td>1.0</td>\n",
       "      <td>0.0</td>\n",
       "      <td>1.0</td>\n",
       "      <td>0.0</td>\n",
       "      <td>0.0</td>\n",
       "      <td>0.0</td>\n",
       "      <td>0.0</td>\n",
       "      <td>...</td>\n",
       "      <td>0.0</td>\n",
       "      <td>0.0</td>\n",
       "      <td>0.0</td>\n",
       "      <td>1.0</td>\n",
       "      <td>0.0</td>\n",
       "      <td>0.0</td>\n",
       "      <td>0.0</td>\n",
       "      <td>1.0</td>\n",
       "      <td>0.0</td>\n",
       "      <td>0.0</td>\n",
       "    </tr>\n",
       "    <tr>\n",
       "      <th>892</th>\n",
       "      <td>0.0</td>\n",
       "      <td>0.0</td>\n",
       "      <td>1.0</td>\n",
       "      <td>0.0</td>\n",
       "      <td>1.0</td>\n",
       "      <td>0.0</td>\n",
       "      <td>1.0</td>\n",
       "      <td>0.0</td>\n",
       "      <td>0.0</td>\n",
       "      <td>0.0</td>\n",
       "      <td>...</td>\n",
       "      <td>0.0</td>\n",
       "      <td>0.0</td>\n",
       "      <td>1.0</td>\n",
       "      <td>0.0</td>\n",
       "      <td>0.0</td>\n",
       "      <td>0.0</td>\n",
       "      <td>0.0</td>\n",
       "      <td>1.0</td>\n",
       "      <td>0.0</td>\n",
       "      <td>0.0</td>\n",
       "    </tr>\n",
       "    <tr>\n",
       "      <th>893</th>\n",
       "      <td>0.0</td>\n",
       "      <td>1.0</td>\n",
       "      <td>0.0</td>\n",
       "      <td>1.0</td>\n",
       "      <td>0.0</td>\n",
       "      <td>1.0</td>\n",
       "      <td>0.0</td>\n",
       "      <td>0.0</td>\n",
       "      <td>0.0</td>\n",
       "      <td>0.0</td>\n",
       "      <td>...</td>\n",
       "      <td>0.0</td>\n",
       "      <td>0.0</td>\n",
       "      <td>0.0</td>\n",
       "      <td>1.0</td>\n",
       "      <td>0.0</td>\n",
       "      <td>0.0</td>\n",
       "      <td>0.0</td>\n",
       "      <td>0.0</td>\n",
       "      <td>1.0</td>\n",
       "      <td>0.0</td>\n",
       "    </tr>\n",
       "    <tr>\n",
       "      <th>894</th>\n",
       "      <td>0.0</td>\n",
       "      <td>0.0</td>\n",
       "      <td>1.0</td>\n",
       "      <td>1.0</td>\n",
       "      <td>0.0</td>\n",
       "      <td>1.0</td>\n",
       "      <td>0.0</td>\n",
       "      <td>0.0</td>\n",
       "      <td>0.0</td>\n",
       "      <td>0.0</td>\n",
       "      <td>...</td>\n",
       "      <td>0.0</td>\n",
       "      <td>0.0</td>\n",
       "      <td>1.0</td>\n",
       "      <td>0.0</td>\n",
       "      <td>0.0</td>\n",
       "      <td>0.0</td>\n",
       "      <td>1.0</td>\n",
       "      <td>0.0</td>\n",
       "      <td>0.0</td>\n",
       "      <td>0.0</td>\n",
       "    </tr>\n",
       "    <tr>\n",
       "      <th>895</th>\n",
       "      <td>0.0</td>\n",
       "      <td>0.0</td>\n",
       "      <td>1.0</td>\n",
       "      <td>0.0</td>\n",
       "      <td>1.0</td>\n",
       "      <td>0.0</td>\n",
       "      <td>1.0</td>\n",
       "      <td>0.0</td>\n",
       "      <td>0.0</td>\n",
       "      <td>0.0</td>\n",
       "      <td>...</td>\n",
       "      <td>0.0</td>\n",
       "      <td>0.0</td>\n",
       "      <td>1.0</td>\n",
       "      <td>0.0</td>\n",
       "      <td>0.0</td>\n",
       "      <td>0.0</td>\n",
       "      <td>1.0</td>\n",
       "      <td>0.0</td>\n",
       "      <td>0.0</td>\n",
       "      <td>0.0</td>\n",
       "    </tr>\n",
       "    <tr>\n",
       "      <th>...</th>\n",
       "      <td>...</td>\n",
       "      <td>...</td>\n",
       "      <td>...</td>\n",
       "      <td>...</td>\n",
       "      <td>...</td>\n",
       "      <td>...</td>\n",
       "      <td>...</td>\n",
       "      <td>...</td>\n",
       "      <td>...</td>\n",
       "      <td>...</td>\n",
       "      <td>...</td>\n",
       "      <td>...</td>\n",
       "      <td>...</td>\n",
       "      <td>...</td>\n",
       "      <td>...</td>\n",
       "      <td>...</td>\n",
       "      <td>...</td>\n",
       "      <td>...</td>\n",
       "      <td>...</td>\n",
       "      <td>...</td>\n",
       "      <td>...</td>\n",
       "    </tr>\n",
       "    <tr>\n",
       "      <th>1304</th>\n",
       "      <td>0.0</td>\n",
       "      <td>0.0</td>\n",
       "      <td>1.0</td>\n",
       "      <td>1.0</td>\n",
       "      <td>0.0</td>\n",
       "      <td>1.0</td>\n",
       "      <td>0.0</td>\n",
       "      <td>0.0</td>\n",
       "      <td>0.0</td>\n",
       "      <td>0.0</td>\n",
       "      <td>...</td>\n",
       "      <td>0.0</td>\n",
       "      <td>0.0</td>\n",
       "      <td>1.0</td>\n",
       "      <td>0.0</td>\n",
       "      <td>0.0</td>\n",
       "      <td>0.0</td>\n",
       "      <td>0.0</td>\n",
       "      <td>1.0</td>\n",
       "      <td>0.0</td>\n",
       "      <td>0.0</td>\n",
       "    </tr>\n",
       "    <tr>\n",
       "      <th>1305</th>\n",
       "      <td>1.0</td>\n",
       "      <td>0.0</td>\n",
       "      <td>0.0</td>\n",
       "      <td>0.0</td>\n",
       "      <td>1.0</td>\n",
       "      <td>1.0</td>\n",
       "      <td>0.0</td>\n",
       "      <td>0.0</td>\n",
       "      <td>0.0</td>\n",
       "      <td>0.0</td>\n",
       "      <td>...</td>\n",
       "      <td>0.0</td>\n",
       "      <td>0.0</td>\n",
       "      <td>0.0</td>\n",
       "      <td>0.0</td>\n",
       "      <td>1.0</td>\n",
       "      <td>0.0</td>\n",
       "      <td>0.0</td>\n",
       "      <td>1.0</td>\n",
       "      <td>0.0</td>\n",
       "      <td>0.0</td>\n",
       "    </tr>\n",
       "    <tr>\n",
       "      <th>1306</th>\n",
       "      <td>0.0</td>\n",
       "      <td>0.0</td>\n",
       "      <td>1.0</td>\n",
       "      <td>1.0</td>\n",
       "      <td>0.0</td>\n",
       "      <td>1.0</td>\n",
       "      <td>0.0</td>\n",
       "      <td>0.0</td>\n",
       "      <td>0.0</td>\n",
       "      <td>0.0</td>\n",
       "      <td>...</td>\n",
       "      <td>0.0</td>\n",
       "      <td>0.0</td>\n",
       "      <td>1.0</td>\n",
       "      <td>0.0</td>\n",
       "      <td>0.0</td>\n",
       "      <td>0.0</td>\n",
       "      <td>0.0</td>\n",
       "      <td>1.0</td>\n",
       "      <td>0.0</td>\n",
       "      <td>0.0</td>\n",
       "    </tr>\n",
       "    <tr>\n",
       "      <th>1307</th>\n",
       "      <td>0.0</td>\n",
       "      <td>0.0</td>\n",
       "      <td>1.0</td>\n",
       "      <td>1.0</td>\n",
       "      <td>0.0</td>\n",
       "      <td>1.0</td>\n",
       "      <td>0.0</td>\n",
       "      <td>0.0</td>\n",
       "      <td>0.0</td>\n",
       "      <td>0.0</td>\n",
       "      <td>...</td>\n",
       "      <td>0.0</td>\n",
       "      <td>0.0</td>\n",
       "      <td>1.0</td>\n",
       "      <td>0.0</td>\n",
       "      <td>0.0</td>\n",
       "      <td>0.0</td>\n",
       "      <td>0.0</td>\n",
       "      <td>1.0</td>\n",
       "      <td>0.0</td>\n",
       "      <td>0.0</td>\n",
       "    </tr>\n",
       "    <tr>\n",
       "      <th>1308</th>\n",
       "      <td>0.0</td>\n",
       "      <td>0.0</td>\n",
       "      <td>1.0</td>\n",
       "      <td>1.0</td>\n",
       "      <td>0.0</td>\n",
       "      <td>0.0</td>\n",
       "      <td>1.0</td>\n",
       "      <td>0.0</td>\n",
       "      <td>0.0</td>\n",
       "      <td>0.0</td>\n",
       "      <td>...</td>\n",
       "      <td>0.0</td>\n",
       "      <td>0.0</td>\n",
       "      <td>0.0</td>\n",
       "      <td>0.0</td>\n",
       "      <td>1.0</td>\n",
       "      <td>0.0</td>\n",
       "      <td>0.0</td>\n",
       "      <td>1.0</td>\n",
       "      <td>0.0</td>\n",
       "      <td>0.0</td>\n",
       "    </tr>\n",
       "  </tbody>\n",
       "</table>\n",
       "<p>418 rows × 28 columns</p>\n",
       "</div>"
      ],
      "text/plain": [
       "      Pclass_1  Pclass_2  Pclass_3  Sex_0  Sex_1  SibSp_0  SibSp_1  SibSp_2  \\\n",
       "891        0.0       0.0       1.0    1.0    0.0      1.0      0.0      0.0   \n",
       "892        0.0       0.0       1.0    0.0    1.0      0.0      1.0      0.0   \n",
       "893        0.0       1.0       0.0    1.0    0.0      1.0      0.0      0.0   \n",
       "894        0.0       0.0       1.0    1.0    0.0      1.0      0.0      0.0   \n",
       "895        0.0       0.0       1.0    0.0    1.0      0.0      1.0      0.0   \n",
       "...        ...       ...       ...    ...    ...      ...      ...      ...   \n",
       "1304       0.0       0.0       1.0    1.0    0.0      1.0      0.0      0.0   \n",
       "1305       1.0       0.0       0.0    0.0    1.0      1.0      0.0      0.0   \n",
       "1306       0.0       0.0       1.0    1.0    0.0      1.0      0.0      0.0   \n",
       "1307       0.0       0.0       1.0    1.0    0.0      1.0      0.0      0.0   \n",
       "1308       0.0       0.0       1.0    1.0    0.0      0.0      1.0      0.0   \n",
       "\n",
       "      SibSp_3  SibSp_4  ...  Parch_6  Parch_9  Embarked_0.0  Embarked_1.0  \\\n",
       "891       0.0      0.0  ...      0.0      0.0           0.0           1.0   \n",
       "892       0.0      0.0  ...      0.0      0.0           1.0           0.0   \n",
       "893       0.0      0.0  ...      0.0      0.0           0.0           1.0   \n",
       "894       0.0      0.0  ...      0.0      0.0           1.0           0.0   \n",
       "895       0.0      0.0  ...      0.0      0.0           1.0           0.0   \n",
       "...       ...      ...  ...      ...      ...           ...           ...   \n",
       "1304      0.0      0.0  ...      0.0      0.0           1.0           0.0   \n",
       "1305      0.0      0.0  ...      0.0      0.0           0.0           0.0   \n",
       "1306      0.0      0.0  ...      0.0      0.0           1.0           0.0   \n",
       "1307      0.0      0.0  ...      0.0      0.0           1.0           0.0   \n",
       "1308      0.0      0.0  ...      0.0      0.0           0.0           0.0   \n",
       "\n",
       "      Embarked_2.0  Age_imputated_0.0  Age_imputated_1.0  Age_imputated_2.0  \\\n",
       "891            0.0                0.0                0.0                1.0   \n",
       "892            0.0                0.0                0.0                1.0   \n",
       "893            0.0                0.0                0.0                0.0   \n",
       "894            0.0                0.0                1.0                0.0   \n",
       "895            0.0                0.0                1.0                0.0   \n",
       "...            ...                ...                ...                ...   \n",
       "1304           0.0                0.0                0.0                1.0   \n",
       "1305           1.0                0.0                0.0                1.0   \n",
       "1306           0.0                0.0                0.0                1.0   \n",
       "1307           0.0                0.0                0.0                1.0   \n",
       "1308           1.0                0.0                0.0                1.0   \n",
       "\n",
       "      Age_imputated_3.0  Age_imputated_4.0  \n",
       "891                 0.0                0.0  \n",
       "892                 0.0                0.0  \n",
       "893                 1.0                0.0  \n",
       "894                 0.0                0.0  \n",
       "895                 0.0                0.0  \n",
       "...                 ...                ...  \n",
       "1304                0.0                0.0  \n",
       "1305                0.0                0.0  \n",
       "1306                0.0                0.0  \n",
       "1307                0.0                0.0  \n",
       "1308                0.0                0.0  \n",
       "\n",
       "[418 rows x 28 columns]"
      ]
     },
     "execution_count": 182,
     "metadata": {},
     "output_type": "execute_result"
    }
   ],
   "source": [
    "Xtest"
   ]
  },
  {
   "cell_type": "code",
   "execution_count": 186,
   "metadata": {
    "execution": {
     "iopub.execute_input": "2023-11-22T16:17:49.260983Z",
     "iopub.status.busy": "2023-11-22T16:17:49.260586Z",
     "iopub.status.idle": "2023-11-22T16:17:49.386815Z",
     "shell.execute_reply": "2023-11-22T16:17:49.385663Z",
     "shell.execute_reply.started": "2023-11-22T16:17:49.260945Z"
    }
   },
   "outputs": [
    {
     "name": "stdout",
     "output_type": "stream",
     "text": [
      "14/14 [==============================] - 0s 2ms/step\n"
     ]
    }
   ],
   "source": [
    "predictions = history.model.predict(Xtest).round()"
   ]
  },
  {
   "cell_type": "code",
   "execution_count": 207,
   "metadata": {
    "execution": {
     "iopub.execute_input": "2023-11-22T16:21:56.759085Z",
     "iopub.status.busy": "2023-11-22T16:21:56.758623Z",
     "iopub.status.idle": "2023-11-22T16:21:56.765792Z",
     "shell.execute_reply": "2023-11-22T16:21:56.764362Z",
     "shell.execute_reply.started": "2023-11-22T16:21:56.759047Z"
    }
   },
   "outputs": [],
   "source": [
    "submission=pd.Series(index=Xtest.index,data=predictions.reshape(len(predictions)))"
   ]
  },
  {
   "cell_type": "code",
   "execution_count": 208,
   "metadata": {
    "execution": {
     "iopub.execute_input": "2023-11-22T16:21:57.893710Z",
     "iopub.status.busy": "2023-11-22T16:21:57.892977Z",
     "iopub.status.idle": "2023-11-22T16:21:57.910536Z",
     "shell.execute_reply": "2023-11-22T16:21:57.909216Z",
     "shell.execute_reply.started": "2023-11-22T16:21:57.893670Z"
    }
   },
   "outputs": [
    {
     "data": {
      "text/plain": [
       "891    0.0\n",
       "892    1.0\n",
       "893    0.0\n",
       "894    0.0\n",
       "895    0.0\n",
       "dtype: float32"
      ]
     },
     "execution_count": 208,
     "metadata": {},
     "output_type": "execute_result"
    }
   ],
   "source": [
    "print(submission) "
   ]
  }
 ],
 "metadata": {
  "kaggle": {
   "accelerator": "none",
   "dataSources": [
    {
     "databundleVersionId": 26502,
     "sourceId": 3136,
     "sourceType": "competition"
    }
   ],
   "dockerImageVersionId": 30513,
   "isGpuEnabled": false,
   "isInternetEnabled": true,
   "language": "python",
   "sourceType": "notebook"
  },
  "kernelspec": {
   "display_name": "Python 3 (ipykernel)",
   "language": "python",
   "name": "python3"
  },
  "language_info": {
   "codemirror_mode": {
    "name": "ipython",
    "version": 3
   },
   "file_extension": ".py",
   "mimetype": "text/x-python",
   "name": "python",
   "nbconvert_exporter": "python",
   "pygments_lexer": "ipython3",
   "version": "3.8.13"
  }
 },
 "nbformat": 4,
 "nbformat_minor": 4
}
